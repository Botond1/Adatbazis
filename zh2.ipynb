{
    "metadata": {
        "kernelspec": {
            "name": "SQL",
            "display_name": "SQL",
            "language": "sql"
        },
        "language_info": {
            "name": "sql",
            "version": ""
        }
    },
    "nbformat_minor": 2,
    "nbformat": 4,
    "cells": [
        {
            "cell_type": "markdown",
            "source": [
                "Készítsen lekérdezést, amely megjeleníti, hogy szobánként (SZOBA\\_FK) hány olyan foglalás történt, ahol a felnőttek száma nagyobb volt a gyermekek számánál!\n",
                "\n",
                "a. A lekérdezés jelenítse meg a végösszeget is megfelelően jelölve!"
            ],
            "metadata": {
                "azdata_cell_guid": "6eada898-6196-49b6-a097-7f4f59129ead"
            },
            "attachments": {}
        },
        {
            "cell_type": "code",
            "source": [
                "SELECT IIF(SZOBA_FK IS NULL, 'Végösszeg', SZOBA_FK) AS 'Szobaszam', COUNT(*) AS 'Foglalások száma ahol több a felnőtt mint gyerek'\r\n",
                "FROM Foglalas\r\n",
                "WHERE FELNOTT_SZAM > GYERMEK_SZAM\r\n",
                "GROUP BY ROLLUP(SZOBA_FK)"
            ],
            "metadata": {
                "azdata_cell_guid": "66ba6375-a66e-4745-966d-9c92ddd2ae4f",
                "language": "sql"
            },
            "outputs": [
                {
                    "output_type": "display_data",
                    "data": {
                        "text/html": "Total execution time: 00:00:00.012"
                    },
                    "metadata": {}
                },
                {
                    "output_type": "execute_result",
                    "metadata": {},
                    "execution_count": 14,
                    "data": {
                        "application/vnd.dataresource+json": {
                            "schema": {
                                "fields": [
                                    {
                                        "name": "Szobaszam"
                                    },
                                    {
                                        "name": "Foglalások száma ahol több a felnőtt mint gyerek"
                                    }
                                ]
                            },
                            "data": [
                                {
                                    "Szobaszam": "1",
                                    "Foglalások száma ahol több a felnőtt mint gyerek": "7"
                                },
                                {
                                    "Szobaszam": "2",
                                    "Foglalások száma ahol több a felnőtt mint gyerek": "2"
                                },
                                {
                                    "Szobaszam": "3",
                                    "Foglalások száma ahol több a felnőtt mint gyerek": "3"
                                },
                                {
                                    "Szobaszam": "4",
                                    "Foglalások száma ahol több a felnőtt mint gyerek": "5"
                                },
                                {
                                    "Szobaszam": "5",
                                    "Foglalások száma ahol több a felnőtt mint gyerek": "2"
                                },
                                {
                                    "Szobaszam": "6",
                                    "Foglalások száma ahol több a felnőtt mint gyerek": "5"
                                },
                                {
                                    "Szobaszam": "7",
                                    "Foglalások száma ahol több a felnőtt mint gyerek": "6"
                                },
                                {
                                    "Szobaszam": "8",
                                    "Foglalások száma ahol több a felnőtt mint gyerek": "5"
                                },
                                {
                                    "Szobaszam": "9",
                                    "Foglalások száma ahol több a felnőtt mint gyerek": "4"
                                },
                                {
                                    "Szobaszam": "10",
                                    "Foglalások száma ahol több a felnőtt mint gyerek": "4"
                                },
                                {
                                    "Szobaszam": "11",
                                    "Foglalások száma ahol több a felnőtt mint gyerek": "4"
                                },
                                {
                                    "Szobaszam": "12",
                                    "Foglalások száma ahol több a felnőtt mint gyerek": "7"
                                },
                                {
                                    "Szobaszam": "13",
                                    "Foglalások száma ahol több a felnőtt mint gyerek": "4"
                                },
                                {
                                    "Szobaszam": "14",
                                    "Foglalások száma ahol több a felnőtt mint gyerek": "3"
                                },
                                {
                                    "Szobaszam": "15",
                                    "Foglalások száma ahol több a felnőtt mint gyerek": "4"
                                },
                                {
                                    "Szobaszam": "16",
                                    "Foglalások száma ahol több a felnőtt mint gyerek": "1"
                                },
                                {
                                    "Szobaszam": "17",
                                    "Foglalások száma ahol több a felnőtt mint gyerek": "2"
                                },
                                {
                                    "Szobaszam": "18",
                                    "Foglalások száma ahol több a felnőtt mint gyerek": "3"
                                },
                                {
                                    "Szobaszam": "19",
                                    "Foglalások száma ahol több a felnőtt mint gyerek": "4"
                                },
                                {
                                    "Szobaszam": "20",
                                    "Foglalások száma ahol több a felnőtt mint gyerek": "5"
                                },
                                {
                                    "Szobaszam": "21",
                                    "Foglalások száma ahol több a felnőtt mint gyerek": "1"
                                },
                                {
                                    "Szobaszam": "22",
                                    "Foglalások száma ahol több a felnőtt mint gyerek": "2"
                                },
                                {
                                    "Szobaszam": "23",
                                    "Foglalások száma ahol több a felnőtt mint gyerek": "3"
                                },
                                {
                                    "Szobaszam": "24",
                                    "Foglalások száma ahol több a felnőtt mint gyerek": "3"
                                },
                                {
                                    "Szobaszam": "25",
                                    "Foglalások száma ahol több a felnőtt mint gyerek": "1"
                                },
                                {
                                    "Szobaszam": "27",
                                    "Foglalások száma ahol több a felnőtt mint gyerek": "5"
                                },
                                {
                                    "Szobaszam": "28",
                                    "Foglalások száma ahol több a felnőtt mint gyerek": "5"
                                },
                                {
                                    "Szobaszam": "29",
                                    "Foglalások száma ahol több a felnőtt mint gyerek": "3"
                                },
                                {
                                    "Szobaszam": "30",
                                    "Foglalások száma ahol több a felnőtt mint gyerek": "2"
                                },
                                {
                                    "Szobaszam": "31",
                                    "Foglalások száma ahol több a felnőtt mint gyerek": "1"
                                },
                                {
                                    "Szobaszam": "32",
                                    "Foglalások száma ahol több a felnőtt mint gyerek": "1"
                                },
                                {
                                    "Szobaszam": "33",
                                    "Foglalások száma ahol több a felnőtt mint gyerek": "3"
                                },
                                {
                                    "Szobaszam": "34",
                                    "Foglalások száma ahol több a felnőtt mint gyerek": "3"
                                },
                                {
                                    "Szobaszam": "35",
                                    "Foglalások száma ahol több a felnőtt mint gyerek": "6"
                                },
                                {
                                    "Szobaszam": "36",
                                    "Foglalások száma ahol több a felnőtt mint gyerek": "4"
                                },
                                {
                                    "Szobaszam": "37",
                                    "Foglalások száma ahol több a felnőtt mint gyerek": "2"
                                },
                                {
                                    "Szobaszam": "38",
                                    "Foglalások száma ahol több a felnőtt mint gyerek": "5"
                                },
                                {
                                    "Szobaszam": "39",
                                    "Foglalások száma ahol több a felnőtt mint gyerek": "4"
                                },
                                {
                                    "Szobaszam": "40",
                                    "Foglalások száma ahol több a felnőtt mint gyerek": "3"
                                },
                                {
                                    "Szobaszam": "41",
                                    "Foglalások száma ahol több a felnőtt mint gyerek": "1"
                                },
                                {
                                    "Szobaszam": "42",
                                    "Foglalások száma ahol több a felnőtt mint gyerek": "5"
                                },
                                {
                                    "Szobaszam": "43",
                                    "Foglalások száma ahol több a felnőtt mint gyerek": "4"
                                },
                                {
                                    "Szobaszam": "44",
                                    "Foglalások száma ahol több a felnőtt mint gyerek": "6"
                                },
                                {
                                    "Szobaszam": "45",
                                    "Foglalások száma ahol több a felnőtt mint gyerek": "4"
                                },
                                {
                                    "Szobaszam": "46",
                                    "Foglalások száma ahol több a felnőtt mint gyerek": "3"
                                },
                                {
                                    "Szobaszam": "47",
                                    "Foglalások száma ahol több a felnőtt mint gyerek": "2"
                                },
                                {
                                    "Szobaszam": "48",
                                    "Foglalások száma ahol több a felnőtt mint gyerek": "6"
                                },
                                {
                                    "Szobaszam": "49",
                                    "Foglalások száma ahol több a felnőtt mint gyerek": "5"
                                },
                                {
                                    "Szobaszam": "50",
                                    "Foglalások száma ahol több a felnőtt mint gyerek": "3"
                                },
                                {
                                    "Szobaszam": "51",
                                    "Foglalások száma ahol több a felnőtt mint gyerek": "3"
                                },
                                {
                                    "Szobaszam": "52",
                                    "Foglalások száma ahol több a felnőtt mint gyerek": "5"
                                },
                                {
                                    "Szobaszam": "54",
                                    "Foglalások száma ahol több a felnőtt mint gyerek": "4"
                                },
                                {
                                    "Szobaszam": "55",
                                    "Foglalások száma ahol több a felnőtt mint gyerek": "3"
                                },
                                {
                                    "Szobaszam": "56",
                                    "Foglalások száma ahol több a felnőtt mint gyerek": "1"
                                },
                                {
                                    "Szobaszam": "57",
                                    "Foglalások száma ahol több a felnőtt mint gyerek": "3"
                                },
                                {
                                    "Szobaszam": "58",
                                    "Foglalások száma ahol több a felnőtt mint gyerek": "8"
                                },
                                {
                                    "Szobaszam": "59",
                                    "Foglalások száma ahol több a felnőtt mint gyerek": "4"
                                },
                                {
                                    "Szobaszam": "60",
                                    "Foglalások száma ahol több a felnőtt mint gyerek": "1"
                                },
                                {
                                    "Szobaszam": "61",
                                    "Foglalások száma ahol több a felnőtt mint gyerek": "4"
                                },
                                {
                                    "Szobaszam": "62",
                                    "Foglalások száma ahol több a felnőtt mint gyerek": "3"
                                },
                                {
                                    "Szobaszam": "63",
                                    "Foglalások száma ahol több a felnőtt mint gyerek": "3"
                                },
                                {
                                    "Szobaszam": "64",
                                    "Foglalások száma ahol több a felnőtt mint gyerek": "5"
                                },
                                {
                                    "Szobaszam": "66",
                                    "Foglalások száma ahol több a felnőtt mint gyerek": "3"
                                },
                                {
                                    "Szobaszam": "67",
                                    "Foglalások száma ahol több a felnőtt mint gyerek": "2"
                                },
                                {
                                    "Szobaszam": "69",
                                    "Foglalások száma ahol több a felnőtt mint gyerek": "2"
                                },
                                {
                                    "Szobaszam": "70",
                                    "Foglalások száma ahol több a felnőtt mint gyerek": "8"
                                },
                                {
                                    "Szobaszam": "71",
                                    "Foglalások száma ahol több a felnőtt mint gyerek": "2"
                                },
                                {
                                    "Szobaszam": "72",
                                    "Foglalások száma ahol több a felnőtt mint gyerek": "2"
                                },
                                {
                                    "Szobaszam": "73",
                                    "Foglalások száma ahol több a felnőtt mint gyerek": "4"
                                },
                                {
                                    "Szobaszam": "74",
                                    "Foglalások száma ahol több a felnőtt mint gyerek": "8"
                                },
                                {
                                    "Szobaszam": "75",
                                    "Foglalások száma ahol több a felnőtt mint gyerek": "2"
                                },
                                {
                                    "Szobaszam": "76",
                                    "Foglalások száma ahol több a felnőtt mint gyerek": "2"
                                },
                                {
                                    "Szobaszam": "77",
                                    "Foglalások száma ahol több a felnőtt mint gyerek": "3"
                                },
                                {
                                    "Szobaszam": "78",
                                    "Foglalások száma ahol több a felnőtt mint gyerek": "3"
                                },
                                {
                                    "Szobaszam": "79",
                                    "Foglalások száma ahol több a felnőtt mint gyerek": "4"
                                },
                                {
                                    "Szobaszam": "80",
                                    "Foglalások száma ahol több a felnőtt mint gyerek": "5"
                                },
                                {
                                    "Szobaszam": "81",
                                    "Foglalások száma ahol több a felnőtt mint gyerek": "3"
                                },
                                {
                                    "Szobaszam": "82",
                                    "Foglalások száma ahol több a felnőtt mint gyerek": "5"
                                },
                                {
                                    "Szobaszam": "83",
                                    "Foglalások száma ahol több a felnőtt mint gyerek": "5"
                                },
                                {
                                    "Szobaszam": "84",
                                    "Foglalások száma ahol több a felnőtt mint gyerek": "3"
                                },
                                {
                                    "Szobaszam": "85",
                                    "Foglalások száma ahol több a felnőtt mint gyerek": "2"
                                },
                                {
                                    "Szobaszam": "86",
                                    "Foglalások száma ahol több a felnőtt mint gyerek": "4"
                                },
                                {
                                    "Szobaszam": "87",
                                    "Foglalások száma ahol több a felnőtt mint gyerek": "5"
                                },
                                {
                                    "Szobaszam": "88",
                                    "Foglalások száma ahol több a felnőtt mint gyerek": "5"
                                },
                                {
                                    "Szobaszam": "89",
                                    "Foglalások száma ahol több a felnőtt mint gyerek": "8"
                                },
                                {
                                    "Szobaszam": "90",
                                    "Foglalások száma ahol több a felnőtt mint gyerek": "3"
                                },
                                {
                                    "Szobaszam": "91",
                                    "Foglalások száma ahol több a felnőtt mint gyerek": "2"
                                },
                                {
                                    "Szobaszam": "92",
                                    "Foglalások száma ahol több a felnőtt mint gyerek": "5"
                                },
                                {
                                    "Szobaszam": "93",
                                    "Foglalások száma ahol több a felnőtt mint gyerek": "3"
                                },
                                {
                                    "Szobaszam": "94",
                                    "Foglalások száma ahol több a felnőtt mint gyerek": "6"
                                },
                                {
                                    "Szobaszam": "95",
                                    "Foglalások száma ahol több a felnőtt mint gyerek": "3"
                                },
                                {
                                    "Szobaszam": "96",
                                    "Foglalások száma ahol több a felnőtt mint gyerek": "6"
                                },
                                {
                                    "Szobaszam": "97",
                                    "Foglalások száma ahol több a felnőtt mint gyerek": "5"
                                },
                                {
                                    "Szobaszam": "98",
                                    "Foglalások száma ahol több a felnőtt mint gyerek": "4"
                                },
                                {
                                    "Szobaszam": "99",
                                    "Foglalások száma ahol több a felnőtt mint gyerek": "4"
                                },
                                {
                                    "Szobaszam": "100",
                                    "Foglalások száma ahol több a felnőtt mint gyerek": "2"
                                },
                                {
                                    "Szobaszam": "101",
                                    "Foglalások száma ahol több a felnőtt mint gyerek": "1"
                                },
                                {
                                    "Szobaszam": "102",
                                    "Foglalások száma ahol több a felnőtt mint gyerek": "1"
                                },
                                {
                                    "Szobaszam": "103",
                                    "Foglalások száma ahol több a felnőtt mint gyerek": "1"
                                },
                                {
                                    "Szobaszam": "104",
                                    "Foglalások száma ahol több a felnőtt mint gyerek": "3"
                                },
                                {
                                    "Szobaszam": "106",
                                    "Foglalások száma ahol több a felnőtt mint gyerek": "4"
                                },
                                {
                                    "Szobaszam": "107",
                                    "Foglalások száma ahol több a felnőtt mint gyerek": "4"
                                },
                                {
                                    "Szobaszam": "108",
                                    "Foglalások száma ahol több a felnőtt mint gyerek": "1"
                                },
                                {
                                    "Szobaszam": "109",
                                    "Foglalások száma ahol több a felnőtt mint gyerek": "2"
                                },
                                {
                                    "Szobaszam": "110",
                                    "Foglalások száma ahol több a felnőtt mint gyerek": "5"
                                },
                                {
                                    "Szobaszam": "111",
                                    "Foglalások száma ahol több a felnőtt mint gyerek": "1"
                                },
                                {
                                    "Szobaszam": "112",
                                    "Foglalások száma ahol több a felnőtt mint gyerek": "4"
                                },
                                {
                                    "Szobaszam": "113",
                                    "Foglalások száma ahol több a felnőtt mint gyerek": "2"
                                },
                                {
                                    "Szobaszam": "114",
                                    "Foglalások száma ahol több a felnőtt mint gyerek": "1"
                                },
                                {
                                    "Szobaszam": "115",
                                    "Foglalások száma ahol több a felnőtt mint gyerek": "5"
                                },
                                {
                                    "Szobaszam": "117",
                                    "Foglalások száma ahol több a felnőtt mint gyerek": "4"
                                },
                                {
                                    "Szobaszam": "118",
                                    "Foglalások száma ahol több a felnőtt mint gyerek": "2"
                                },
                                {
                                    "Szobaszam": "119",
                                    "Foglalások száma ahol több a felnőtt mint gyerek": "4"
                                },
                                {
                                    "Szobaszam": "120",
                                    "Foglalások száma ahol több a felnőtt mint gyerek": "2"
                                },
                                {
                                    "Szobaszam": "121",
                                    "Foglalások száma ahol több a felnőtt mint gyerek": "5"
                                },
                                {
                                    "Szobaszam": "122",
                                    "Foglalások száma ahol több a felnőtt mint gyerek": "3"
                                },
                                {
                                    "Szobaszam": "123",
                                    "Foglalások száma ahol több a felnőtt mint gyerek": "5"
                                },
                                {
                                    "Szobaszam": "124",
                                    "Foglalások száma ahol több a felnőtt mint gyerek": "4"
                                },
                                {
                                    "Szobaszam": "126",
                                    "Foglalások száma ahol több a felnőtt mint gyerek": "4"
                                },
                                {
                                    "Szobaszam": "127",
                                    "Foglalások száma ahol több a felnőtt mint gyerek": "5"
                                },
                                {
                                    "Szobaszam": "129",
                                    "Foglalások száma ahol több a felnőtt mint gyerek": "3"
                                },
                                {
                                    "Szobaszam": "130",
                                    "Foglalások száma ahol több a felnőtt mint gyerek": "5"
                                },
                                {
                                    "Szobaszam": "131",
                                    "Foglalások száma ahol több a felnőtt mint gyerek": "4"
                                },
                                {
                                    "Szobaszam": "132",
                                    "Foglalások száma ahol több a felnőtt mint gyerek": "4"
                                },
                                {
                                    "Szobaszam": "133",
                                    "Foglalások száma ahol több a felnőtt mint gyerek": "4"
                                },
                                {
                                    "Szobaszam": "134",
                                    "Foglalások száma ahol több a felnőtt mint gyerek": "4"
                                },
                                {
                                    "Szobaszam": "135",
                                    "Foglalások száma ahol több a felnőtt mint gyerek": "3"
                                },
                                {
                                    "Szobaszam": "136",
                                    "Foglalások száma ahol több a felnőtt mint gyerek": "2"
                                },
                                {
                                    "Szobaszam": "137",
                                    "Foglalások száma ahol több a felnőtt mint gyerek": "2"
                                },
                                {
                                    "Szobaszam": "138",
                                    "Foglalások száma ahol több a felnőtt mint gyerek": "5"
                                },
                                {
                                    "Szobaszam": "139",
                                    "Foglalások száma ahol több a felnőtt mint gyerek": "6"
                                },
                                {
                                    "Szobaszam": "140",
                                    "Foglalások száma ahol több a felnőtt mint gyerek": "5"
                                },
                                {
                                    "Szobaszam": "141",
                                    "Foglalások száma ahol több a felnőtt mint gyerek": "4"
                                },
                                {
                                    "Szobaszam": "142",
                                    "Foglalások száma ahol több a felnőtt mint gyerek": "1"
                                },
                                {
                                    "Szobaszam": "143",
                                    "Foglalások száma ahol több a felnőtt mint gyerek": "5"
                                },
                                {
                                    "Szobaszam": "144",
                                    "Foglalások száma ahol több a felnőtt mint gyerek": "2"
                                },
                                {
                                    "Szobaszam": "145",
                                    "Foglalások száma ahol több a felnőtt mint gyerek": "2"
                                },
                                {
                                    "Szobaszam": "146",
                                    "Foglalások száma ahol több a felnőtt mint gyerek": "3"
                                },
                                {
                                    "Szobaszam": "147",
                                    "Foglalások száma ahol több a felnőtt mint gyerek": "1"
                                },
                                {
                                    "Szobaszam": "148",
                                    "Foglalások száma ahol több a felnőtt mint gyerek": "5"
                                },
                                {
                                    "Szobaszam": "149",
                                    "Foglalások száma ahol több a felnőtt mint gyerek": "5"
                                },
                                {
                                    "Szobaszam": "150",
                                    "Foglalások száma ahol több a felnőtt mint gyerek": "6"
                                },
                                {
                                    "Szobaszam": "151",
                                    "Foglalások száma ahol több a felnőtt mint gyerek": "2"
                                },
                                {
                                    "Szobaszam": "152",
                                    "Foglalások száma ahol több a felnőtt mint gyerek": "3"
                                },
                                {
                                    "Szobaszam": "153",
                                    "Foglalások száma ahol több a felnőtt mint gyerek": "4"
                                },
                                {
                                    "Szobaszam": "154",
                                    "Foglalások száma ahol több a felnőtt mint gyerek": "3"
                                },
                                {
                                    "Szobaszam": "155",
                                    "Foglalások száma ahol több a felnőtt mint gyerek": "3"
                                },
                                {
                                    "Szobaszam": "156",
                                    "Foglalások száma ahol több a felnőtt mint gyerek": "2"
                                },
                                {
                                    "Szobaszam": "157",
                                    "Foglalások száma ahol több a felnőtt mint gyerek": "2"
                                },
                                {
                                    "Szobaszam": "158",
                                    "Foglalások száma ahol több a felnőtt mint gyerek": "3"
                                },
                                {
                                    "Szobaszam": "160",
                                    "Foglalások száma ahol több a felnőtt mint gyerek": "2"
                                },
                                {
                                    "Szobaszam": "161",
                                    "Foglalások száma ahol több a felnőtt mint gyerek": "3"
                                },
                                {
                                    "Szobaszam": "162",
                                    "Foglalások száma ahol több a felnőtt mint gyerek": "2"
                                },
                                {
                                    "Szobaszam": "163",
                                    "Foglalások száma ahol több a felnőtt mint gyerek": "5"
                                },
                                {
                                    "Szobaszam": "164",
                                    "Foglalások száma ahol több a felnőtt mint gyerek": "4"
                                },
                                {
                                    "Szobaszam": "165",
                                    "Foglalások száma ahol több a felnőtt mint gyerek": "5"
                                },
                                {
                                    "Szobaszam": "166",
                                    "Foglalások száma ahol több a felnőtt mint gyerek": "3"
                                },
                                {
                                    "Szobaszam": "167",
                                    "Foglalások száma ahol több a felnőtt mint gyerek": "2"
                                },
                                {
                                    "Szobaszam": "168",
                                    "Foglalások száma ahol több a felnőtt mint gyerek": "1"
                                },
                                {
                                    "Szobaszam": "169",
                                    "Foglalások száma ahol több a felnőtt mint gyerek": "3"
                                },
                                {
                                    "Szobaszam": "170",
                                    "Foglalások száma ahol több a felnőtt mint gyerek": "3"
                                },
                                {
                                    "Szobaszam": "171",
                                    "Foglalások száma ahol több a felnőtt mint gyerek": "5"
                                },
                                {
                                    "Szobaszam": "172",
                                    "Foglalások száma ahol több a felnőtt mint gyerek": "6"
                                },
                                {
                                    "Szobaszam": "173",
                                    "Foglalások száma ahol több a felnőtt mint gyerek": "3"
                                },
                                {
                                    "Szobaszam": "174",
                                    "Foglalások száma ahol több a felnőtt mint gyerek": "4"
                                },
                                {
                                    "Szobaszam": "175",
                                    "Foglalások száma ahol több a felnőtt mint gyerek": "3"
                                },
                                {
                                    "Szobaszam": "176",
                                    "Foglalások száma ahol több a felnőtt mint gyerek": "2"
                                },
                                {
                                    "Szobaszam": "177",
                                    "Foglalások száma ahol több a felnőtt mint gyerek": "1"
                                },
                                {
                                    "Szobaszam": "178",
                                    "Foglalások száma ahol több a felnőtt mint gyerek": "1"
                                },
                                {
                                    "Szobaszam": "179",
                                    "Foglalások száma ahol több a felnőtt mint gyerek": "2"
                                },
                                {
                                    "Szobaszam": "180",
                                    "Foglalások száma ahol több a felnőtt mint gyerek": "1"
                                },
                                {
                                    "Szobaszam": "181",
                                    "Foglalások száma ahol több a felnőtt mint gyerek": "5"
                                },
                                {
                                    "Szobaszam": "182",
                                    "Foglalások száma ahol több a felnőtt mint gyerek": "11"
                                },
                                {
                                    "Szobaszam": "183",
                                    "Foglalások száma ahol több a felnőtt mint gyerek": "3"
                                },
                                {
                                    "Szobaszam": "184",
                                    "Foglalások száma ahol több a felnőtt mint gyerek": "4"
                                },
                                {
                                    "Szobaszam": "185",
                                    "Foglalások száma ahol több a felnőtt mint gyerek": "10"
                                },
                                {
                                    "Szobaszam": "186",
                                    "Foglalások száma ahol több a felnőtt mint gyerek": "1"
                                },
                                {
                                    "Szobaszam": "187",
                                    "Foglalások száma ahol több a felnőtt mint gyerek": "6"
                                },
                                {
                                    "Szobaszam": "188",
                                    "Foglalások száma ahol több a felnőtt mint gyerek": "2"
                                },
                                {
                                    "Szobaszam": "189",
                                    "Foglalások száma ahol több a felnőtt mint gyerek": "1"
                                },
                                {
                                    "Szobaszam": "190",
                                    "Foglalások száma ahol több a felnőtt mint gyerek": "5"
                                },
                                {
                                    "Szobaszam": "191",
                                    "Foglalások száma ahol több a felnőtt mint gyerek": "3"
                                },
                                {
                                    "Szobaszam": "192",
                                    "Foglalások száma ahol több a felnőtt mint gyerek": "1"
                                },
                                {
                                    "Szobaszam": "193",
                                    "Foglalások száma ahol több a felnőtt mint gyerek": "2"
                                },
                                {
                                    "Szobaszam": "194",
                                    "Foglalások száma ahol több a felnőtt mint gyerek": "1"
                                },
                                {
                                    "Szobaszam": "195",
                                    "Foglalások száma ahol több a felnőtt mint gyerek": "5"
                                },
                                {
                                    "Szobaszam": "196",
                                    "Foglalások száma ahol több a felnőtt mint gyerek": "2"
                                },
                                {
                                    "Szobaszam": "197",
                                    "Foglalások száma ahol több a felnőtt mint gyerek": "6"
                                },
                                {
                                    "Szobaszam": "198",
                                    "Foglalások száma ahol több a felnőtt mint gyerek": "7"
                                }
                            ]
                        },
                        "text/html": [
                            "<table>",
                            "<tr><th>Szobaszam</th><th>Foglalások száma ahol több a felnőtt mint gyerek</th></tr>",
                            "<tr><td>1</td><td>7</td></tr>",
                            "<tr><td>2</td><td>2</td></tr>",
                            "<tr><td>3</td><td>3</td></tr>",
                            "<tr><td>4</td><td>5</td></tr>",
                            "<tr><td>5</td><td>2</td></tr>",
                            "<tr><td>6</td><td>5</td></tr>",
                            "<tr><td>7</td><td>6</td></tr>",
                            "<tr><td>8</td><td>5</td></tr>",
                            "<tr><td>9</td><td>4</td></tr>",
                            "<tr><td>10</td><td>4</td></tr>",
                            "<tr><td>11</td><td>4</td></tr>",
                            "<tr><td>12</td><td>7</td></tr>",
                            "<tr><td>13</td><td>4</td></tr>",
                            "<tr><td>14</td><td>3</td></tr>",
                            "<tr><td>15</td><td>4</td></tr>",
                            "<tr><td>16</td><td>1</td></tr>",
                            "<tr><td>17</td><td>2</td></tr>",
                            "<tr><td>18</td><td>3</td></tr>",
                            "<tr><td>19</td><td>4</td></tr>",
                            "<tr><td>20</td><td>5</td></tr>",
                            "<tr><td>21</td><td>1</td></tr>",
                            "<tr><td>22</td><td>2</td></tr>",
                            "<tr><td>23</td><td>3</td></tr>",
                            "<tr><td>24</td><td>3</td></tr>",
                            "<tr><td>25</td><td>1</td></tr>",
                            "<tr><td>27</td><td>5</td></tr>",
                            "<tr><td>28</td><td>5</td></tr>",
                            "<tr><td>29</td><td>3</td></tr>",
                            "<tr><td>30</td><td>2</td></tr>",
                            "<tr><td>31</td><td>1</td></tr>",
                            "<tr><td>32</td><td>1</td></tr>",
                            "<tr><td>33</td><td>3</td></tr>",
                            "<tr><td>34</td><td>3</td></tr>",
                            "<tr><td>35</td><td>6</td></tr>",
                            "<tr><td>36</td><td>4</td></tr>",
                            "<tr><td>37</td><td>2</td></tr>",
                            "<tr><td>38</td><td>5</td></tr>",
                            "<tr><td>39</td><td>4</td></tr>",
                            "<tr><td>40</td><td>3</td></tr>",
                            "<tr><td>41</td><td>1</td></tr>",
                            "<tr><td>42</td><td>5</td></tr>",
                            "<tr><td>43</td><td>4</td></tr>",
                            "<tr><td>44</td><td>6</td></tr>",
                            "<tr><td>45</td><td>4</td></tr>",
                            "<tr><td>46</td><td>3</td></tr>",
                            "<tr><td>47</td><td>2</td></tr>",
                            "<tr><td>48</td><td>6</td></tr>",
                            "<tr><td>49</td><td>5</td></tr>",
                            "<tr><td>50</td><td>3</td></tr>",
                            "<tr><td>51</td><td>3</td></tr>",
                            "<tr><td>52</td><td>5</td></tr>",
                            "<tr><td>54</td><td>4</td></tr>",
                            "<tr><td>55</td><td>3</td></tr>",
                            "<tr><td>56</td><td>1</td></tr>",
                            "<tr><td>57</td><td>3</td></tr>",
                            "<tr><td>58</td><td>8</td></tr>",
                            "<tr><td>59</td><td>4</td></tr>",
                            "<tr><td>60</td><td>1</td></tr>",
                            "<tr><td>61</td><td>4</td></tr>",
                            "<tr><td>62</td><td>3</td></tr>",
                            "<tr><td>63</td><td>3</td></tr>",
                            "<tr><td>64</td><td>5</td></tr>",
                            "<tr><td>66</td><td>3</td></tr>",
                            "<tr><td>67</td><td>2</td></tr>",
                            "<tr><td>69</td><td>2</td></tr>",
                            "<tr><td>70</td><td>8</td></tr>",
                            "<tr><td>71</td><td>2</td></tr>",
                            "<tr><td>72</td><td>2</td></tr>",
                            "<tr><td>73</td><td>4</td></tr>",
                            "<tr><td>74</td><td>8</td></tr>",
                            "<tr><td>75</td><td>2</td></tr>",
                            "<tr><td>76</td><td>2</td></tr>",
                            "<tr><td>77</td><td>3</td></tr>",
                            "<tr><td>78</td><td>3</td></tr>",
                            "<tr><td>79</td><td>4</td></tr>",
                            "<tr><td>80</td><td>5</td></tr>",
                            "<tr><td>81</td><td>3</td></tr>",
                            "<tr><td>82</td><td>5</td></tr>",
                            "<tr><td>83</td><td>5</td></tr>",
                            "<tr><td>84</td><td>3</td></tr>",
                            "<tr><td>85</td><td>2</td></tr>",
                            "<tr><td>86</td><td>4</td></tr>",
                            "<tr><td>87</td><td>5</td></tr>",
                            "<tr><td>88</td><td>5</td></tr>",
                            "<tr><td>89</td><td>8</td></tr>",
                            "<tr><td>90</td><td>3</td></tr>",
                            "<tr><td>91</td><td>2</td></tr>",
                            "<tr><td>92</td><td>5</td></tr>",
                            "<tr><td>93</td><td>3</td></tr>",
                            "<tr><td>94</td><td>6</td></tr>",
                            "<tr><td>95</td><td>3</td></tr>",
                            "<tr><td>96</td><td>6</td></tr>",
                            "<tr><td>97</td><td>5</td></tr>",
                            "<tr><td>98</td><td>4</td></tr>",
                            "<tr><td>99</td><td>4</td></tr>",
                            "<tr><td>100</td><td>2</td></tr>",
                            "<tr><td>101</td><td>1</td></tr>",
                            "<tr><td>102</td><td>1</td></tr>",
                            "<tr><td>103</td><td>1</td></tr>",
                            "<tr><td>104</td><td>3</td></tr>",
                            "<tr><td>106</td><td>4</td></tr>",
                            "<tr><td>107</td><td>4</td></tr>",
                            "<tr><td>108</td><td>1</td></tr>",
                            "<tr><td>109</td><td>2</td></tr>",
                            "<tr><td>110</td><td>5</td></tr>",
                            "<tr><td>111</td><td>1</td></tr>",
                            "<tr><td>112</td><td>4</td></tr>",
                            "<tr><td>113</td><td>2</td></tr>",
                            "<tr><td>114</td><td>1</td></tr>",
                            "<tr><td>115</td><td>5</td></tr>",
                            "<tr><td>117</td><td>4</td></tr>",
                            "<tr><td>118</td><td>2</td></tr>",
                            "<tr><td>119</td><td>4</td></tr>",
                            "<tr><td>120</td><td>2</td></tr>",
                            "<tr><td>121</td><td>5</td></tr>",
                            "<tr><td>122</td><td>3</td></tr>",
                            "<tr><td>123</td><td>5</td></tr>",
                            "<tr><td>124</td><td>4</td></tr>",
                            "<tr><td>126</td><td>4</td></tr>",
                            "<tr><td>127</td><td>5</td></tr>",
                            "<tr><td>129</td><td>3</td></tr>",
                            "<tr><td>130</td><td>5</td></tr>",
                            "<tr><td>131</td><td>4</td></tr>",
                            "<tr><td>132</td><td>4</td></tr>",
                            "<tr><td>133</td><td>4</td></tr>",
                            "<tr><td>134</td><td>4</td></tr>",
                            "<tr><td>135</td><td>3</td></tr>",
                            "<tr><td>136</td><td>2</td></tr>",
                            "<tr><td>137</td><td>2</td></tr>",
                            "<tr><td>138</td><td>5</td></tr>",
                            "<tr><td>139</td><td>6</td></tr>",
                            "<tr><td>140</td><td>5</td></tr>",
                            "<tr><td>141</td><td>4</td></tr>",
                            "<tr><td>142</td><td>1</td></tr>",
                            "<tr><td>143</td><td>5</td></tr>",
                            "<tr><td>144</td><td>2</td></tr>",
                            "<tr><td>145</td><td>2</td></tr>",
                            "<tr><td>146</td><td>3</td></tr>",
                            "<tr><td>147</td><td>1</td></tr>",
                            "<tr><td>148</td><td>5</td></tr>",
                            "<tr><td>149</td><td>5</td></tr>",
                            "<tr><td>150</td><td>6</td></tr>",
                            "<tr><td>151</td><td>2</td></tr>",
                            "<tr><td>152</td><td>3</td></tr>",
                            "<tr><td>153</td><td>4</td></tr>",
                            "<tr><td>154</td><td>3</td></tr>",
                            "<tr><td>155</td><td>3</td></tr>",
                            "<tr><td>156</td><td>2</td></tr>",
                            "<tr><td>157</td><td>2</td></tr>",
                            "<tr><td>158</td><td>3</td></tr>",
                            "<tr><td>160</td><td>2</td></tr>",
                            "<tr><td>161</td><td>3</td></tr>",
                            "<tr><td>162</td><td>2</td></tr>",
                            "<tr><td>163</td><td>5</td></tr>",
                            "<tr><td>164</td><td>4</td></tr>",
                            "<tr><td>165</td><td>5</td></tr>",
                            "<tr><td>166</td><td>3</td></tr>",
                            "<tr><td>167</td><td>2</td></tr>",
                            "<tr><td>168</td><td>1</td></tr>",
                            "<tr><td>169</td><td>3</td></tr>",
                            "<tr><td>170</td><td>3</td></tr>",
                            "<tr><td>171</td><td>5</td></tr>",
                            "<tr><td>172</td><td>6</td></tr>",
                            "<tr><td>173</td><td>3</td></tr>",
                            "<tr><td>174</td><td>4</td></tr>",
                            "<tr><td>175</td><td>3</td></tr>",
                            "<tr><td>176</td><td>2</td></tr>",
                            "<tr><td>177</td><td>1</td></tr>",
                            "<tr><td>178</td><td>1</td></tr>",
                            "<tr><td>179</td><td>2</td></tr>",
                            "<tr><td>180</td><td>1</td></tr>",
                            "<tr><td>181</td><td>5</td></tr>",
                            "<tr><td>182</td><td>11</td></tr>",
                            "<tr><td>183</td><td>3</td></tr>",
                            "<tr><td>184</td><td>4</td></tr>",
                            "<tr><td>185</td><td>10</td></tr>",
                            "<tr><td>186</td><td>1</td></tr>",
                            "<tr><td>187</td><td>6</td></tr>",
                            "<tr><td>188</td><td>2</td></tr>",
                            "<tr><td>189</td><td>1</td></tr>",
                            "<tr><td>190</td><td>5</td></tr>",
                            "<tr><td>191</td><td>3</td></tr>",
                            "<tr><td>192</td><td>1</td></tr>",
                            "<tr><td>193</td><td>2</td></tr>",
                            "<tr><td>194</td><td>1</td></tr>",
                            "<tr><td>195</td><td>5</td></tr>",
                            "<tr><td>196</td><td>2</td></tr>",
                            "<tr><td>197</td><td>6</td></tr>",
                            "<tr><td>198</td><td>7</td></tr>",
                            "</table>"
                        ]
                    }
                },
                {
                    "output_type": "error",
                    "evalue": "Msg 245, Level 16, State 1, Line 1\r\nConversion failed when converting the varchar value 'Végösszeg' to data type int.",
                    "ename": "",
                    "traceback": []
                }
            ],
            "execution_count": 14
        },
        {
            "cell_type": "markdown",
            "source": [
                "Rangsoroljuk az egyes szobákat a foglalások száma, azon belül férőhely szerint!\n",
                "\n",
                "- Holtverseny esetén a sorszámok sűrűn kövessék egymást\n",
                "- Az 1-es számot a legtöbbet foglalt, azon belül legkevesebb férőhelyű szoba kapja\n",
                "- Csak a szoba azonosítója, a férőhely és a helyezés jelenjen meg"
            ],
            "metadata": {
                "azdata_cell_guid": "c72b2166-5f14-409c-8d15-993d043dc834"
            },
            "attachments": {}
        },
        {
            "cell_type": "code",
            "source": [
                "SELECT f.SZOBA_FK,\r\n",
                "       sz.FEROHELY,\r\n",
                "       COUNT(f.FOGLALAS_PK) AS 'Foglalasok szama', \r\n",
                "       DENSE_RANK() OVER (ORDER BY COUNT(f.FOGLALAS_PK) DESC, sz.FEROHELY ASC) AS Helyezes\r\n",
                "FROM Szoba sz JOIN Foglalas f ON f.SZOBA_FK = sz.SZOBA_ID\r\n",
                "GROUP BY f.SZOBA_FK,\r\n",
                "       sz.FEROHELY\r\n",
                ""
            ],
            "metadata": {
                "azdata_cell_guid": "ea8ffcc7-9060-47a5-84fb-e1793b35af9d",
                "language": "sql"
            },
            "outputs": [
                {
                    "output_type": "display_data",
                    "data": {
                        "text/html": "(197 rows affected)"
                    },
                    "metadata": {}
                },
                {
                    "output_type": "display_data",
                    "data": {
                        "text/html": "Total execution time: 00:00:00.019"
                    },
                    "metadata": {}
                },
                {
                    "output_type": "execute_result",
                    "metadata": {},
                    "execution_count": 20,
                    "data": {
                        "application/vnd.dataresource+json": {
                            "schema": {
                                "fields": [
                                    {
                                        "name": "SZOBA_FK"
                                    },
                                    {
                                        "name": "FEROHELY"
                                    },
                                    {
                                        "name": "Foglalasok szama"
                                    },
                                    {
                                        "name": "Helyezes"
                                    }
                                ]
                            },
                            "data": [
                                {
                                    "SZOBA_FK": "58",
                                    "FEROHELY": "2",
                                    "Foglalasok szama": "13",
                                    "Helyezes": "1"
                                },
                                {
                                    "SZOBA_FK": "182",
                                    "FEROHELY": "2",
                                    "Foglalasok szama": "12",
                                    "Helyezes": "2"
                                },
                                {
                                    "SZOBA_FK": "185",
                                    "FEROHELY": "3",
                                    "Foglalasok szama": "12",
                                    "Helyezes": "3"
                                },
                                {
                                    "SZOBA_FK": "70",
                                    "FEROHELY": "2",
                                    "Foglalasok szama": "11",
                                    "Helyezes": "4"
                                },
                                {
                                    "SZOBA_FK": "94",
                                    "FEROHELY": "2",
                                    "Foglalasok szama": "10",
                                    "Helyezes": "5"
                                },
                                {
                                    "SZOBA_FK": "12",
                                    "FEROHELY": "2",
                                    "Foglalasok szama": "9",
                                    "Helyezes": "6"
                                },
                                {
                                    "SZOBA_FK": "172",
                                    "FEROHELY": "2",
                                    "Foglalasok szama": "9",
                                    "Helyezes": "6"
                                },
                                {
                                    "SZOBA_FK": "35",
                                    "FEROHELY": "3",
                                    "Foglalasok szama": "9",
                                    "Helyezes": "7"
                                },
                                {
                                    "SZOBA_FK": "48",
                                    "FEROHELY": "3",
                                    "Foglalasok szama": "9",
                                    "Helyezes": "7"
                                },
                                {
                                    "SZOBA_FK": "74",
                                    "FEROHELY": "3",
                                    "Foglalasok szama": "9",
                                    "Helyezes": "7"
                                },
                                {
                                    "SZOBA_FK": "122",
                                    "FEROHELY": "3",
                                    "Foglalasok szama": "9",
                                    "Helyezes": "7"
                                },
                                {
                                    "SZOBA_FK": "121",
                                    "FEROHELY": "2",
                                    "Foglalasok szama": "8",
                                    "Helyezes": "8"
                                },
                                {
                                    "SZOBA_FK": "140",
                                    "FEROHELY": "2",
                                    "Foglalasok szama": "8",
                                    "Helyezes": "8"
                                },
                                {
                                    "SZOBA_FK": "110",
                                    "FEROHELY": "2",
                                    "Foglalasok szama": "8",
                                    "Helyezes": "8"
                                },
                                {
                                    "SZOBA_FK": "55",
                                    "FEROHELY": "2",
                                    "Foglalasok szama": "8",
                                    "Helyezes": "8"
                                },
                                {
                                    "SZOBA_FK": "38",
                                    "FEROHELY": "2",
                                    "Foglalasok szama": "8",
                                    "Helyezes": "8"
                                },
                                {
                                    "SZOBA_FK": "1",
                                    "FEROHELY": "3",
                                    "Foglalasok szama": "8",
                                    "Helyezes": "9"
                                },
                                {
                                    "SZOBA_FK": "3",
                                    "FEROHELY": "3",
                                    "Foglalasok szama": "8",
                                    "Helyezes": "9"
                                },
                                {
                                    "SZOBA_FK": "43",
                                    "FEROHELY": "3",
                                    "Foglalasok szama": "8",
                                    "Helyezes": "9"
                                },
                                {
                                    "SZOBA_FK": "83",
                                    "FEROHELY": "3",
                                    "Foglalasok szama": "8",
                                    "Helyezes": "9"
                                },
                                {
                                    "SZOBA_FK": "88",
                                    "FEROHELY": "3",
                                    "Foglalasok szama": "8",
                                    "Helyezes": "9"
                                },
                                {
                                    "SZOBA_FK": "89",
                                    "FEROHELY": "3",
                                    "Foglalasok szama": "8",
                                    "Helyezes": "9"
                                },
                                {
                                    "SZOBA_FK": "117",
                                    "FEROHELY": "3",
                                    "Foglalasok szama": "8",
                                    "Helyezes": "9"
                                },
                                {
                                    "SZOBA_FK": "198",
                                    "FEROHELY": "3",
                                    "Foglalasok szama": "8",
                                    "Helyezes": "9"
                                },
                                {
                                    "SZOBA_FK": "149",
                                    "FEROHELY": "2",
                                    "Foglalasok szama": "7",
                                    "Helyezes": "10"
                                },
                                {
                                    "SZOBA_FK": "156",
                                    "FEROHELY": "2",
                                    "Foglalasok szama": "7",
                                    "Helyezes": "10"
                                },
                                {
                                    "SZOBA_FK": "163",
                                    "FEROHELY": "2",
                                    "Foglalasok szama": "7",
                                    "Helyezes": "10"
                                },
                                {
                                    "SZOBA_FK": "165",
                                    "FEROHELY": "2",
                                    "Foglalasok szama": "7",
                                    "Helyezes": "10"
                                },
                                {
                                    "SZOBA_FK": "118",
                                    "FEROHELY": "2",
                                    "Foglalasok szama": "7",
                                    "Helyezes": "10"
                                },
                                {
                                    "SZOBA_FK": "109",
                                    "FEROHELY": "2",
                                    "Foglalasok szama": "7",
                                    "Helyezes": "10"
                                },
                                {
                                    "SZOBA_FK": "127",
                                    "FEROHELY": "2",
                                    "Foglalasok szama": "7",
                                    "Helyezes": "10"
                                },
                                {
                                    "SZOBA_FK": "139",
                                    "FEROHELY": "2",
                                    "Foglalasok szama": "7",
                                    "Helyezes": "10"
                                },
                                {
                                    "SZOBA_FK": "80",
                                    "FEROHELY": "2",
                                    "Foglalasok szama": "7",
                                    "Helyezes": "10"
                                },
                                {
                                    "SZOBA_FK": "59",
                                    "FEROHELY": "2",
                                    "Foglalasok szama": "7",
                                    "Helyezes": "10"
                                },
                                {
                                    "SZOBA_FK": "39",
                                    "FEROHELY": "2",
                                    "Foglalasok szama": "7",
                                    "Helyezes": "10"
                                },
                                {
                                    "SZOBA_FK": "27",
                                    "FEROHELY": "3",
                                    "Foglalasok szama": "7",
                                    "Helyezes": "11"
                                },
                                {
                                    "SZOBA_FK": "49",
                                    "FEROHELY": "3",
                                    "Foglalasok szama": "7",
                                    "Helyezes": "11"
                                },
                                {
                                    "SZOBA_FK": "96",
                                    "FEROHELY": "3",
                                    "Foglalasok szama": "7",
                                    "Helyezes": "11"
                                },
                                {
                                    "SZOBA_FK": "97",
                                    "FEROHELY": "3",
                                    "Foglalasok szama": "7",
                                    "Helyezes": "11"
                                },
                                {
                                    "SZOBA_FK": "138",
                                    "FEROHELY": "3",
                                    "Foglalasok szama": "7",
                                    "Helyezes": "11"
                                },
                                {
                                    "SZOBA_FK": "143",
                                    "FEROHELY": "3",
                                    "Foglalasok szama": "7",
                                    "Helyezes": "11"
                                },
                                {
                                    "SZOBA_FK": "115",
                                    "FEROHELY": "3",
                                    "Foglalasok szama": "7",
                                    "Helyezes": "11"
                                },
                                {
                                    "SZOBA_FK": "187",
                                    "FEROHELY": "3",
                                    "Foglalasok szama": "7",
                                    "Helyezes": "11"
                                },
                                {
                                    "SZOBA_FK": "193",
                                    "FEROHELY": "3",
                                    "Foglalasok szama": "7",
                                    "Helyezes": "11"
                                },
                                {
                                    "SZOBA_FK": "195",
                                    "FEROHELY": "2",
                                    "Foglalasok szama": "6",
                                    "Helyezes": "12"
                                },
                                {
                                    "SZOBA_FK": "161",
                                    "FEROHELY": "2",
                                    "Foglalasok szama": "6",
                                    "Helyezes": "12"
                                },
                                {
                                    "SZOBA_FK": "150",
                                    "FEROHELY": "2",
                                    "Foglalasok szama": "6",
                                    "Helyezes": "12"
                                },
                                {
                                    "SZOBA_FK": "148",
                                    "FEROHELY": "2",
                                    "Foglalasok szama": "6",
                                    "Helyezes": "12"
                                },
                                {
                                    "SZOBA_FK": "169",
                                    "FEROHELY": "2",
                                    "Foglalasok szama": "6",
                                    "Helyezes": "12"
                                },
                                {
                                    "SZOBA_FK": "106",
                                    "FEROHELY": "2",
                                    "Foglalasok szama": "6",
                                    "Helyezes": "12"
                                },
                                {
                                    "SZOBA_FK": "126",
                                    "FEROHELY": "2",
                                    "Foglalasok szama": "6",
                                    "Helyezes": "12"
                                },
                                {
                                    "SZOBA_FK": "145",
                                    "FEROHELY": "2",
                                    "Foglalasok szama": "6",
                                    "Helyezes": "12"
                                },
                                {
                                    "SZOBA_FK": "141",
                                    "FEROHELY": "2",
                                    "Foglalasok szama": "6",
                                    "Helyezes": "12"
                                },
                                {
                                    "SZOBA_FK": "130",
                                    "FEROHELY": "2",
                                    "Foglalasok szama": "6",
                                    "Helyezes": "12"
                                },
                                {
                                    "SZOBA_FK": "137",
                                    "FEROHELY": "2",
                                    "Foglalasok szama": "6",
                                    "Helyezes": "12"
                                },
                                {
                                    "SZOBA_FK": "78",
                                    "FEROHELY": "2",
                                    "Foglalasok szama": "6",
                                    "Helyezes": "12"
                                },
                                {
                                    "SZOBA_FK": "42",
                                    "FEROHELY": "2",
                                    "Foglalasok szama": "6",
                                    "Helyezes": "12"
                                },
                                {
                                    "SZOBA_FK": "64",
                                    "FEROHELY": "2",
                                    "Foglalasok szama": "6",
                                    "Helyezes": "12"
                                },
                                {
                                    "SZOBA_FK": "67",
                                    "FEROHELY": "2",
                                    "Foglalasok szama": "6",
                                    "Helyezes": "12"
                                },
                                {
                                    "SZOBA_FK": "28",
                                    "FEROHELY": "2",
                                    "Foglalasok szama": "6",
                                    "Helyezes": "12"
                                },
                                {
                                    "SZOBA_FK": "29",
                                    "FEROHELY": "2",
                                    "Foglalasok szama": "6",
                                    "Helyezes": "12"
                                },
                                {
                                    "SZOBA_FK": "19",
                                    "FEROHELY": "2",
                                    "Foglalasok szama": "6",
                                    "Helyezes": "12"
                                },
                                {
                                    "SZOBA_FK": "33",
                                    "FEROHELY": "2",
                                    "Foglalasok szama": "6",
                                    "Helyezes": "12"
                                },
                                {
                                    "SZOBA_FK": "4",
                                    "FEROHELY": "2",
                                    "Foglalasok szama": "6",
                                    "Helyezes": "12"
                                },
                                {
                                    "SZOBA_FK": "7",
                                    "FEROHELY": "2",
                                    "Foglalasok szama": "6",
                                    "Helyezes": "12"
                                },
                                {
                                    "SZOBA_FK": "15",
                                    "FEROHELY": "2",
                                    "Foglalasok szama": "6",
                                    "Helyezes": "12"
                                },
                                {
                                    "SZOBA_FK": "17",
                                    "FEROHELY": "3",
                                    "Foglalasok szama": "6",
                                    "Helyezes": "13"
                                },
                                {
                                    "SZOBA_FK": "18",
                                    "FEROHELY": "3",
                                    "Foglalasok szama": "6",
                                    "Helyezes": "13"
                                },
                                {
                                    "SZOBA_FK": "6",
                                    "FEROHELY": "3",
                                    "Foglalasok szama": "6",
                                    "Helyezes": "13"
                                },
                                {
                                    "SZOBA_FK": "9",
                                    "FEROHELY": "3",
                                    "Foglalasok szama": "6",
                                    "Helyezes": "13"
                                },
                                {
                                    "SZOBA_FK": "22",
                                    "FEROHELY": "3",
                                    "Foglalasok szama": "6",
                                    "Helyezes": "13"
                                },
                                {
                                    "SZOBA_FK": "36",
                                    "FEROHELY": "3",
                                    "Foglalasok szama": "6",
                                    "Helyezes": "13"
                                },
                                {
                                    "SZOBA_FK": "44",
                                    "FEROHELY": "3",
                                    "Foglalasok szama": "6",
                                    "Helyezes": "13"
                                },
                                {
                                    "SZOBA_FK": "54",
                                    "FEROHELY": "3",
                                    "Foglalasok szama": "6",
                                    "Helyezes": "13"
                                },
                                {
                                    "SZOBA_FK": "77",
                                    "FEROHELY": "3",
                                    "Foglalasok szama": "6",
                                    "Helyezes": "13"
                                },
                                {
                                    "SZOBA_FK": "82",
                                    "FEROHELY": "3",
                                    "Foglalasok szama": "6",
                                    "Helyezes": "13"
                                },
                                {
                                    "SZOBA_FK": "92",
                                    "FEROHELY": "3",
                                    "Foglalasok szama": "6",
                                    "Helyezes": "13"
                                },
                                {
                                    "SZOBA_FK": "132",
                                    "FEROHELY": "3",
                                    "Foglalasok szama": "6",
                                    "Helyezes": "13"
                                },
                                {
                                    "SZOBA_FK": "133",
                                    "FEROHELY": "3",
                                    "Foglalasok szama": "6",
                                    "Helyezes": "13"
                                },
                                {
                                    "SZOBA_FK": "134",
                                    "FEROHELY": "3",
                                    "Foglalasok szama": "6",
                                    "Helyezes": "13"
                                },
                                {
                                    "SZOBA_FK": "146",
                                    "FEROHELY": "3",
                                    "Foglalasok szama": "6",
                                    "Helyezes": "13"
                                },
                                {
                                    "SZOBA_FK": "124",
                                    "FEROHELY": "3",
                                    "Foglalasok szama": "6",
                                    "Helyezes": "13"
                                },
                                {
                                    "SZOBA_FK": "120",
                                    "FEROHELY": "3",
                                    "Foglalasok szama": "6",
                                    "Helyezes": "13"
                                },
                                {
                                    "SZOBA_FK": "176",
                                    "FEROHELY": "3",
                                    "Foglalasok szama": "6",
                                    "Helyezes": "13"
                                },
                                {
                                    "SZOBA_FK": "181",
                                    "FEROHELY": "3",
                                    "Foglalasok szama": "6",
                                    "Helyezes": "13"
                                },
                                {
                                    "SZOBA_FK": "188",
                                    "FEROHELY": "3",
                                    "Foglalasok szama": "6",
                                    "Helyezes": "13"
                                },
                                {
                                    "SZOBA_FK": "197",
                                    "FEROHELY": "3",
                                    "Foglalasok szama": "6",
                                    "Helyezes": "13"
                                },
                                {
                                    "SZOBA_FK": "189",
                                    "FEROHELY": "2",
                                    "Foglalasok szama": "5",
                                    "Helyezes": "14"
                                },
                                {
                                    "SZOBA_FK": "190",
                                    "FEROHELY": "2",
                                    "Foglalasok szama": "5",
                                    "Helyezes": "14"
                                },
                                {
                                    "SZOBA_FK": "191",
                                    "FEROHELY": "2",
                                    "Foglalasok szama": "5",
                                    "Helyezes": "14"
                                },
                                {
                                    "SZOBA_FK": "168",
                                    "FEROHELY": "2",
                                    "Foglalasok szama": "5",
                                    "Helyezes": "14"
                                },
                                {
                                    "SZOBA_FK": "175",
                                    "FEROHELY": "2",
                                    "Foglalasok szama": "5",
                                    "Helyezes": "14"
                                },
                                {
                                    "SZOBA_FK": "170",
                                    "FEROHELY": "2",
                                    "Foglalasok szama": "5",
                                    "Helyezes": "14"
                                },
                                {
                                    "SZOBA_FK": "171",
                                    "FEROHELY": "2",
                                    "Foglalasok szama": "5",
                                    "Helyezes": "14"
                                },
                                {
                                    "SZOBA_FK": "157",
                                    "FEROHELY": "2",
                                    "Foglalasok szama": "5",
                                    "Helyezes": "14"
                                },
                                {
                                    "SZOBA_FK": "154",
                                    "FEROHELY": "2",
                                    "Foglalasok szama": "5",
                                    "Helyezes": "14"
                                },
                                {
                                    "SZOBA_FK": "164",
                                    "FEROHELY": "2",
                                    "Foglalasok szama": "5",
                                    "Helyezes": "14"
                                },
                                {
                                    "SZOBA_FK": "119",
                                    "FEROHELY": "2",
                                    "Foglalasok szama": "5",
                                    "Helyezes": "14"
                                },
                                {
                                    "SZOBA_FK": "107",
                                    "FEROHELY": "2",
                                    "Foglalasok szama": "5",
                                    "Helyezes": "14"
                                },
                                {
                                    "SZOBA_FK": "128",
                                    "FEROHELY": "2",
                                    "Foglalasok szama": "5",
                                    "Helyezes": "14"
                                },
                                {
                                    "SZOBA_FK": "131",
                                    "FEROHELY": "2",
                                    "Foglalasok szama": "5",
                                    "Helyezes": "14"
                                },
                                {
                                    "SZOBA_FK": "99",
                                    "FEROHELY": "2",
                                    "Foglalasok szama": "5",
                                    "Helyezes": "14"
                                },
                                {
                                    "SZOBA_FK": "111",
                                    "FEROHELY": "2",
                                    "Foglalasok szama": "5",
                                    "Helyezes": "14"
                                },
                                {
                                    "SZOBA_FK": "81",
                                    "FEROHELY": "2",
                                    "Foglalasok szama": "5",
                                    "Helyezes": "14"
                                },
                                {
                                    "SZOBA_FK": "86",
                                    "FEROHELY": "2",
                                    "Foglalasok szama": "5",
                                    "Helyezes": "14"
                                },
                                {
                                    "SZOBA_FK": "52",
                                    "FEROHELY": "2",
                                    "Foglalasok szama": "5",
                                    "Helyezes": "14"
                                },
                                {
                                    "SZOBA_FK": "45",
                                    "FEROHELY": "2",
                                    "Foglalasok szama": "5",
                                    "Helyezes": "14"
                                },
                                {
                                    "SZOBA_FK": "62",
                                    "FEROHELY": "2",
                                    "Foglalasok szama": "5",
                                    "Helyezes": "14"
                                },
                                {
                                    "SZOBA_FK": "61",
                                    "FEROHELY": "3",
                                    "Foglalasok szama": "5",
                                    "Helyezes": "15"
                                },
                                {
                                    "SZOBA_FK": "51",
                                    "FEROHELY": "3",
                                    "Foglalasok szama": "5",
                                    "Helyezes": "15"
                                },
                                {
                                    "SZOBA_FK": "20",
                                    "FEROHELY": "3",
                                    "Foglalasok szama": "5",
                                    "Helyezes": "15"
                                },
                                {
                                    "SZOBA_FK": "8",
                                    "FEROHELY": "3",
                                    "Foglalasok szama": "5",
                                    "Helyezes": "15"
                                },
                                {
                                    "SZOBA_FK": "16",
                                    "FEROHELY": "3",
                                    "Foglalasok szama": "5",
                                    "Helyezes": "15"
                                },
                                {
                                    "SZOBA_FK": "87",
                                    "FEROHELY": "3",
                                    "Foglalasok szama": "5",
                                    "Helyezes": "15"
                                },
                                {
                                    "SZOBA_FK": "79",
                                    "FEROHELY": "3",
                                    "Foglalasok szama": "5",
                                    "Helyezes": "15"
                                },
                                {
                                    "SZOBA_FK": "112",
                                    "FEROHELY": "3",
                                    "Foglalasok szama": "5",
                                    "Helyezes": "15"
                                },
                                {
                                    "SZOBA_FK": "113",
                                    "FEROHELY": "3",
                                    "Foglalasok szama": "5",
                                    "Helyezes": "15"
                                },
                                {
                                    "SZOBA_FK": "93",
                                    "FEROHELY": "3",
                                    "Foglalasok szama": "5",
                                    "Helyezes": "15"
                                },
                                {
                                    "SZOBA_FK": "144",
                                    "FEROHELY": "3",
                                    "Foglalasok szama": "5",
                                    "Helyezes": "15"
                                },
                                {
                                    "SZOBA_FK": "123",
                                    "FEROHELY": "3",
                                    "Foglalasok szama": "5",
                                    "Helyezes": "15"
                                },
                                {
                                    "SZOBA_FK": "153",
                                    "FEROHELY": "3",
                                    "Foglalasok szama": "5",
                                    "Helyezes": "15"
                                },
                                {
                                    "SZOBA_FK": "160",
                                    "FEROHELY": "3",
                                    "Foglalasok szama": "5",
                                    "Helyezes": "15"
                                },
                                {
                                    "SZOBA_FK": "155",
                                    "FEROHELY": "3",
                                    "Foglalasok szama": "5",
                                    "Helyezes": "15"
                                },
                                {
                                    "SZOBA_FK": "152",
                                    "FEROHELY": "2",
                                    "Foglalasok szama": "4",
                                    "Helyezes": "16"
                                },
                                {
                                    "SZOBA_FK": "173",
                                    "FEROHELY": "2",
                                    "Foglalasok szama": "4",
                                    "Helyezes": "16"
                                },
                                {
                                    "SZOBA_FK": "174",
                                    "FEROHELY": "2",
                                    "Foglalasok szama": "4",
                                    "Helyezes": "16"
                                },
                                {
                                    "SZOBA_FK": "186",
                                    "FEROHELY": "2",
                                    "Foglalasok szama": "4",
                                    "Helyezes": "16"
                                },
                                {
                                    "SZOBA_FK": "196",
                                    "FEROHELY": "2",
                                    "Foglalasok szama": "4",
                                    "Helyezes": "16"
                                },
                                {
                                    "SZOBA_FK": "184",
                                    "FEROHELY": "2",
                                    "Foglalasok szama": "4",
                                    "Helyezes": "16"
                                },
                                {
                                    "SZOBA_FK": "129",
                                    "FEROHELY": "2",
                                    "Foglalasok szama": "4",
                                    "Helyezes": "16"
                                },
                                {
                                    "SZOBA_FK": "100",
                                    "FEROHELY": "2",
                                    "Foglalasok szama": "4",
                                    "Helyezes": "16"
                                },
                                {
                                    "SZOBA_FK": "114",
                                    "FEROHELY": "2",
                                    "Foglalasok szama": "4",
                                    "Helyezes": "16"
                                },
                                {
                                    "SZOBA_FK": "98",
                                    "FEROHELY": "2",
                                    "Foglalasok szama": "4",
                                    "Helyezes": "16"
                                },
                                {
                                    "SZOBA_FK": "103",
                                    "FEROHELY": "2",
                                    "Foglalasok szama": "4",
                                    "Helyezes": "16"
                                },
                                {
                                    "SZOBA_FK": "85",
                                    "FEROHELY": "2",
                                    "Foglalasok szama": "4",
                                    "Helyezes": "16"
                                },
                                {
                                    "SZOBA_FK": "91",
                                    "FEROHELY": "2",
                                    "Foglalasok szama": "4",
                                    "Helyezes": "16"
                                },
                                {
                                    "SZOBA_FK": "11",
                                    "FEROHELY": "2",
                                    "Foglalasok szama": "4",
                                    "Helyezes": "16"
                                },
                                {
                                    "SZOBA_FK": "5",
                                    "FEROHELY": "2",
                                    "Foglalasok szama": "4",
                                    "Helyezes": "16"
                                },
                                {
                                    "SZOBA_FK": "21",
                                    "FEROHELY": "2",
                                    "Foglalasok szama": "4",
                                    "Helyezes": "16"
                                },
                                {
                                    "SZOBA_FK": "50",
                                    "FEROHELY": "2",
                                    "Foglalasok szama": "4",
                                    "Helyezes": "16"
                                },
                                {
                                    "SZOBA_FK": "57",
                                    "FEROHELY": "2",
                                    "Foglalasok szama": "4",
                                    "Helyezes": "16"
                                },
                                {
                                    "SZOBA_FK": "63",
                                    "FEROHELY": "2",
                                    "Foglalasok szama": "4",
                                    "Helyezes": "16"
                                },
                                {
                                    "SZOBA_FK": "72",
                                    "FEROHELY": "2",
                                    "Foglalasok szama": "4",
                                    "Helyezes": "16"
                                },
                                {
                                    "SZOBA_FK": "73",
                                    "FEROHELY": "2",
                                    "Foglalasok szama": "4",
                                    "Helyezes": "16"
                                },
                                {
                                    "SZOBA_FK": "66",
                                    "FEROHELY": "3",
                                    "Foglalasok szama": "4",
                                    "Helyezes": "17"
                                },
                                {
                                    "SZOBA_FK": "69",
                                    "FEROHELY": "3",
                                    "Foglalasok szama": "4",
                                    "Helyezes": "17"
                                },
                                {
                                    "SZOBA_FK": "46",
                                    "FEROHELY": "3",
                                    "Foglalasok szama": "4",
                                    "Helyezes": "17"
                                },
                                {
                                    "SZOBA_FK": "34",
                                    "FEROHELY": "3",
                                    "Foglalasok szama": "4",
                                    "Helyezes": "17"
                                },
                                {
                                    "SZOBA_FK": "40",
                                    "FEROHELY": "3",
                                    "Foglalasok szama": "4",
                                    "Helyezes": "17"
                                },
                                {
                                    "SZOBA_FK": "2",
                                    "FEROHELY": "3",
                                    "Foglalasok szama": "4",
                                    "Helyezes": "17"
                                },
                                {
                                    "SZOBA_FK": "10",
                                    "FEROHELY": "3",
                                    "Foglalasok szama": "4",
                                    "Helyezes": "17"
                                },
                                {
                                    "SZOBA_FK": "13",
                                    "FEROHELY": "3",
                                    "Foglalasok szama": "4",
                                    "Helyezes": "17"
                                },
                                {
                                    "SZOBA_FK": "90",
                                    "FEROHELY": "3",
                                    "Foglalasok szama": "4",
                                    "Helyezes": "17"
                                },
                                {
                                    "SZOBA_FK": "84",
                                    "FEROHELY": "3",
                                    "Foglalasok szama": "4",
                                    "Helyezes": "17"
                                },
                                {
                                    "SZOBA_FK": "104",
                                    "FEROHELY": "3",
                                    "Foglalasok szama": "4",
                                    "Helyezes": "17"
                                },
                                {
                                    "SZOBA_FK": "95",
                                    "FEROHELY": "3",
                                    "Foglalasok szama": "4",
                                    "Helyezes": "17"
                                },
                                {
                                    "SZOBA_FK": "183",
                                    "FEROHELY": "3",
                                    "Foglalasok szama": "4",
                                    "Helyezes": "17"
                                },
                                {
                                    "SZOBA_FK": "177",
                                    "FEROHELY": "3",
                                    "Foglalasok szama": "4",
                                    "Helyezes": "17"
                                },
                                {
                                    "SZOBA_FK": "178",
                                    "FEROHELY": "3",
                                    "Foglalasok szama": "4",
                                    "Helyezes": "17"
                                },
                                {
                                    "SZOBA_FK": "180",
                                    "FEROHELY": "2",
                                    "Foglalasok szama": "3",
                                    "Helyezes": "18"
                                },
                                {
                                    "SZOBA_FK": "151",
                                    "FEROHELY": "2",
                                    "Foglalasok szama": "3",
                                    "Helyezes": "18"
                                },
                                {
                                    "SZOBA_FK": "158",
                                    "FEROHELY": "2",
                                    "Foglalasok szama": "3",
                                    "Helyezes": "18"
                                },
                                {
                                    "SZOBA_FK": "166",
                                    "FEROHELY": "2",
                                    "Foglalasok szama": "3",
                                    "Helyezes": "18"
                                },
                                {
                                    "SZOBA_FK": "101",
                                    "FEROHELY": "2",
                                    "Foglalasok szama": "3",
                                    "Helyezes": "18"
                                },
                                {
                                    "SZOBA_FK": "75",
                                    "FEROHELY": "2",
                                    "Foglalasok szama": "3",
                                    "Helyezes": "18"
                                },
                                {
                                    "SZOBA_FK": "76",
                                    "FEROHELY": "2",
                                    "Foglalasok szama": "3",
                                    "Helyezes": "18"
                                },
                                {
                                    "SZOBA_FK": "136",
                                    "FEROHELY": "2",
                                    "Foglalasok szama": "3",
                                    "Helyezes": "18"
                                },
                                {
                                    "SZOBA_FK": "23",
                                    "FEROHELY": "2",
                                    "Foglalasok szama": "3",
                                    "Helyezes": "18"
                                },
                                {
                                    "SZOBA_FK": "37",
                                    "FEROHELY": "2",
                                    "Foglalasok szama": "3",
                                    "Helyezes": "18"
                                },
                                {
                                    "SZOBA_FK": "68",
                                    "FEROHELY": "2",
                                    "Foglalasok szama": "3",
                                    "Helyezes": "18"
                                },
                                {
                                    "SZOBA_FK": "71",
                                    "FEROHELY": "3",
                                    "Foglalasok szama": "3",
                                    "Helyezes": "19"
                                },
                                {
                                    "SZOBA_FK": "30",
                                    "FEROHELY": "3",
                                    "Foglalasok szama": "3",
                                    "Helyezes": "19"
                                },
                                {
                                    "SZOBA_FK": "31",
                                    "FEROHELY": "3",
                                    "Foglalasok szama": "3",
                                    "Helyezes": "19"
                                },
                                {
                                    "SZOBA_FK": "14",
                                    "FEROHELY": "3",
                                    "Foglalasok szama": "3",
                                    "Helyezes": "19"
                                },
                                {
                                    "SZOBA_FK": "135",
                                    "FEROHELY": "3",
                                    "Foglalasok szama": "3",
                                    "Helyezes": "19"
                                },
                                {
                                    "SZOBA_FK": "162",
                                    "FEROHELY": "3",
                                    "Foglalasok szama": "3",
                                    "Helyezes": "19"
                                },
                                {
                                    "SZOBA_FK": "179",
                                    "FEROHELY": "3",
                                    "Foglalasok szama": "3",
                                    "Helyezes": "19"
                                },
                                {
                                    "SZOBA_FK": "24",
                                    "FEROHELY": "4",
                                    "Foglalasok szama": "3",
                                    "Helyezes": "20"
                                },
                                {
                                    "SZOBA_FK": "26",
                                    "FEROHELY": "2",
                                    "Foglalasok szama": "2",
                                    "Helyezes": "21"
                                },
                                {
                                    "SZOBA_FK": "47",
                                    "FEROHELY": "2",
                                    "Foglalasok szama": "2",
                                    "Helyezes": "21"
                                },
                                {
                                    "SZOBA_FK": "53",
                                    "FEROHELY": "2",
                                    "Foglalasok szama": "2",
                                    "Helyezes": "21"
                                },
                                {
                                    "SZOBA_FK": "56",
                                    "FEROHELY": "2",
                                    "Foglalasok szama": "2",
                                    "Helyezes": "21"
                                },
                                {
                                    "SZOBA_FK": "108",
                                    "FEROHELY": "2",
                                    "Foglalasok szama": "2",
                                    "Helyezes": "21"
                                },
                                {
                                    "SZOBA_FK": "102",
                                    "FEROHELY": "2",
                                    "Foglalasok szama": "2",
                                    "Helyezes": "21"
                                },
                                {
                                    "SZOBA_FK": "105",
                                    "FEROHELY": "2",
                                    "Foglalasok szama": "2",
                                    "Helyezes": "21"
                                },
                                {
                                    "SZOBA_FK": "192",
                                    "FEROHELY": "2",
                                    "Foglalasok szama": "2",
                                    "Helyezes": "21"
                                },
                                {
                                    "SZOBA_FK": "167",
                                    "FEROHELY": "3",
                                    "Foglalasok szama": "2",
                                    "Helyezes": "22"
                                },
                                {
                                    "SZOBA_FK": "116",
                                    "FEROHELY": "3",
                                    "Foglalasok szama": "2",
                                    "Helyezes": "22"
                                },
                                {
                                    "SZOBA_FK": "142",
                                    "FEROHELY": "3",
                                    "Foglalasok szama": "2",
                                    "Helyezes": "22"
                                },
                                {
                                    "SZOBA_FK": "25",
                                    "FEROHELY": "3",
                                    "Foglalasok szama": "2",
                                    "Helyezes": "22"
                                },
                                {
                                    "SZOBA_FK": "41",
                                    "FEROHELY": "3",
                                    "Foglalasok szama": "2",
                                    "Helyezes": "22"
                                },
                                {
                                    "SZOBA_FK": "32",
                                    "FEROHELY": "2",
                                    "Foglalasok szama": "1",
                                    "Helyezes": "23"
                                },
                                {
                                    "SZOBA_FK": "65",
                                    "FEROHELY": "2",
                                    "Foglalasok szama": "1",
                                    "Helyezes": "23"
                                },
                                {
                                    "SZOBA_FK": "147",
                                    "FEROHELY": "2",
                                    "Foglalasok szama": "1",
                                    "Helyezes": "23"
                                },
                                {
                                    "SZOBA_FK": "125",
                                    "FEROHELY": "2",
                                    "Foglalasok szama": "1",
                                    "Helyezes": "23"
                                },
                                {
                                    "SZOBA_FK": "194",
                                    "FEROHELY": "2",
                                    "Foglalasok szama": "1",
                                    "Helyezes": "23"
                                },
                                {
                                    "SZOBA_FK": "60",
                                    "FEROHELY": "3",
                                    "Foglalasok szama": "1",
                                    "Helyezes": "24"
                                }
                            ]
                        },
                        "text/html": [
                            "<table>",
                            "<tr><th>SZOBA_FK</th><th>FEROHELY</th><th>Foglalasok szama</th><th>Helyezes</th></tr>",
                            "<tr><td>58</td><td>2</td><td>13</td><td>1</td></tr>",
                            "<tr><td>182</td><td>2</td><td>12</td><td>2</td></tr>",
                            "<tr><td>185</td><td>3</td><td>12</td><td>3</td></tr>",
                            "<tr><td>70</td><td>2</td><td>11</td><td>4</td></tr>",
                            "<tr><td>94</td><td>2</td><td>10</td><td>5</td></tr>",
                            "<tr><td>12</td><td>2</td><td>9</td><td>6</td></tr>",
                            "<tr><td>172</td><td>2</td><td>9</td><td>6</td></tr>",
                            "<tr><td>35</td><td>3</td><td>9</td><td>7</td></tr>",
                            "<tr><td>48</td><td>3</td><td>9</td><td>7</td></tr>",
                            "<tr><td>74</td><td>3</td><td>9</td><td>7</td></tr>",
                            "<tr><td>122</td><td>3</td><td>9</td><td>7</td></tr>",
                            "<tr><td>121</td><td>2</td><td>8</td><td>8</td></tr>",
                            "<tr><td>140</td><td>2</td><td>8</td><td>8</td></tr>",
                            "<tr><td>110</td><td>2</td><td>8</td><td>8</td></tr>",
                            "<tr><td>55</td><td>2</td><td>8</td><td>8</td></tr>",
                            "<tr><td>38</td><td>2</td><td>8</td><td>8</td></tr>",
                            "<tr><td>1</td><td>3</td><td>8</td><td>9</td></tr>",
                            "<tr><td>3</td><td>3</td><td>8</td><td>9</td></tr>",
                            "<tr><td>43</td><td>3</td><td>8</td><td>9</td></tr>",
                            "<tr><td>83</td><td>3</td><td>8</td><td>9</td></tr>",
                            "<tr><td>88</td><td>3</td><td>8</td><td>9</td></tr>",
                            "<tr><td>89</td><td>3</td><td>8</td><td>9</td></tr>",
                            "<tr><td>117</td><td>3</td><td>8</td><td>9</td></tr>",
                            "<tr><td>198</td><td>3</td><td>8</td><td>9</td></tr>",
                            "<tr><td>149</td><td>2</td><td>7</td><td>10</td></tr>",
                            "<tr><td>156</td><td>2</td><td>7</td><td>10</td></tr>",
                            "<tr><td>163</td><td>2</td><td>7</td><td>10</td></tr>",
                            "<tr><td>165</td><td>2</td><td>7</td><td>10</td></tr>",
                            "<tr><td>118</td><td>2</td><td>7</td><td>10</td></tr>",
                            "<tr><td>109</td><td>2</td><td>7</td><td>10</td></tr>",
                            "<tr><td>127</td><td>2</td><td>7</td><td>10</td></tr>",
                            "<tr><td>139</td><td>2</td><td>7</td><td>10</td></tr>",
                            "<tr><td>80</td><td>2</td><td>7</td><td>10</td></tr>",
                            "<tr><td>59</td><td>2</td><td>7</td><td>10</td></tr>",
                            "<tr><td>39</td><td>2</td><td>7</td><td>10</td></tr>",
                            "<tr><td>27</td><td>3</td><td>7</td><td>11</td></tr>",
                            "<tr><td>49</td><td>3</td><td>7</td><td>11</td></tr>",
                            "<tr><td>96</td><td>3</td><td>7</td><td>11</td></tr>",
                            "<tr><td>97</td><td>3</td><td>7</td><td>11</td></tr>",
                            "<tr><td>138</td><td>3</td><td>7</td><td>11</td></tr>",
                            "<tr><td>143</td><td>3</td><td>7</td><td>11</td></tr>",
                            "<tr><td>115</td><td>3</td><td>7</td><td>11</td></tr>",
                            "<tr><td>187</td><td>3</td><td>7</td><td>11</td></tr>",
                            "<tr><td>193</td><td>3</td><td>7</td><td>11</td></tr>",
                            "<tr><td>195</td><td>2</td><td>6</td><td>12</td></tr>",
                            "<tr><td>161</td><td>2</td><td>6</td><td>12</td></tr>",
                            "<tr><td>150</td><td>2</td><td>6</td><td>12</td></tr>",
                            "<tr><td>148</td><td>2</td><td>6</td><td>12</td></tr>",
                            "<tr><td>169</td><td>2</td><td>6</td><td>12</td></tr>",
                            "<tr><td>106</td><td>2</td><td>6</td><td>12</td></tr>",
                            "<tr><td>126</td><td>2</td><td>6</td><td>12</td></tr>",
                            "<tr><td>145</td><td>2</td><td>6</td><td>12</td></tr>",
                            "<tr><td>141</td><td>2</td><td>6</td><td>12</td></tr>",
                            "<tr><td>130</td><td>2</td><td>6</td><td>12</td></tr>",
                            "<tr><td>137</td><td>2</td><td>6</td><td>12</td></tr>",
                            "<tr><td>78</td><td>2</td><td>6</td><td>12</td></tr>",
                            "<tr><td>42</td><td>2</td><td>6</td><td>12</td></tr>",
                            "<tr><td>64</td><td>2</td><td>6</td><td>12</td></tr>",
                            "<tr><td>67</td><td>2</td><td>6</td><td>12</td></tr>",
                            "<tr><td>28</td><td>2</td><td>6</td><td>12</td></tr>",
                            "<tr><td>29</td><td>2</td><td>6</td><td>12</td></tr>",
                            "<tr><td>19</td><td>2</td><td>6</td><td>12</td></tr>",
                            "<tr><td>33</td><td>2</td><td>6</td><td>12</td></tr>",
                            "<tr><td>4</td><td>2</td><td>6</td><td>12</td></tr>",
                            "<tr><td>7</td><td>2</td><td>6</td><td>12</td></tr>",
                            "<tr><td>15</td><td>2</td><td>6</td><td>12</td></tr>",
                            "<tr><td>17</td><td>3</td><td>6</td><td>13</td></tr>",
                            "<tr><td>18</td><td>3</td><td>6</td><td>13</td></tr>",
                            "<tr><td>6</td><td>3</td><td>6</td><td>13</td></tr>",
                            "<tr><td>9</td><td>3</td><td>6</td><td>13</td></tr>",
                            "<tr><td>22</td><td>3</td><td>6</td><td>13</td></tr>",
                            "<tr><td>36</td><td>3</td><td>6</td><td>13</td></tr>",
                            "<tr><td>44</td><td>3</td><td>6</td><td>13</td></tr>",
                            "<tr><td>54</td><td>3</td><td>6</td><td>13</td></tr>",
                            "<tr><td>77</td><td>3</td><td>6</td><td>13</td></tr>",
                            "<tr><td>82</td><td>3</td><td>6</td><td>13</td></tr>",
                            "<tr><td>92</td><td>3</td><td>6</td><td>13</td></tr>",
                            "<tr><td>132</td><td>3</td><td>6</td><td>13</td></tr>",
                            "<tr><td>133</td><td>3</td><td>6</td><td>13</td></tr>",
                            "<tr><td>134</td><td>3</td><td>6</td><td>13</td></tr>",
                            "<tr><td>146</td><td>3</td><td>6</td><td>13</td></tr>",
                            "<tr><td>124</td><td>3</td><td>6</td><td>13</td></tr>",
                            "<tr><td>120</td><td>3</td><td>6</td><td>13</td></tr>",
                            "<tr><td>176</td><td>3</td><td>6</td><td>13</td></tr>",
                            "<tr><td>181</td><td>3</td><td>6</td><td>13</td></tr>",
                            "<tr><td>188</td><td>3</td><td>6</td><td>13</td></tr>",
                            "<tr><td>197</td><td>3</td><td>6</td><td>13</td></tr>",
                            "<tr><td>189</td><td>2</td><td>5</td><td>14</td></tr>",
                            "<tr><td>190</td><td>2</td><td>5</td><td>14</td></tr>",
                            "<tr><td>191</td><td>2</td><td>5</td><td>14</td></tr>",
                            "<tr><td>168</td><td>2</td><td>5</td><td>14</td></tr>",
                            "<tr><td>175</td><td>2</td><td>5</td><td>14</td></tr>",
                            "<tr><td>170</td><td>2</td><td>5</td><td>14</td></tr>",
                            "<tr><td>171</td><td>2</td><td>5</td><td>14</td></tr>",
                            "<tr><td>157</td><td>2</td><td>5</td><td>14</td></tr>",
                            "<tr><td>154</td><td>2</td><td>5</td><td>14</td></tr>",
                            "<tr><td>164</td><td>2</td><td>5</td><td>14</td></tr>",
                            "<tr><td>119</td><td>2</td><td>5</td><td>14</td></tr>",
                            "<tr><td>107</td><td>2</td><td>5</td><td>14</td></tr>",
                            "<tr><td>128</td><td>2</td><td>5</td><td>14</td></tr>",
                            "<tr><td>131</td><td>2</td><td>5</td><td>14</td></tr>",
                            "<tr><td>99</td><td>2</td><td>5</td><td>14</td></tr>",
                            "<tr><td>111</td><td>2</td><td>5</td><td>14</td></tr>",
                            "<tr><td>81</td><td>2</td><td>5</td><td>14</td></tr>",
                            "<tr><td>86</td><td>2</td><td>5</td><td>14</td></tr>",
                            "<tr><td>52</td><td>2</td><td>5</td><td>14</td></tr>",
                            "<tr><td>45</td><td>2</td><td>5</td><td>14</td></tr>",
                            "<tr><td>62</td><td>2</td><td>5</td><td>14</td></tr>",
                            "<tr><td>61</td><td>3</td><td>5</td><td>15</td></tr>",
                            "<tr><td>51</td><td>3</td><td>5</td><td>15</td></tr>",
                            "<tr><td>20</td><td>3</td><td>5</td><td>15</td></tr>",
                            "<tr><td>8</td><td>3</td><td>5</td><td>15</td></tr>",
                            "<tr><td>16</td><td>3</td><td>5</td><td>15</td></tr>",
                            "<tr><td>87</td><td>3</td><td>5</td><td>15</td></tr>",
                            "<tr><td>79</td><td>3</td><td>5</td><td>15</td></tr>",
                            "<tr><td>112</td><td>3</td><td>5</td><td>15</td></tr>",
                            "<tr><td>113</td><td>3</td><td>5</td><td>15</td></tr>",
                            "<tr><td>93</td><td>3</td><td>5</td><td>15</td></tr>",
                            "<tr><td>144</td><td>3</td><td>5</td><td>15</td></tr>",
                            "<tr><td>123</td><td>3</td><td>5</td><td>15</td></tr>",
                            "<tr><td>153</td><td>3</td><td>5</td><td>15</td></tr>",
                            "<tr><td>160</td><td>3</td><td>5</td><td>15</td></tr>",
                            "<tr><td>155</td><td>3</td><td>5</td><td>15</td></tr>",
                            "<tr><td>152</td><td>2</td><td>4</td><td>16</td></tr>",
                            "<tr><td>173</td><td>2</td><td>4</td><td>16</td></tr>",
                            "<tr><td>174</td><td>2</td><td>4</td><td>16</td></tr>",
                            "<tr><td>186</td><td>2</td><td>4</td><td>16</td></tr>",
                            "<tr><td>196</td><td>2</td><td>4</td><td>16</td></tr>",
                            "<tr><td>184</td><td>2</td><td>4</td><td>16</td></tr>",
                            "<tr><td>129</td><td>2</td><td>4</td><td>16</td></tr>",
                            "<tr><td>100</td><td>2</td><td>4</td><td>16</td></tr>",
                            "<tr><td>114</td><td>2</td><td>4</td><td>16</td></tr>",
                            "<tr><td>98</td><td>2</td><td>4</td><td>16</td></tr>",
                            "<tr><td>103</td><td>2</td><td>4</td><td>16</td></tr>",
                            "<tr><td>85</td><td>2</td><td>4</td><td>16</td></tr>",
                            "<tr><td>91</td><td>2</td><td>4</td><td>16</td></tr>",
                            "<tr><td>11</td><td>2</td><td>4</td><td>16</td></tr>",
                            "<tr><td>5</td><td>2</td><td>4</td><td>16</td></tr>",
                            "<tr><td>21</td><td>2</td><td>4</td><td>16</td></tr>",
                            "<tr><td>50</td><td>2</td><td>4</td><td>16</td></tr>",
                            "<tr><td>57</td><td>2</td><td>4</td><td>16</td></tr>",
                            "<tr><td>63</td><td>2</td><td>4</td><td>16</td></tr>",
                            "<tr><td>72</td><td>2</td><td>4</td><td>16</td></tr>",
                            "<tr><td>73</td><td>2</td><td>4</td><td>16</td></tr>",
                            "<tr><td>66</td><td>3</td><td>4</td><td>17</td></tr>",
                            "<tr><td>69</td><td>3</td><td>4</td><td>17</td></tr>",
                            "<tr><td>46</td><td>3</td><td>4</td><td>17</td></tr>",
                            "<tr><td>34</td><td>3</td><td>4</td><td>17</td></tr>",
                            "<tr><td>40</td><td>3</td><td>4</td><td>17</td></tr>",
                            "<tr><td>2</td><td>3</td><td>4</td><td>17</td></tr>",
                            "<tr><td>10</td><td>3</td><td>4</td><td>17</td></tr>",
                            "<tr><td>13</td><td>3</td><td>4</td><td>17</td></tr>",
                            "<tr><td>90</td><td>3</td><td>4</td><td>17</td></tr>",
                            "<tr><td>84</td><td>3</td><td>4</td><td>17</td></tr>",
                            "<tr><td>104</td><td>3</td><td>4</td><td>17</td></tr>",
                            "<tr><td>95</td><td>3</td><td>4</td><td>17</td></tr>",
                            "<tr><td>183</td><td>3</td><td>4</td><td>17</td></tr>",
                            "<tr><td>177</td><td>3</td><td>4</td><td>17</td></tr>",
                            "<tr><td>178</td><td>3</td><td>4</td><td>17</td></tr>",
                            "<tr><td>180</td><td>2</td><td>3</td><td>18</td></tr>",
                            "<tr><td>151</td><td>2</td><td>3</td><td>18</td></tr>",
                            "<tr><td>158</td><td>2</td><td>3</td><td>18</td></tr>",
                            "<tr><td>166</td><td>2</td><td>3</td><td>18</td></tr>",
                            "<tr><td>101</td><td>2</td><td>3</td><td>18</td></tr>",
                            "<tr><td>75</td><td>2</td><td>3</td><td>18</td></tr>",
                            "<tr><td>76</td><td>2</td><td>3</td><td>18</td></tr>",
                            "<tr><td>136</td><td>2</td><td>3</td><td>18</td></tr>",
                            "<tr><td>23</td><td>2</td><td>3</td><td>18</td></tr>",
                            "<tr><td>37</td><td>2</td><td>3</td><td>18</td></tr>",
                            "<tr><td>68</td><td>2</td><td>3</td><td>18</td></tr>",
                            "<tr><td>71</td><td>3</td><td>3</td><td>19</td></tr>",
                            "<tr><td>30</td><td>3</td><td>3</td><td>19</td></tr>",
                            "<tr><td>31</td><td>3</td><td>3</td><td>19</td></tr>",
                            "<tr><td>14</td><td>3</td><td>3</td><td>19</td></tr>",
                            "<tr><td>135</td><td>3</td><td>3</td><td>19</td></tr>",
                            "<tr><td>162</td><td>3</td><td>3</td><td>19</td></tr>",
                            "<tr><td>179</td><td>3</td><td>3</td><td>19</td></tr>",
                            "<tr><td>24</td><td>4</td><td>3</td><td>20</td></tr>",
                            "<tr><td>26</td><td>2</td><td>2</td><td>21</td></tr>",
                            "<tr><td>47</td><td>2</td><td>2</td><td>21</td></tr>",
                            "<tr><td>53</td><td>2</td><td>2</td><td>21</td></tr>",
                            "<tr><td>56</td><td>2</td><td>2</td><td>21</td></tr>",
                            "<tr><td>108</td><td>2</td><td>2</td><td>21</td></tr>",
                            "<tr><td>102</td><td>2</td><td>2</td><td>21</td></tr>",
                            "<tr><td>105</td><td>2</td><td>2</td><td>21</td></tr>",
                            "<tr><td>192</td><td>2</td><td>2</td><td>21</td></tr>",
                            "<tr><td>167</td><td>3</td><td>2</td><td>22</td></tr>",
                            "<tr><td>116</td><td>3</td><td>2</td><td>22</td></tr>",
                            "<tr><td>142</td><td>3</td><td>2</td><td>22</td></tr>",
                            "<tr><td>25</td><td>3</td><td>2</td><td>22</td></tr>",
                            "<tr><td>41</td><td>3</td><td>2</td><td>22</td></tr>",
                            "<tr><td>32</td><td>2</td><td>1</td><td>23</td></tr>",
                            "<tr><td>65</td><td>2</td><td>1</td><td>23</td></tr>",
                            "<tr><td>147</td><td>2</td><td>1</td><td>23</td></tr>",
                            "<tr><td>125</td><td>2</td><td>1</td><td>23</td></tr>",
                            "<tr><td>194</td><td>2</td><td>1</td><td>23</td></tr>",
                            "<tr><td>60</td><td>3</td><td>1</td><td>24</td></tr>",
                            "</table>"
                        ]
                    }
                }
            ],
            "execution_count": 20
        },
        {
            "cell_type": "markdown",
            "source": [
                "Kérdezzük le szálláshelyenként, hogy ott összesen hány főre foglaltak (felnőtt + gyermek együttesen)!  \n",
                "\n",
                "a. Szűrjük le a legkevesebb foglalással rendelkező szálláshelyet!\n",
                "\n",
                "b. Csak a szálláshely neve és a foglalásszám jelenjen meg!\n",
                "\n",
                "Válaszszöveg 3 kérdés<span style=\"font-size: 14.44px;\">Rich text szerkeszt</span>"
            ],
            "metadata": {
                "language": "sql",
                "azdata_cell_guid": "02d3e207-21db-47e5-88bf-56024241b3d1"
            },
            "attachments": {}
        },
        {
            "cell_type": "code",
            "source": [
                "SELECT sza.SZALLAS_NEV, SUM(f.FELNOTT_SZAM + f.GYERMEK_SZAM)\r\n",
                "FROM Foglalas f JOIN Szoba sz ON f.SZOBA_FK = sz.SZOBA_ID\r\n",
                "                JOIN Szallashely sza ON sz.SZALLAS_FK = sza.SZALLAS_ID\r\n",
                "GROUP BY sza.SZALLAS_NEV"
            ],
            "metadata": {
                "azdata_cell_guid": "e67b72fc-9d0d-4299-9883-8dc3073ded18",
                "language": "sql"
            },
            "outputs": [
{
    "output_type": "display_data",
    "data": {
        "text/html": "(11 rows affected)"
    },
    "metadata": {}
}, {
    "output_type": "display_data",
    "data": {
        "text/html": "Total execution time: 00:00:00.011"
    },
    "metadata": {}
}, {
    "output_type": "execute_result",
    "metadata": {},
    "execution_count": 22,
    "data": {
        "application/vnd.dataresource+json": {
            "schema": {
                "fields": [
                    {
                        "name": "SZALLAS_NEV"
                    },
                    {
                        "name": "(No column name)"
                    }
                ]
            },
            "data": [
                {
                    "SZALLAS_NEV": "Szieszta Apartmanház",
                    "(No column name)": "83"
                },
                {
                    "SZALLAS_NEV": "Fortuna Panzió",
                    "(No column name)": "311"
                },
                {
                    "SZALLAS_NEV": "Kentaur Hotel",
                    "(No column name)": "420"
                },
                {
                    "SZALLAS_NEV": "Partiszél Vendégház",
                    "(No column name)": "63"
                },
                {
                    "SZALLAS_NEV": "Sába-Ház",
                    "(No column name)": "166"
                },
                {
                    "SZALLAS_NEV": "Családi Ház",
                    "(No column name)": "52"
                },
                {
                    "SZALLAS_NEV": "Fortuna Apartman",
                    "(No column name)": "106"
                },
                {
                    "SZALLAS_NEV": "Hotel Három Hattyú",
                    "(No column name)": "504"
                },
                {
                    "SZALLAS_NEV": "Jáde panzió",
                    "(No column name)": "66"
                },
                {
                    "SZALLAS_NEV": "Lagúna Hotel",
                    "(No column name)": "291"
                },
                {
                    "SZALLAS_NEV": "Gold Hotel",
                    "(No column name)": "428"
                }
            ]
        },
        "text/html": [
            "<table>",
            "<tr><th>SZALLAS_NEV</th><th>(No column name)</th></tr>",
            "<tr><td>Szieszta Apartmanház</td><td>83</td></tr>",
            "<tr><td>Fortuna Panzió</td><td>311</td></tr>",
            "<tr><td>Kentaur Hotel</td><td>420</td></tr>",
            "<tr><td>Partiszél Vendégház</td><td>63</td></tr>",
            "<tr><td>Sába-Ház</td><td>166</td></tr>",
            "<tr><td>Családi Ház</td><td>52</td></tr>",
            "<tr><td>Fortuna Apartman</td><td>106</td></tr>",
            "<tr><td>Hotel Három Hattyú</td><td>504</td></tr>",
            "<tr><td>Jáde panzió</td><td>66</td></tr>",
            "<tr><td>Lagúna Hotel</td><td>291</td></tr>",
            "<tr><td>Gold Hotel</td><td>428</td></tr>",
            "</table>"
        ]
    }
}
],
            "execution_count": 22
        }
    ]
}