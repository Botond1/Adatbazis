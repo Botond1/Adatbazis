{
    "metadata": {
        "kernelspec": {
            "name": "SQL",
            "display_name": "SQL",
            "language": "sql"
        },
        "language_info": {
            "name": "sql",
            "version": ""
        }
    },
    "nbformat_minor": 2,
    "nbformat": 4,
    "cells": [
        {
            "cell_type": "markdown",
            "source": [
                "1. <span style=\"background-color: rgb(255, 255, 255); color: rgb(0, 0, 0); font-family: &quot;Open Sans&quot;, sans-serif; font-size: 14.44px;\">Készítsünk sorszámozott listát a szálláshelyek adatairól!&nbsp;</span> \n",
                "\n",
                "a. A lista legyen a szálláshely típusa szerint, azon belül hely szerint, majd a neve szerint növekvően rendezve! \n",
                "\n",
                "b. A számozás típusonként kezdődjön újra!"
            ],
            "metadata": {
                "azdata_cell_guid": "363cd270-6577-449b-9c89-d4b7c7972d52"
            },
            "attachments": {}
        },
        {
            "cell_type": "code",
            "source": [
                "SELECT\r\n",
                "  ROW_NUMBER() OVER(PARTITION BY tipus ORDER BY tipus, HELY, SZALLAS_NEV) AS Sorszam,\r\n",
                "  *\r\n",
                "FROM Szallashely\r\n",
                ""
            ],
            "metadata": {
                "azdata_cell_guid": "6ab9f633-a3b5-48c9-a1dc-4fb8235ae85b",
                "language": "sql"
            },
            "outputs": [
                {
                    "output_type": "display_data",
                    "data": {
                        "text/html": "(21 rows affected)"
                    },
                    "metadata": {}
                },
                {
                    "output_type": "display_data",
                    "data": {
                        "text/html": "Total execution time: 00:00:00.007"
                    },
                    "metadata": {}
                },
                {
                    "output_type": "execute_result",
                    "execution_count": 2,
                    "data": {
                        "application/vnd.dataresource+json": {
                            "schema": {
                                "fields": [
                                    {
                                        "name": "SZALLAS_ID"
                                    },
                                    {
                                        "name": "SZALLAS_NEV"
                                    },
                                    {
                                        "name": "HELY"
                                    },
                                    {
                                        "name": "CSILLAGOK_SZAMA"
                                    },
                                    {
                                        "name": "TIPUS"
                                    },
                                    {
                                        "name": "ROGZITETTE"
                                    },
                                    {
                                        "name": "ROGZ_IDO"
                                    },
                                    {
                                        "name": "CIM"
                                    }
                                ]
                            },
                            "data": [
                                {
                                    "SZALLAS_ID": "1",
                                    "SZALLAS_NEV": "Sába-Ház",
                                    "HELY": "Balaton-dél",
                                    "CSILLAGOK_SZAMA": "0",
                                    "TIPUS": "vendégház",
                                    "ROGZITETTE": "Béla",
                                    "ROGZ_IDO": "2016-02-28",
                                    "CIM": "8630 Balatonboglár, Radnóti Miklós utca 8"
                                },
                                {
                                    "SZALLAS_ID": "2",
                                    "SZALLAS_NEV": "Családi Ház",
                                    "HELY": "Balaton-dél",
                                    "CSILLAGOK_SZAMA": "0",
                                    "TIPUS": "vendégház",
                                    "ROGZITETTE": "Béla",
                                    "ROGZ_IDO": "2016-03-02",
                                    "CIM": "8630 Balatonboglár, József Attila utca 25"
                                },
                                {
                                    "SZALLAS_ID": "3",
                                    "SZALLAS_NEV": "Fortuna Apartman",
                                    "HELY": "Hajdúbihar megye",
                                    "CSILLAGOK_SZAMA": "0",
                                    "TIPUS": "Apartman",
                                    "ROGZITETTE": "Sára",
                                    "ROGZ_IDO": "2016-03-06",
                                    "CIM": "4200 Hajdúszoboszló, Wesselényi utca 56."
                                },
                                {
                                    "SZALLAS_ID": "4",
                                    "SZALLAS_NEV": "Fortuna panzió",
                                    "HELY": "Budapest",
                                    "CSILLAGOK_SZAMA": "3",
                                    "TIPUS": "panzió",
                                    "ROGZITETTE": "Béla",
                                    "ROGZ_IDO": "2016-03-07",
                                    "CIM": "1019 Budapest XIV. Cinkotai út 86."
                                },
                                {
                                    "SZALLAS_ID": "5",
                                    "SZALLAS_NEV": "Fortuna Panzió",
                                    "HELY": "Békés megye",
                                    "CSILLAGOK_SZAMA": "3",
                                    "TIPUS": "panzió",
                                    "ROGZITETTE": "Sára",
                                    "ROGZ_IDO": "2016-03-08",
                                    "CIM": "5900 Orosháza, Gyopárosfürdő Tópart utca 3."
                                },
                                {
                                    "SZALLAS_ID": "6",
                                    "SZALLAS_NEV": "Kentaur Hotel",
                                    "HELY": "Balaton-dél",
                                    "CSILLAGOK_SZAMA": "3",
                                    "TIPUS": "Hotel",
                                    "ROGZITETTE": "Béla",
                                    "ROGZ_IDO": "2016-03-08",
                                    "CIM": "8600 Siófok (Széplak), Akácfa utca 1"
                                },
                                {
                                    "SZALLAS_ID": "7",
                                    "SZALLAS_NEV": "Szieszta Apartmanház",
                                    "HELY": "Balaton-dél",
                                    "CSILLAGOK_SZAMA": "0",
                                    "TIPUS": "Apartman",
                                    "ROGZITETTE": "Mari",
                                    "ROGZ_IDO": "2016-03-11",
                                    "CIM": "8630 Balatonboglár, Dózsa György utca 108"
                                },
                                {
                                    "SZALLAS_ID": "8",
                                    "SZALLAS_NEV": "Hotel Három Hattyú",
                                    "HELY": "Balaton-dél",
                                    "CSILLAGOK_SZAMA": "4",
                                    "TIPUS": "Hotel",
                                    "ROGZITETTE": "Béla",
                                    "ROGZ_IDO": "2016-03-13",
                                    "CIM": "8623 Balatonföldvár, Rákóczi Ferenc út 45."
                                },
                                {
                                    "SZALLAS_ID": "9",
                                    "SZALLAS_NEV": "Jáde panzió",
                                    "HELY": "Balaton-dél",
                                    "CSILLAGOK_SZAMA": "3",
                                    "TIPUS": "panzió",
                                    "ROGZITETTE": "Mari",
                                    "ROGZ_IDO": "2016-03-16",
                                    "CIM": "8624 Balatonföldvár, Kiss u.2."
                                },
                                {
                                    "SZALLAS_ID": "10",
                                    "SZALLAS_NEV": "Lagúna Hotel",
                                    "HELY": "Budapest",
                                    "CSILLAGOK_SZAMA": "4",
                                    "TIPUS": "Hotel",
                                    "ROGZITETTE": "Sára",
                                    "ROGZ_IDO": "2016-03-20",
                                    "CIM": "1097 Budapest, Albert Flórián út 3"
                                },
                                {
                                    "SZALLAS_ID": "11",
                                    "SZALLAS_NEV": "Partiszél Vendégház",
                                    "HELY": "Balaton-észak",
                                    "CSILLAGOK_SZAMA": "0",
                                    "TIPUS": "vendégház",
                                    "ROGZITETTE": "Béla",
                                    "ROGZ_IDO": "2016-03-22",
                                    "CIM": "8220 Balatonalmádi Neptun u. 23."
                                },
                                {
                                    "SZALLAS_ID": "12",
                                    "SZALLAS_NEV": "Gold Hotel",
                                    "HELY": "Budapest",
                                    "CSILLAGOK_SZAMA": "3",
                                    "TIPUS": "Hotel",
                                    "ROGZITETTE": "Béla",
                                    "ROGZ_IDO": "2016-03-24",
                                    "CIM": "1016 Budapest, Hegyalja út 12"
                                },
                                {
                                    "SZALLAS_ID": "13",
                                    "SZALLAS_NEV": "Riviéra Panzió",
                                    "HELY": "Csongrád megye",
                                    "CSILLAGOK_SZAMA": "3",
                                    "TIPUS": "panzió",
                                    "ROGZITETTE": "Sára",
                                    "ROGZ_IDO": "2016-03-27",
                                    "CIM": "6722 Szeged, Petőfi Sándor út 3."
                                },
                                {
                                    "SZALLAS_ID": "14",
                                    "SZALLAS_NEV": "Nyárfás Vendégház",
                                    "HELY": "Csongrád megye",
                                    "CSILLAGOK_SZAMA": "0",
                                    "TIPUS": "vendégház",
                                    "ROGZITETTE": "Béla",
                                    "ROGZ_IDO": "2016-03-27",
                                    "CIM": "6723 Szeged, Nagy u. 12."
                                },
                                {
                                    "SZALLAS_ID": "15",
                                    "SZALLAS_NEV": "Tímárház Panzió",
                                    "HELY": "Balaton-dél",
                                    "CSILLAGOK_SZAMA": "3",
                                    "TIPUS": "panzió",
                                    "ROGZITETTE": "Béla",
                                    "ROGZ_IDO": "2016-03-29",
                                    "CIM": "8600 Siófok, Virág utca 1"
                                },
                                {
                                    "SZALLAS_ID": "16",
                                    "SZALLAS_NEV": "Bagoly Hotel",
                                    "HELY": "Pest megye",
                                    "CSILLAGOK_SZAMA": "3",
                                    "TIPUS": "Hotel",
                                    "ROGZITETTE": "Mari",
                                    "ROGZ_IDO": "2016-04-01",
                                    "CIM": "2230 Gyömrő, Bergszász u. 5."
                                },
                                {
                                    "SZALLAS_ID": "17",
                                    "SZALLAS_NEV": "Szarvas Hotel",
                                    "HELY": "Tolna megye",
                                    "CSILLAGOK_SZAMA": "4",
                                    "TIPUS": "Hotel",
                                    "ROGZITETTE": "Béla",
                                    "ROGZ_IDO": "2016-04-04",
                                    "CIM": "7121 Szálka, Petőfi Sándor u."
                                },
                                {
                                    "SZALLAS_ID": "18",
                                    "SZALLAS_NEV": "Fortuna Apartman",
                                    "HELY": "Dél-Somogy",
                                    "CSILLAGOK_SZAMA": "0",
                                    "TIPUS": "Apartman",
                                    "ROGZITETTE": "Béla",
                                    "ROGZ_IDO": "2016-04-07",
                                    "CIM": "7570 Barcs, Kossuth u. 13."
                                },
                                {
                                    "SZALLAS_ID": "19",
                                    "SZALLAS_NEV": "Nyárfás Vendégház",
                                    "HELY": "Dél-Somogy",
                                    "CSILLAGOK_SZAMA": "0",
                                    "TIPUS": "vendégház",
                                    "ROGZITETTE": "Sára",
                                    "ROGZ_IDO": "2016-04-07",
                                    "CIM": "7570 Barcs, Bajcsy-Zs. u. 53"
                                },
                                {
                                    "SZALLAS_ID": "20",
                                    "SZALLAS_NEV": "Kollégium",
                                    "HELY": "Budapest",
                                    "CSILLAGOK_SZAMA": "0",
                                    "TIPUS": "Diákszálló",
                                    "ROGZITETTE": "Sára",
                                    "ROGZ_IDO": "2016-04-07",
                                    "CIM": "1146 Budapest, Ajtósi Dürer sor 23."
                                },
                                {
                                    "SZALLAS_ID": "21",
                                    "SZALLAS_NEV": "Müller Vendégház",
                                    "HELY": "Dél-Somogy",
                                    "CSILLAGOK_SZAMA": "0",
                                    "TIPUS": "vendégház",
                                    "ROGZITETTE": "Béla",
                                    "ROGZ_IDO": "2016-04-07",
                                    "CIM": "7570 Barcs, Magyar u. 10."
                                }
                            ]
                        },
                        "text/html": "<table><tr><th>SZALLAS_ID</th><th>SZALLAS_NEV</th><th>HELY</th><th>CSILLAGOK_SZAMA</th><th>TIPUS</th><th>ROGZITETTE</th><th>ROGZ_IDO</th><th>CIM</th></tr><tr><td>1</td><td>Sába-Ház</td><td>Balaton-dél</td><td>0</td><td>vendégház</td><td>Béla</td><td>2016-02-28</td><td>8630 Balatonboglár, Radnóti Miklós utca 8</td></tr><tr><td>2</td><td>Családi Ház</td><td>Balaton-dél</td><td>0</td><td>vendégház</td><td>Béla</td><td>2016-03-02</td><td>8630 Balatonboglár, József Attila utca 25</td></tr><tr><td>3</td><td>Fortuna Apartman</td><td>Hajdúbihar megye</td><td>0</td><td>Apartman</td><td>Sára</td><td>2016-03-06</td><td>4200 Hajdúszoboszló, Wesselényi utca 56.</td></tr><tr><td>4</td><td>Fortuna panzió</td><td>Budapest</td><td>3</td><td>panzió</td><td>Béla</td><td>2016-03-07</td><td>1019 Budapest XIV. Cinkotai út 86.</td></tr><tr><td>5</td><td>Fortuna Panzió</td><td>Békés megye</td><td>3</td><td>panzió</td><td>Sára</td><td>2016-03-08</td><td>5900 Orosháza, Gyopárosfürdő Tópart utca 3.</td></tr><tr><td>6</td><td>Kentaur Hotel</td><td>Balaton-dél</td><td>3</td><td>Hotel</td><td>Béla</td><td>2016-03-08</td><td>8600 Siófok (Széplak), Akácfa utca 1</td></tr><tr><td>7</td><td>Szieszta Apartmanház</td><td>Balaton-dél</td><td>0</td><td>Apartman</td><td>Mari</td><td>2016-03-11</td><td>8630 Balatonboglár, Dózsa György utca 108</td></tr><tr><td>8</td><td>Hotel Három Hattyú</td><td>Balaton-dél</td><td>4</td><td>Hotel</td><td>Béla</td><td>2016-03-13</td><td>8623 Balatonföldvár, Rákóczi Ferenc út 45.</td></tr><tr><td>9</td><td>Jáde panzió</td><td>Balaton-dél</td><td>3</td><td>panzió</td><td>Mari</td><td>2016-03-16</td><td>8624 Balatonföldvár, Kiss u.2.</td></tr><tr><td>10</td><td>Lagúna Hotel</td><td>Budapest</td><td>4</td><td>Hotel</td><td>Sára</td><td>2016-03-20</td><td>1097 Budapest, Albert Flórián út 3</td></tr><tr><td>11</td><td>Partiszél Vendégház</td><td>Balaton-észak</td><td>0</td><td>vendégház</td><td>Béla</td><td>2016-03-22</td><td>8220 Balatonalmádi Neptun u. 23.</td></tr><tr><td>12</td><td>Gold Hotel</td><td>Budapest</td><td>3</td><td>Hotel</td><td>Béla</td><td>2016-03-24</td><td>1016 Budapest, Hegyalja út 12</td></tr><tr><td>13</td><td>Riviéra Panzió</td><td>Csongrád megye</td><td>3</td><td>panzió</td><td>Sára</td><td>2016-03-27</td><td>6722 Szeged, Petőfi Sándor út 3.</td></tr><tr><td>14</td><td>Nyárfás Vendégház</td><td>Csongrád megye</td><td>0</td><td>vendégház</td><td>Béla</td><td>2016-03-27</td><td>6723 Szeged, Nagy u. 12.</td></tr><tr><td>15</td><td>Tímárház Panzió</td><td>Balaton-dél</td><td>3</td><td>panzió</td><td>Béla</td><td>2016-03-29</td><td>8600 Siófok, Virág utca 1</td></tr><tr><td>16</td><td>Bagoly Hotel</td><td>Pest megye</td><td>3</td><td>Hotel</td><td>Mari</td><td>2016-04-01</td><td>2230 Gyömrő, Bergszász u. 5.</td></tr><tr><td>17</td><td>Szarvas Hotel</td><td>Tolna megye</td><td>4</td><td>Hotel</td><td>Béla</td><td>2016-04-04</td><td>7121 Szálka, Petőfi Sándor u.</td></tr><tr><td>18</td><td>Fortuna Apartman</td><td>Dél-Somogy</td><td>0</td><td>Apartman</td><td>Béla</td><td>2016-04-07</td><td>7570 Barcs, Kossuth u. 13.</td></tr><tr><td>19</td><td>Nyárfás Vendégház</td><td>Dél-Somogy</td><td>0</td><td>vendégház</td><td>Sára</td><td>2016-04-07</td><td>7570 Barcs, Bajcsy-Zs. u. 53</td></tr><tr><td>20</td><td>Kollégium</td><td>Budapest</td><td>0</td><td>Diákszálló</td><td>Sára</td><td>2016-04-07</td><td>1146 Budapest, Ajtósi Dürer sor 23.</td></tr><tr><td>21</td><td>Müller Vendégház</td><td>Dél-Somogy</td><td>0</td><td>vendégház</td><td>Béla</td><td>2016-04-07</td><td>7570 Barcs, Magyar u. 10.</td></tr></table>"
                    },
                    "metadata": {}
                }
            ],
            "execution_count": 2
        },
        {
            "cell_type": "markdown",
            "source": [
                "2. <span style=\"background-color: rgb(255, 255, 255); color: rgb(0, 0, 0); font-family: &quot;Open Sans&quot;, sans-serif; font-size: 14.44px;\">Készítsünk lekérdezést, amely a foglalások adatait jeleníti meg!&nbsp;</span> \n",
                "\n",
                "a. A lista tartalmazzon két új oszlopot, amelyek az adott ügyfél legrövidebb, illetve leghosszabb foglalásának hosszát (a foglalt napok számát) mutatják meg! \n",
                "\n",
                "b. Az oszlopokat nevezzük el értelemszerűen!"
            ],
            "metadata": {
                "azdata_cell_guid": "ea75c103-911f-41a3-a32c-3d40fb3e4e4a"
            },
            "attachments": {}
        },
        {
            "cell_type": "code",
            "source": [
                ""
            ],
            "metadata": {
                "azdata_cell_guid": "222b9618-a8e8-42b4-a8e8-d002257122b7",
                "language": "sql"
            },
            "outputs": [],
            "execution_count": null
        },
        {
            "cell_type": "markdown",
            "source": [
                "```\n",
                "3. Készítsük listát, amely megjeleníti az ügyfelek azonosítóját, nevét és a foglalásainak kezdő- és befejező dátumát, valamint azt, hogy a foglalás összesen hány főre történt! \n",
                "```\n",
                "\n",
                "a. Egy új oszlopban jelenítsük meg azt is, hogy az ügyfél előző három foglalása összesen hány főre történt!\n",
                "\n",
                "![](https://moodle.uni-corvinus.hu/theme/image.php/adaptable/atto_h5p/1709548862/icon)"
            ],
            "metadata": {
                "azdata_cell_guid": "d7876bb9-76d0-4d07-baed-3cb17b2f96c3"
            },
            "attachments": {}
        },
        {
            "cell_type": "code",
            "source": [
                ""
            ],
            "metadata": {
                "azdata_cell_guid": "56ec19ce-e249-4551-b2a8-f17569765acc",
                "language": "sql"
            },
            "outputs": [],
            "execution_count": null
        },
        {
            "cell_type": "markdown",
            "source": [
                "4. <span style=\"background-color: rgb(255, 255, 255); color: rgb(0, 0, 0); font-family: &quot;Open Sans&quot;, sans-serif; font-size: 14.44px;\">Készítsünk listát arról, hogy az egyes szálláshelyeken évente hány foglalás történt!&nbsp;</span> \n",
                "\n",
                "a. A lista jelenítse meg a szálláshely azonosítóját, nevét, az évet, és a foglalások számát!\n",
                "\n",
                "b. Egy új oszlopban jelenítsük meg a szálláshely eddigi éves foglalásainak számát is (az aktuálisat is beleértve). \n",
                "\n",
                "c. Az évnél a METTOL dátumot vegyük figyelembe! \n",
                "\n",
                "d. A lista ne tartalmazzon duplikált sorokat!"
            ],
            "metadata": {
                "azdata_cell_guid": "8e7fef82-8022-49a0-8255-fc2846c2134b"
            },
            "attachments": {}
        },
        {
            "cell_type": "code",
            "source": [
                ""
            ],
            "metadata": {
                "azdata_cell_guid": "36f7b396-4a1f-45e5-8720-2302537c91bc",
                "language": "sql"
            },
            "outputs": [],
            "execution_count": null
        },
        {
            "cell_type": "markdown",
            "source": [
                "5. <span style=\"background-color: rgb(255, 255, 255); color: rgb(0, 0, 0); font-family: &quot;Open Sans&quot;, sans-serif; font-size: 14.44px;\">Készítsük listát a szálláshelyekről! A lista tartalmazza a szálláshely azonosítóját, nevét, és a csillagok számát csillagszám szerint csökkenő, azon belül szállásnév szerint növekvő sorrendben!&nbsp;</span> \n",
                "\n",
                "a. Vegyünk fel két új oszlopot, amely a sorrend szerint előző szálláshely nevét, illetve azonosítóját is megjeleníti!"
            ],
            "metadata": {
                "azdata_cell_guid": "84239ca2-6b5e-49f5-9860-d44c11d6de32"
            },
            "attachments": {}
        },
        {
            "cell_type": "code",
            "source": [
                ""
            ],
            "metadata": {
                "azdata_cell_guid": "06d9a62b-9430-424b-a135-d80e675f0eb3",
                "language": "sql"
            },
            "outputs": [],
            "execution_count": null
        },
        {
            "cell_type": "markdown",
            "source": [
                "6. <span style=\"background-color: rgb(255, 255, 255); color: rgb(0, 0, 0); font-family: &quot;Open Sans&quot;, sans-serif; font-size: 14.44px;\">Listázzuk azon termékeket, amelyekből az átlagosnál kevesebb van raktáron!&nbsp;</span> \n",
                "\n",
                "a. Csak a termék kódja és megnevezése jelenjen meg!"
            ],
            "metadata": {
                "azdata_cell_guid": "b0d15045-3c43-4f3a-b8d4-76b4f24e5546"
            },
            "attachments": {}
        },
        {
            "cell_type": "code",
            "source": [
                "SELECT\r\n",
                "    TERMEKKOD,\r\n",
                "    MEGNEVEZES\r\n",
                "FROM Termek\r\n",
                "WHERE KESZLET <\r\n",
                "    (SELECT AVG(KESZLET)\r\n",
                "    FROM Termek)"
            ],
            "metadata": {
                "azdata_cell_guid": "f2b7400d-1255-40ac-9250-4d57f9da5357",
                "language": "sql"
            },
            "outputs": [],
            "execution_count": null
        },
        {
            "cell_type": "code",
            "source": [
                "SELECT \r\n",
                "    v.USERNEV,\r\n",
                "    COUNT(f.FOGLALAS_PK) AS FoglalasokSzama\r\n",
                "FROM \r\n",
                "    VENDEG v\r\n",
                "LEFT JOIN \r\n",
                "    FOGLALAS f ON v.USERNEV = f.UGYFEL_FK\r\n",
                "GROUP BY \r\n",
                "    v.USERNEV\r\n",
                "ORDER BY \r\n",
                "    v.USERNEV;"
            ],
            "metadata": {
                "azdata_cell_guid": "fe7aeb8b-c43f-4ef4-9ab8-93cdabf82896",
                "language": "sql"
            },
            "outputs": [
                {
                    "output_type": "display_data",
                    "data": {
                        "text/html": "(196 rows affected)"
                    },
                    "metadata": {}
                },
                {
                    "output_type": "display_data",
                    "data": {
                        "text/html": "Total execution time: 00:00:00.014"
                    },
                    "metadata": {}
                },
                {
                    "output_type": "execute_result",
                    "execution_count": 3,
                    "data": {
                        "application/vnd.dataresource+json": {
                            "schema": {
                                "fields": [
                                    {
                                        "name": "USERNEV"
                                    },
                                    {
                                        "name": "FoglalasokSzama"
                                    }
                                ]
                            },
                            "data": [
                                {
                                    "USERNEV": "adam1",
                                    "FoglalasokSzama": "3"
                                },
                                {
                                    "USERNEV": "adam3",
                                    "FoglalasokSzama": "2"
                                },
                                {
                                    "USERNEV": "adam4",
                                    "FoglalasokSzama": "6"
                                },
                                {
                                    "USERNEV": "agnes",
                                    "FoglalasokSzama": "5"
                                },
                                {
                                    "USERNEV": "agnes3",
                                    "FoglalasokSzama": "3"
                                },
                                {
                                    "USERNEV": "AGNESH",
                                    "FoglalasokSzama": "6"
                                },
                                {
                                    "USERNEV": "AGNESK",
                                    "FoglalasokSzama": "3"
                                },
                                {
                                    "USERNEV": "akos",
                                    "FoglalasokSzama": "10"
                                },
                                {
                                    "USERNEV": "aladar",
                                    "FoglalasokSzama": "3"
                                },
                                {
                                    "USERNEV": "alexandra",
                                    "FoglalasokSzama": "7"
                                },
                                {
                                    "USERNEV": "andi",
                                    "FoglalasokSzama": "5"
                                },
                                {
                                    "USERNEV": "andras2",
                                    "FoglalasokSzama": "5"
                                },
                                {
                                    "USERNEV": "andras21",
                                    "FoglalasokSzama": "7"
                                },
                                {
                                    "USERNEV": "andras3",
                                    "FoglalasokSzama": "8"
                                },
                                {
                                    "USERNEV": "andras4",
                                    "FoglalasokSzama": "3"
                                },
                                {
                                    "USERNEV": "andras41",
                                    "FoglalasokSzama": "13"
                                },
                                {
                                    "USERNEV": "ANDRASE",
                                    "FoglalasokSzama": "5"
                                },
                                {
                                    "USERNEV": "ANDRASN",
                                    "FoglalasokSzama": "1"
                                },
                                {
                                    "USERNEV": "andrea",
                                    "FoglalasokSzama": "6"
                                },
                                {
                                    "USERNEV": "andrea3",
                                    "FoglalasokSzama": "1"
                                },
                                {
                                    "USERNEV": "andrea4",
                                    "FoglalasokSzama": "4"
                                },
                                {
                                    "USERNEV": "ANDREAT",
                                    "FoglalasokSzama": "3"
                                },
                                {
                                    "USERNEV": "anett3",
                                    "FoglalasokSzama": "8"
                                },
                                {
                                    "USERNEV": "aniko",
                                    "FoglalasokSzama": "3"
                                },
                                {
                                    "USERNEV": "aniko4",
                                    "FoglalasokSzama": "4"
                                },
                                {
                                    "USERNEV": "ANIKOS",
                                    "FoglalasokSzama": "9"
                                },
                                {
                                    "USERNEV": "anita",
                                    "FoglalasokSzama": "4"
                                },
                                {
                                    "USERNEV": "annamaria1",
                                    "FoglalasokSzama": "2"
                                },
                                {
                                    "USERNEV": "ANNAMARIAR",
                                    "FoglalasokSzama": "6"
                                },
                                {
                                    "USERNEV": "aron2",
                                    "FoglalasokSzama": "6"
                                },
                                {
                                    "USERNEV": "ARONK",
                                    "FoglalasokSzama": "13"
                                },
                                {
                                    "USERNEV": "arpad2",
                                    "FoglalasokSzama": "7"
                                },
                                {
                                    "USERNEV": "ARPADH",
                                    "FoglalasokSzama": "7"
                                },
                                {
                                    "USERNEV": "ARPADM",
                                    "FoglalasokSzama": "6"
                                },
                                {
                                    "USERNEV": "attila",
                                    "FoglalasokSzama": "3"
                                },
                                {
                                    "USERNEV": "attila1",
                                    "FoglalasokSzama": "6"
                                },
                                {
                                    "USERNEV": "attila4",
                                    "FoglalasokSzama": "3"
                                },
                                {
                                    "USERNEV": "ATTILAO",
                                    "FoglalasokSzama": "4"
                                },
                                {
                                    "USERNEV": "balazs1",
                                    "FoglalasokSzama": "6"
                                },
                                {
                                    "USERNEV": "balazs2",
                                    "FoglalasokSzama": "10"
                                },
                                {
                                    "USERNEV": "balazs3",
                                    "FoglalasokSzama": "6"
                                },
                                {
                                    "USERNEV": "balint",
                                    "FoglalasokSzama": "3"
                                },
                                {
                                    "USERNEV": "balint1",
                                    "FoglalasokSzama": "10"
                                },
                                {
                                    "USERNEV": "balint2",
                                    "FoglalasokSzama": "2"
                                },
                                {
                                    "USERNEV": "balu",
                                    "FoglalasokSzama": "2"
                                },
                                {
                                    "USERNEV": "beata4",
                                    "FoglalasokSzama": "6"
                                },
                                {
                                    "USERNEV": "BEATRIXK",
                                    "FoglalasokSzama": "9"
                                },
                                {
                                    "USERNEV": "BEATRIXS",
                                    "FoglalasokSzama": "6"
                                },
                                {
                                    "USERNEV": "BELAF",
                                    "FoglalasokSzama": "6"
                                },
                                {
                                    "USERNEV": "bence",
                                    "FoglalasokSzama": "9"
                                },
                                {
                                    "USERNEV": "BENCEB",
                                    "FoglalasokSzama": "6"
                                },
                                {
                                    "USERNEV": "bernadett1",
                                    "FoglalasokSzama": "7"
                                },
                                {
                                    "USERNEV": "bernadett2",
                                    "FoglalasokSzama": "8"
                                },
                                {
                                    "USERNEV": "BERNADETTO",
                                    "FoglalasokSzama": "7"
                                },
                                {
                                    "USERNEV": "bertalan",
                                    "FoglalasokSzama": "6"
                                },
                                {
                                    "USERNEV": "brigitta",
                                    "FoglalasokSzama": "5"
                                },
                                {
                                    "USERNEV": "brigitta3",
                                    "FoglalasokSzama": "5"
                                },
                                {
                                    "USERNEV": "csongor3",
                                    "FoglalasokSzama": "8"
                                },
                                {
                                    "USERNEV": "dani",
                                    "FoglalasokSzama": "9"
                                },
                                {
                                    "USERNEV": "daniel",
                                    "FoglalasokSzama": "9"
                                },
                                {
                                    "USERNEV": "daniel1",
                                    "FoglalasokSzama": "7"
                                },
                                {
                                    "USERNEV": "david",
                                    "FoglalasokSzama": "9"
                                },
                                {
                                    "USERNEV": "david1",
                                    "FoglalasokSzama": "6"
                                },
                                {
                                    "USERNEV": "david4",
                                    "FoglalasokSzama": "1"
                                },
                                {
                                    "USERNEV": "debora",
                                    "FoglalasokSzama": "4"
                                },
                                {
                                    "USERNEV": "denes",
                                    "FoglalasokSzama": "6"
                                },
                                {
                                    "USERNEV": "dora3",
                                    "FoglalasokSzama": "5"
                                },
                                {
                                    "USERNEV": "edit",
                                    "FoglalasokSzama": "7"
                                },
                                {
                                    "USERNEV": "emese",
                                    "FoglalasokSzama": "7"
                                },
                                {
                                    "USERNEV": "eszter",
                                    "FoglalasokSzama": "4"
                                },
                                {
                                    "USERNEV": "eszter2",
                                    "FoglalasokSzama": "10"
                                },
                                {
                                    "USERNEV": "eszter4",
                                    "FoglalasokSzama": "3"
                                },
                                {
                                    "USERNEV": "ESZTERE",
                                    "FoglalasokSzama": "4"
                                },
                                {
                                    "USERNEV": "eva",
                                    "FoglalasokSzama": "2"
                                },
                                {
                                    "USERNEV": "eva2",
                                    "FoglalasokSzama": "4"
                                },
                                {
                                    "USERNEV": "EVAV",
                                    "FoglalasokSzama": "5"
                                },
                                {
                                    "USERNEV": "ferenc1",
                                    "FoglalasokSzama": "4"
                                },
                                {
                                    "USERNEV": "fruzsina4",
                                    "FoglalasokSzama": "8"
                                },
                                {
                                    "USERNEV": "gabor1",
                                    "FoglalasokSzama": "6"
                                },
                                {
                                    "USERNEV": "gabor4",
                                    "FoglalasokSzama": "4"
                                },
                                {
                                    "USERNEV": "GABORS",
                                    "FoglalasokSzama": "0"
                                },
                                {
                                    "USERNEV": "gabriella1",
                                    "FoglalasokSzama": "6"
                                },
                                {
                                    "USERNEV": "gabriella10",
                                    "FoglalasokSzama": "1"
                                },
                                {
                                    "USERNEV": "georgij",
                                    "FoglalasokSzama": "4"
                                },
                                {
                                    "USERNEV": "gusztav",
                                    "FoglalasokSzama": "5"
                                },
                                {
                                    "USERNEV": "GYONGYIK",
                                    "FoglalasokSzama": "7"
                                },
                                {
                                    "USERNEV": "GYORGYO",
                                    "FoglalasokSzama": "8"
                                },
                                {
                                    "USERNEV": "henrik3",
                                    "FoglalasokSzama": "3"
                                },
                                {
                                    "USERNEV": "IBOLYAA",
                                    "FoglalasokSzama": "3"
                                },
                                {
                                    "USERNEV": "ilona3",
                                    "FoglalasokSzama": "4"
                                },
                                {
                                    "USERNEV": "imre",
                                    "FoglalasokSzama": "2"
                                },
                                {
                                    "USERNEV": "imre1",
                                    "FoglalasokSzama": "7"
                                },
                                {
                                    "USERNEV": "istvan",
                                    "FoglalasokSzama": "3"
                                },
                                {
                                    "USERNEV": "istvan1",
                                    "FoglalasokSzama": "4"
                                },
                                {
                                    "USERNEV": "ISTVANV",
                                    "FoglalasokSzama": "2"
                                },
                                {
                                    "USERNEV": "janos3",
                                    "FoglalasokSzama": "5"
                                },
                                {
                                    "USERNEV": "JANOSG",
                                    "FoglalasokSzama": "7"
                                },
                                {
                                    "USERNEV": "JANOSP",
                                    "FoglalasokSzama": "4"
                                },
                                {
                                    "USERNEV": "jozsef",
                                    "FoglalasokSzama": "3"
                                },
                                {
                                    "USERNEV": "jozsef2",
                                    "FoglalasokSzama": "5"
                                },
                                {
                                    "USERNEV": "JOZSEFG",
                                    "FoglalasokSzama": "7"
                                },
                                {
                                    "USERNEV": "JUDITH",
                                    "FoglalasokSzama": "3"
                                },
                                {
                                    "USERNEV": "julia",
                                    "FoglalasokSzama": "5"
                                },
                                {
                                    "USERNEV": "julia4",
                                    "FoglalasokSzama": "2"
                                },
                                {
                                    "USERNEV": "julianna4",
                                    "FoglalasokSzama": "4"
                                },
                                {
                                    "USERNEV": "kata",
                                    "FoglalasokSzama": "10"
                                },
                                {
                                    "USERNEV": "katalin",
                                    "FoglalasokSzama": "9"
                                },
                                {
                                    "USERNEV": "katalin4",
                                    "FoglalasokSzama": "6"
                                },
                                {
                                    "USERNEV": "kati",
                                    "FoglalasokSzama": "7"
                                },
                                {
                                    "USERNEV": "katka",
                                    "FoglalasokSzama": "9"
                                },
                                {
                                    "USERNEV": "klaudia2",
                                    "FoglalasokSzama": "3"
                                },
                                {
                                    "USERNEV": "kornel4",
                                    "FoglalasokSzama": "3"
                                },
                                {
                                    "USERNEV": "kristof4",
                                    "FoglalasokSzama": "2"
                                },
                                {
                                    "USERNEV": "kriszti",
                                    "FoglalasokSzama": "6"
                                },
                                {
                                    "USERNEV": "krisztian4",
                                    "FoglalasokSzama": "12"
                                },
                                {
                                    "USERNEV": "KRISZTIANM",
                                    "FoglalasokSzama": "6"
                                },
                                {
                                    "USERNEV": "krisztina",
                                    "FoglalasokSzama": "8"
                                },
                                {
                                    "USERNEV": "krisztina1",
                                    "FoglalasokSzama": "6"
                                },
                                {
                                    "USERNEV": "KRISZTINAG",
                                    "FoglalasokSzama": "5"
                                },
                                {
                                    "USERNEV": "lajos",
                                    "FoglalasokSzama": "3"
                                },
                                {
                                    "USERNEV": "lala",
                                    "FoglalasokSzama": "6"
                                },
                                {
                                    "USERNEV": "laszlo1",
                                    "FoglalasokSzama": "1"
                                },
                                {
                                    "USERNEV": "laszlo2",
                                    "FoglalasokSzama": "5"
                                },
                                {
                                    "USERNEV": "LASZLOA",
                                    "FoglalasokSzama": "4"
                                },
                                {
                                    "USERNEV": "LASZLON",
                                    "FoglalasokSzama": "6"
                                },
                                {
                                    "USERNEV": "maria1",
                                    "FoglalasokSzama": "8"
                                },
                                {
                                    "USERNEV": "mark",
                                    "FoglalasokSzama": "5"
                                },
                                {
                                    "USERNEV": "MARKH",
                                    "FoglalasokSzama": "4"
                                },
                                {
                                    "USERNEV": "marton",
                                    "FoglalasokSzama": "7"
                                },
                                {
                                    "USERNEV": "MATEK",
                                    "FoglalasokSzama": "3"
                                },
                                {
                                    "USERNEV": "matyas2",
                                    "FoglalasokSzama": "2"
                                },
                                {
                                    "USERNEV": "MATYASS",
                                    "FoglalasokSzama": "8"
                                },
                                {
                                    "USERNEV": "MIHALYJ",
                                    "FoglalasokSzama": "5"
                                },
                                {
                                    "USERNEV": "miklos2",
                                    "FoglalasokSzama": "3"
                                },
                                {
                                    "USERNEV": "MIKLOSB",
                                    "FoglalasokSzama": "3"
                                },
                                {
                                    "USERNEV": "MONIKAM",
                                    "FoglalasokSzama": "6"
                                },
                                {
                                    "USERNEV": "NANDORF",
                                    "FoglalasokSzama": "3"
                                },
                                {
                                    "USERNEV": "nikolett3",
                                    "FoglalasokSzama": "4"
                                },
                                {
                                    "USERNEV": "nikoletta4",
                                    "FoglalasokSzama": "7"
                                },
                                {
                                    "USERNEV": "NIKOLETTAT",
                                    "FoglalasokSzama": "4"
                                },
                                {
                                    "USERNEV": "norbert",
                                    "FoglalasokSzama": "5"
                                },
                                {
                                    "USERNEV": "norbert2",
                                    "FoglalasokSzama": "7"
                                },
                                {
                                    "USERNEV": "norbert4",
                                    "FoglalasokSzama": "9"
                                },
                                {
                                    "USERNEV": "norbert5",
                                    "FoglalasokSzama": "3"
                                },
                                {
                                    "USERNEV": "pal",
                                    "FoglalasokSzama": "5"
                                },
                                {
                                    "USERNEV": "peter1",
                                    "FoglalasokSzama": "4"
                                },
                                {
                                    "USERNEV": "peter2",
                                    "FoglalasokSzama": "4"
                                },
                                {
                                    "USERNEV": "peter3",
                                    "FoglalasokSzama": "6"
                                },
                                {
                                    "USERNEV": "peter4",
                                    "FoglalasokSzama": "12"
                                },
                                {
                                    "USERNEV": "PETERB",
                                    "FoglalasokSzama": "5"
                                },
                                {
                                    "USERNEV": "polla",
                                    "FoglalasokSzama": "6"
                                },
                                {
                                    "USERNEV": "rajmond4",
                                    "FoglalasokSzama": "4"
                                },
                                {
                                    "USERNEV": "reka4",
                                    "FoglalasokSzama": "5"
                                },
                                {
                                    "USERNEV": "RENATAK",
                                    "FoglalasokSzama": "6"
                                },
                                {
                                    "USERNEV": "RENATAS",
                                    "FoglalasokSzama": "5"
                                },
                                {
                                    "USERNEV": "robert2",
                                    "FoglalasokSzama": "4"
                                },
                                {
                                    "USERNEV": "ROBERTI",
                                    "FoglalasokSzama": "8"
                                },
                                {
                                    "USERNEV": "ROBERTP",
                                    "FoglalasokSzama": "2"
                                },
                                {
                                    "USERNEV": "roland",
                                    "FoglalasokSzama": "4"
                                },
                                {
                                    "USERNEV": "roland1",
                                    "FoglalasokSzama": "4"
                                },
                                {
                                    "USERNEV": "roza2",
                                    "FoglalasokSzama": "3"
                                },
                                {
                                    "USERNEV": "sandor",
                                    "FoglalasokSzama": "4"
                                },
                                {
                                    "USERNEV": "sandor3",
                                    "FoglalasokSzama": "5"
                                },
                                {
                                    "USERNEV": "sandor4",
                                    "FoglalasokSzama": "4"
                                },
                                {
                                    "USERNEV": "sara",
                                    "FoglalasokSzama": "12"
                                },
                                {
                                    "USERNEV": "SEBASTIANF",
                                    "FoglalasokSzama": "5"
                                },
                                {
                                    "USERNEV": "sebestyen",
                                    "FoglalasokSzama": "4"
                                },
                                {
                                    "USERNEV": "szabolcs",
                                    "FoglalasokSzama": "1"
                                },
                                {
                                    "USERNEV": "SZABOLCSM",
                                    "FoglalasokSzama": "7"
                                },
                                {
                                    "USERNEV": "SZILARDS",
                                    "FoglalasokSzama": "7"
                                },
                                {
                                    "USERNEV": "szilvia1",
                                    "FoglalasokSzama": "9"
                                },
                                {
                                    "USERNEV": "tamara2",
                                    "FoglalasokSzama": "2"
                                },
                                {
                                    "USERNEV": "tamas",
                                    "FoglalasokSzama": "4"
                                },
                                {
                                    "USERNEV": "TAMASF",
                                    "FoglalasokSzama": "9"
                                },
                                {
                                    "USERNEV": "tibor",
                                    "FoglalasokSzama": "2"
                                },
                                {
                                    "USERNEV": "tibor2",
                                    "FoglalasokSzama": "1"
                                },
                                {
                                    "USERNEV": "tihamer",
                                    "FoglalasokSzama": "6"
                                },
                                {
                                    "USERNEV": "timea",
                                    "FoglalasokSzama": "1"
                                },
                                {
                                    "USERNEV": "timea2",
                                    "FoglalasokSzama": "5"
                                },
                                {
                                    "USERNEV": "tunde",
                                    "FoglalasokSzama": "8"
                                },
                                {
                                    "USERNEV": "valentin",
                                    "FoglalasokSzama": "5"
                                },
                                {
                                    "USERNEV": "veronika4",
                                    "FoglalasokSzama": "6"
                                },
                                {
                                    "USERNEV": "VIKTORIAU",
                                    "FoglalasokSzama": "4"
                                },
                                {
                                    "USERNEV": "VIKTORK",
                                    "FoglalasokSzama": "2"
                                },
                                {
                                    "USERNEV": "vivien3",
                                    "FoglalasokSzama": "7"
                                },
                                {
                                    "USERNEV": "zoltan",
                                    "FoglalasokSzama": "2"
                                },
                                {
                                    "USERNEV": "zoltan4",
                                    "FoglalasokSzama": "12"
                                },
                                {
                                    "USERNEV": "ZOLTANP",
                                    "FoglalasokSzama": "6"
                                },
                                {
                                    "USERNEV": "ZOLTANT",
                                    "FoglalasokSzama": "3"
                                },
                                {
                                    "USERNEV": "zsofi1",
                                    "FoglalasokSzama": "2"
                                },
                                {
                                    "USERNEV": "zsolt1",
                                    "FoglalasokSzama": "4"
                                },
                                {
                                    "USERNEV": "ZSOLTJ",
                                    "FoglalasokSzama": "6"
                                },
                                {
                                    "USERNEV": "zsuzsa",
                                    "FoglalasokSzama": "3"
                                },
                                {
                                    "USERNEV": "zsuzsa3",
                                    "FoglalasokSzama": "4"
                                },
                                {
                                    "USERNEV": "zsuzsanna",
                                    "FoglalasokSzama": "4"
                                },
                                {
                                    "USERNEV": "ZSUZSAV",
                                    "FoglalasokSzama": "6"
                                }
                            ]
                        },
                        "text/html": "<table><tr><th>USERNEV</th><th>FoglalasokSzama</th></tr><tr><td>adam1</td><td>3</td></tr><tr><td>adam3</td><td>2</td></tr><tr><td>adam4</td><td>6</td></tr><tr><td>agnes</td><td>5</td></tr><tr><td>agnes3</td><td>3</td></tr><tr><td>AGNESH</td><td>6</td></tr><tr><td>AGNESK</td><td>3</td></tr><tr><td>akos</td><td>10</td></tr><tr><td>aladar</td><td>3</td></tr><tr><td>alexandra</td><td>7</td></tr><tr><td>andi</td><td>5</td></tr><tr><td>andras2</td><td>5</td></tr><tr><td>andras21</td><td>7</td></tr><tr><td>andras3</td><td>8</td></tr><tr><td>andras4</td><td>3</td></tr><tr><td>andras41</td><td>13</td></tr><tr><td>ANDRASE</td><td>5</td></tr><tr><td>ANDRASN</td><td>1</td></tr><tr><td>andrea</td><td>6</td></tr><tr><td>andrea3</td><td>1</td></tr><tr><td>andrea4</td><td>4</td></tr><tr><td>ANDREAT</td><td>3</td></tr><tr><td>anett3</td><td>8</td></tr><tr><td>aniko</td><td>3</td></tr><tr><td>aniko4</td><td>4</td></tr><tr><td>ANIKOS</td><td>9</td></tr><tr><td>anita</td><td>4</td></tr><tr><td>annamaria1</td><td>2</td></tr><tr><td>ANNAMARIAR</td><td>6</td></tr><tr><td>aron2</td><td>6</td></tr><tr><td>ARONK</td><td>13</td></tr><tr><td>arpad2</td><td>7</td></tr><tr><td>ARPADH</td><td>7</td></tr><tr><td>ARPADM</td><td>6</td></tr><tr><td>attila</td><td>3</td></tr><tr><td>attila1</td><td>6</td></tr><tr><td>attila4</td><td>3</td></tr><tr><td>ATTILAO</td><td>4</td></tr><tr><td>balazs1</td><td>6</td></tr><tr><td>balazs2</td><td>10</td></tr><tr><td>balazs3</td><td>6</td></tr><tr><td>balint</td><td>3</td></tr><tr><td>balint1</td><td>10</td></tr><tr><td>balint2</td><td>2</td></tr><tr><td>balu</td><td>2</td></tr><tr><td>beata4</td><td>6</td></tr><tr><td>BEATRIXK</td><td>9</td></tr><tr><td>BEATRIXS</td><td>6</td></tr><tr><td>BELAF</td><td>6</td></tr><tr><td>bence</td><td>9</td></tr><tr><td>BENCEB</td><td>6</td></tr><tr><td>bernadett1</td><td>7</td></tr><tr><td>bernadett2</td><td>8</td></tr><tr><td>BERNADETTO</td><td>7</td></tr><tr><td>bertalan</td><td>6</td></tr><tr><td>brigitta</td><td>5</td></tr><tr><td>brigitta3</td><td>5</td></tr><tr><td>csongor3</td><td>8</td></tr><tr><td>dani</td><td>9</td></tr><tr><td>daniel</td><td>9</td></tr><tr><td>daniel1</td><td>7</td></tr><tr><td>david</td><td>9</td></tr><tr><td>david1</td><td>6</td></tr><tr><td>david4</td><td>1</td></tr><tr><td>debora</td><td>4</td></tr><tr><td>denes</td><td>6</td></tr><tr><td>dora3</td><td>5</td></tr><tr><td>edit</td><td>7</td></tr><tr><td>emese</td><td>7</td></tr><tr><td>eszter</td><td>4</td></tr><tr><td>eszter2</td><td>10</td></tr><tr><td>eszter4</td><td>3</td></tr><tr><td>ESZTERE</td><td>4</td></tr><tr><td>eva</td><td>2</td></tr><tr><td>eva2</td><td>4</td></tr><tr><td>EVAV</td><td>5</td></tr><tr><td>ferenc1</td><td>4</td></tr><tr><td>fruzsina4</td><td>8</td></tr><tr><td>gabor1</td><td>6</td></tr><tr><td>gabor4</td><td>4</td></tr><tr><td>GABORS</td><td>0</td></tr><tr><td>gabriella1</td><td>6</td></tr><tr><td>gabriella10</td><td>1</td></tr><tr><td>georgij</td><td>4</td></tr><tr><td>gusztav</td><td>5</td></tr><tr><td>GYONGYIK</td><td>7</td></tr><tr><td>GYORGYO</td><td>8</td></tr><tr><td>henrik3</td><td>3</td></tr><tr><td>IBOLYAA</td><td>3</td></tr><tr><td>ilona3</td><td>4</td></tr><tr><td>imre</td><td>2</td></tr><tr><td>imre1</td><td>7</td></tr><tr><td>istvan</td><td>3</td></tr><tr><td>istvan1</td><td>4</td></tr><tr><td>ISTVANV</td><td>2</td></tr><tr><td>janos3</td><td>5</td></tr><tr><td>JANOSG</td><td>7</td></tr><tr><td>JANOSP</td><td>4</td></tr><tr><td>jozsef</td><td>3</td></tr><tr><td>jozsef2</td><td>5</td></tr><tr><td>JOZSEFG</td><td>7</td></tr><tr><td>JUDITH</td><td>3</td></tr><tr><td>julia</td><td>5</td></tr><tr><td>julia4</td><td>2</td></tr><tr><td>julianna4</td><td>4</td></tr><tr><td>kata</td><td>10</td></tr><tr><td>katalin</td><td>9</td></tr><tr><td>katalin4</td><td>6</td></tr><tr><td>kati</td><td>7</td></tr><tr><td>katka</td><td>9</td></tr><tr><td>klaudia2</td><td>3</td></tr><tr><td>kornel4</td><td>3</td></tr><tr><td>kristof4</td><td>2</td></tr><tr><td>kriszti</td><td>6</td></tr><tr><td>krisztian4</td><td>12</td></tr><tr><td>KRISZTIANM</td><td>6</td></tr><tr><td>krisztina</td><td>8</td></tr><tr><td>krisztina1</td><td>6</td></tr><tr><td>KRISZTINAG</td><td>5</td></tr><tr><td>lajos</td><td>3</td></tr><tr><td>lala</td><td>6</td></tr><tr><td>laszlo1</td><td>1</td></tr><tr><td>laszlo2</td><td>5</td></tr><tr><td>LASZLOA</td><td>4</td></tr><tr><td>LASZLON</td><td>6</td></tr><tr><td>maria1</td><td>8</td></tr><tr><td>mark</td><td>5</td></tr><tr><td>MARKH</td><td>4</td></tr><tr><td>marton</td><td>7</td></tr><tr><td>MATEK</td><td>3</td></tr><tr><td>matyas2</td><td>2</td></tr><tr><td>MATYASS</td><td>8</td></tr><tr><td>MIHALYJ</td><td>5</td></tr><tr><td>miklos2</td><td>3</td></tr><tr><td>MIKLOSB</td><td>3</td></tr><tr><td>MONIKAM</td><td>6</td></tr><tr><td>NANDORF</td><td>3</td></tr><tr><td>nikolett3</td><td>4</td></tr><tr><td>nikoletta4</td><td>7</td></tr><tr><td>NIKOLETTAT</td><td>4</td></tr><tr><td>norbert</td><td>5</td></tr><tr><td>norbert2</td><td>7</td></tr><tr><td>norbert4</td><td>9</td></tr><tr><td>norbert5</td><td>3</td></tr><tr><td>pal</td><td>5</td></tr><tr><td>peter1</td><td>4</td></tr><tr><td>peter2</td><td>4</td></tr><tr><td>peter3</td><td>6</td></tr><tr><td>peter4</td><td>12</td></tr><tr><td>PETERB</td><td>5</td></tr><tr><td>polla</td><td>6</td></tr><tr><td>rajmond4</td><td>4</td></tr><tr><td>reka4</td><td>5</td></tr><tr><td>RENATAK</td><td>6</td></tr><tr><td>RENATAS</td><td>5</td></tr><tr><td>robert2</td><td>4</td></tr><tr><td>ROBERTI</td><td>8</td></tr><tr><td>ROBERTP</td><td>2</td></tr><tr><td>roland</td><td>4</td></tr><tr><td>roland1</td><td>4</td></tr><tr><td>roza2</td><td>3</td></tr><tr><td>sandor</td><td>4</td></tr><tr><td>sandor3</td><td>5</td></tr><tr><td>sandor4</td><td>4</td></tr><tr><td>sara</td><td>12</td></tr><tr><td>SEBASTIANF</td><td>5</td></tr><tr><td>sebestyen</td><td>4</td></tr><tr><td>szabolcs</td><td>1</td></tr><tr><td>SZABOLCSM</td><td>7</td></tr><tr><td>SZILARDS</td><td>7</td></tr><tr><td>szilvia1</td><td>9</td></tr><tr><td>tamara2</td><td>2</td></tr><tr><td>tamas</td><td>4</td></tr><tr><td>TAMASF</td><td>9</td></tr><tr><td>tibor</td><td>2</td></tr><tr><td>tibor2</td><td>1</td></tr><tr><td>tihamer</td><td>6</td></tr><tr><td>timea</td><td>1</td></tr><tr><td>timea2</td><td>5</td></tr><tr><td>tunde</td><td>8</td></tr><tr><td>valentin</td><td>5</td></tr><tr><td>veronika4</td><td>6</td></tr><tr><td>VIKTORIAU</td><td>4</td></tr><tr><td>VIKTORK</td><td>2</td></tr><tr><td>vivien3</td><td>7</td></tr><tr><td>zoltan</td><td>2</td></tr><tr><td>zoltan4</td><td>12</td></tr><tr><td>ZOLTANP</td><td>6</td></tr><tr><td>ZOLTANT</td><td>3</td></tr><tr><td>zsofi1</td><td>2</td></tr><tr><td>zsolt1</td><td>4</td></tr><tr><td>ZSOLTJ</td><td>6</td></tr><tr><td>zsuzsa</td><td>3</td></tr><tr><td>zsuzsa3</td><td>4</td></tr><tr><td>zsuzsanna</td><td>4</td></tr><tr><td>ZSUZSAV</td><td>6</td></tr></table>"
                    },
                    "metadata": {}
                }
            ],
            "execution_count": 3
        },
        {
            "cell_type": "markdown",
            "source": [
                "7. <span style=\"background-color: rgb(255, 255, 255); color: rgb(0, 0, 0); font-family: &quot;Open Sans&quot;, sans-serif; font-size: 14.44px;\">Listázzuk azon ügyfeleket, akik még nem fizettek bankkártyával!&nbsp;</span> \n",
                "\n",
                "a. Csak az ügyfelek neve jelenjen meg!"
            ],
            "metadata": {
                "azdata_cell_guid": "7ebf7ddd-1bd2-4246-815a-be8ae37e3b5b"
            },
            "attachments": {}
        },
        {
            "cell_type": "code",
            "source": [
                ""
            ],
            "metadata": {
                "azdata_cell_guid": "84b7e896-f36e-4985-88f5-e0f706494fef",
                "language": "sql"
            },
            "outputs": [],
            "execution_count": null
        },
        {
            "cell_type": "markdown",
            "source": [
                "8. <span style=\"background-color: rgb(255, 255, 255); color: rgb(0, 0, 0); font-family: &quot;Open Sans&quot;, sans-serif; font-size: 14.44px;\">Mennyibe kerül a második legnagyobb listaárú termék?</span>"
            ],
            "metadata": {
                "azdata_cell_guid": "27a3d3dc-eafb-4a5e-b103-9f465b9eda8f"
            },
            "attachments": {}
        },
        {
            "cell_type": "code",
            "source": [
                ""
            ],
            "metadata": {
                "azdata_cell_guid": "f09edb3f-649b-4a96-958e-9e12774ae8b7",
                "language": "sql"
            },
            "outputs": [],
            "execution_count": null
        },
        {
            "cell_type": "markdown",
            "source": [
                "9. <span style=\"background-color: rgb(255, 255, 255); color: rgb(0, 0, 0); font-family: &quot;Open Sans&quot;, sans-serif; font-size: 14.44px;\">Melyik raktár(ak)ban van az a termék, amelyből a legnagyobb készlet van?&nbsp;</span> \n",
                "\n",
                "a. Csak a raktár(ak) neve jelenjen meg!"
            ],
            "metadata": {
                "azdata_cell_guid": "f12a331a-0e26-4d3d-9c68-812316286577"
            },
            "attachments": {}
        },
        {
            "cell_type": "code",
            "source": [
                ""
            ],
            "metadata": {
                "azdata_cell_guid": "10a77fc9-e61a-46fc-a401-59720d82bc50",
                "language": "sql"
            },
            "outputs": [],
            "execution_count": null
        },
        {
            "cell_type": "markdown",
            "source": [
                "10. <span style=\"background-color: rgb(255, 255, 255); color: rgb(0, 0, 0); font-family: &quot;Open Sans&quot;, sans-serif; font-size: 14.44px;\">Melyek azok a termékek, amelyek listaára nagyobb, mint bármelyik olyan terméké, amelynek nevében az Ajándék szó szerepel?&nbsp;</span> \n",
                "\n",
                "a. A termékek kódját és nevét is jelenítsük meg!"
            ],
            "metadata": {
                "azdata_cell_guid": "9229e2b6-e200-4499-b95b-2d0222149831"
            },
            "attachments": {}
        },
        {
            "cell_type": "code",
            "source": [
                ""
            ],
            "metadata": {
                "azdata_cell_guid": "8b49ed67-28c6-4880-82a8-cd369e5bba99",
                "language": "sql"
            },
            "outputs": [],
            "execution_count": null
        },
        {
            "cell_type": "markdown",
            "source": [
                "11. <span style=\"background-color: rgb(255, 255, 255); color: rgb(0, 0, 0); font-family: &quot;Open Sans&quot;, sans-serif; font-size: 14.44px;\">Melyik hónapokban adtak le az ügyfelek több rendelést, mint januárban?&nbsp;</span> \n",
                "\n",
                "a. Elég a hónapok sorszámait megjeleníteni. \n",
                "\n",
                "b. A listát rendezzük a hónapok száma szerint növekvő sorrendbe!"
            ],
            "metadata": {
                "azdata_cell_guid": "7f5fc7a7-3b6a-4d89-b292-490830afb0c6"
            },
            "attachments": {}
        },
        {
            "cell_type": "code",
            "source": [
                ""
            ],
            "metadata": {
                "azdata_cell_guid": "4a9ece40-f782-4c0d-92cd-9c21969067ed",
                "language": "sql"
            },
            "outputs": [],
            "execution_count": null
        },
        {
            "cell_type": "markdown",
            "source": [
                "12. <span style=\"background-color: rgb(255, 255, 255); color: rgb(0, 0, 0); font-family: &quot;Open Sans&quot;, sans-serif; font-size: 14.44px;\">Melyek azok a termékek, amelyek listaára az átlagostól max. 20%-kal tér el?&nbsp;</span> \n",
                "\n",
                "a. A termék kódját és nevét is jelenítsük meg!"
            ],
            "metadata": {
                "azdata_cell_guid": "5a483c52-bb98-44bb-bd03-1146d4b0abfa"
            },
            "attachments": {}
        },
        {
            "cell_type": "code",
            "source": [
                ""
            ],
            "metadata": {
                "azdata_cell_guid": "dd6e89bd-08f9-4b18-8460-03c45b503df0",
                "language": "sql"
            },
            "outputs": [],
            "execution_count": null
        },
        {
            "cell_type": "markdown",
            "source": [
                "13. <span style=\"background-color: rgb(255, 255, 255); color: rgb(0, 0, 0); font-family: &quot;Open Sans&quot;, sans-serif; font-size: 14.44px;\">Készítsünk listát (sorszámonként) az egyes rendelések teljes összegéről!&nbsp;</span> \n",
                "\n",
                "a. Szűrjünk azon tételekre, ahol ez az érték nagyobb, mint Viktor Éva rendeléseinek teljes összege! \n",
                "\n",
                "b. A teljes összeg oszlopot nevezzük el értelemszerűen!"
            ],
            "metadata": {
                "azdata_cell_guid": "85d5cb66-96c6-42de-99cf-85ab22d08548"
            },
            "attachments": {}
        },
        {
            "cell_type": "code",
            "source": [
                ""
            ],
            "metadata": {
                "azdata_cell_guid": "cb07d64b-0eaa-498b-b4d2-0b46971e95ce",
                "language": "sql"
            },
            "outputs": [],
            "execution_count": null
        },
        {
            "cell_type": "markdown",
            "source": [
                "14. <span style=\"background-color: rgb(255, 255, 255); color: rgb(0, 0, 0); font-family: &quot;Open Sans&quot;, sans-serif; font-size: 14.44px;\">Listázzuk azokat a termékkategóriákat, amelyből 2017 januárban nem történt rendelés!&nbsp;</span> \n",
                "\n",
                "a. Elég a kategóriák nevét megjeleníteni!"
            ],
            "metadata": {
                "azdata_cell_guid": "f95ad665-a807-4099-bf06-64ed974f866f"
            },
            "attachments": {}
        },
        {
            "cell_type": "code",
            "source": [
                ""
            ],
            "metadata": {
                "azdata_cell_guid": "74c7ec8a-ae4a-4d03-b1c4-e8f6bb1be12c",
                "language": "sql"
            },
            "outputs": [],
            "execution_count": null
        },
        {
            "cell_type": "markdown",
            "source": [
                "15. <span style=\"background-color: rgb(255, 255, 255); color: rgb(0, 0, 0); font-family: &quot;Open Sans&quot;, sans-serif; font-size: 14.44px;\">Listázzuk azon rendelési tételeket, amelynek értéke nagyobb, mint a legdrágább termék listaára azon termékek közül, amelyek szülő kategóriája a ruha!</span>"
            ],
            "metadata": {
                "azdata_cell_guid": "93552388-ffec-49ff-99e5-ae8dc8072601"
            },
            "attachments": {}
        },
        {
            "cell_type": "code",
            "source": [
                ""
            ],
            "metadata": {
                "azdata_cell_guid": "0e7f547f-7d96-4611-b1c2-0fa84a581e79",
                "language": "sql"
            },
            "outputs": [],
            "execution_count": null
        }
    ]
}