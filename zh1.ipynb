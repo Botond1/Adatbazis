{
    "metadata": {
        "kernelspec": {
            "name": "SQL",
            "display_name": "SQL",
            "language": "sql"
        },
        "language_info": {
            "name": "sql",
            "version": ""
        }
    },
    "nbformat_minor": 2,
    "nbformat": 4,
    "cells": [
        {
            "cell_type": "markdown",
            "source": [
                "1\\. Kérdezze le, március hónapban ki rögzített Balaton környéki szálláshelyet! \n",
                "\n",
                "a. A listában jelenjen meg a rögzítő neve, a szállás neve és címe! \n",
                "\n",
                "b. A listát rendezzük csillagok száma szerint csökkenő sorba!"
            ],
            "metadata": {
                "azdata_cell_guid": "6887f6fe-ec5b-44d9-8a42-e8c88e0d4268"
            },
            "attachments": {}
        },
        {
            "cell_type": "code",
            "source": [
                "SELECT ROGZITETTE AS 'Rögzítette', SZALLAS_NEV AS 'Szállás Név', CIM AS 'Szállás Cím'\r\n",
                "FROM SZALLASHELY\r\n",
                "WHERE MONTH(ROGZ_IDO) = 03\r\n",
                "ORDER BY CSILLAGOK_SZAMA DESC\r\n",
                "\r\n",
                ""
            ],
            "metadata": {
                "azdata_cell_guid": "9934efef-7642-4e72-b9d9-ba5632a2d25d",
                "language": "sql"
            },
            "outputs": [
                {
                    "output_type": "display_data",
                    "data": {
                        "text/html": "(14 rows affected)"
                    },
                    "metadata": {}
                },
                {
                    "output_type": "display_data",
                    "data": {
                        "text/html": "Total execution time: 00:00:00.006"
                    },
                    "metadata": {}
                },
                {
                    "output_type": "execute_result",
                    "metadata": {},
                    "execution_count": 12,
                    "data": {
                        "application/vnd.dataresource+json": {
                            "schema": {
                                "fields": [
                                    {
                                        "name": "Rögzítette"
                                    },
                                    {
                                        "name": "Szállás Név"
                                    },
                                    {
                                        "name": "Szállás Cím"
                                    }
                                ]
                            },
                            "data": [
                                {
                                    "Rögzítette": "Béla",
                                    "Szállás Név": "Hotel Három Hattyú",
                                    "Szállás Cím": "8623 Balatonföldvár, Rákóczi Ferenc út 45."
                                },
                                {
                                    "Rögzítette": "Sára",
                                    "Szállás Név": "Lagúna Hotel",
                                    "Szállás Cím": "1097 Budapest, Albert Flórián út 3"
                                },
                                {
                                    "Rögzítette": "Béla",
                                    "Szállás Név": "Gold Hotel",
                                    "Szállás Cím": "1016 Budapest, Hegyalja út 12"
                                },
                                {
                                    "Rögzítette": "Sára",
                                    "Szállás Név": "Riviéra Panzió",
                                    "Szállás Cím": "6722 Szeged, Petőfi Sándor út 3."
                                },
                                {
                                    "Rögzítette": "Béla",
                                    "Szállás Név": "Tímárház Panzió",
                                    "Szállás Cím": "8600 Siófok, Virág utca 1"
                                },
                                {
                                    "Rögzítette": "Mari",
                                    "Szállás Név": "Jáde panzió",
                                    "Szállás Cím": "8624 Balatonföldvár, Kiss u.2."
                                },
                                {
                                    "Rögzítette": "Béla",
                                    "Szállás Név": "Fortuna panzió",
                                    "Szállás Cím": "1019 Budapest XIV. Cinkotai út 86."
                                },
                                {
                                    "Rögzítette": "Sára",
                                    "Szállás Név": "Fortuna Panzió",
                                    "Szállás Cím": "5900 Orosháza, Gyopárosfürdő Tópart utca 3."
                                },
                                {
                                    "Rögzítette": "Béla",
                                    "Szállás Név": "Kentaur Hotel",
                                    "Szállás Cím": "8600 Siófok (Széplak), Akácfa utca 1"
                                },
                                {
                                    "Rögzítette": "Mari",
                                    "Szállás Név": "Szieszta Apartmanház",
                                    "Szállás Cím": "8630 Balatonboglár, Dózsa György utca 108"
                                },
                                {
                                    "Rögzítette": "Béla",
                                    "Szállás Név": "Családi Ház",
                                    "Szállás Cím": "8630 Balatonboglár, József Attila utca 25"
                                },
                                {
                                    "Rögzítette": "Sára",
                                    "Szállás Név": "Fortuna Apartman",
                                    "Szállás Cím": "4200 Hajdúszoboszló, Wesselényi utca 56."
                                },
                                {
                                    "Rögzítette": "Béla",
                                    "Szállás Név": "Nyárfás Vendégház",
                                    "Szállás Cím": "6723 Szeged, Nagy u. 12."
                                },
                                {
                                    "Rögzítette": "Béla",
                                    "Szállás Név": "Partiszél Vendégház",
                                    "Szállás Cím": "8220 Balatonalmádi Neptun u. 23."
                                }
                            ]
                        },
                        "text/html": [
                            "<table>",
                            "<tr><th>Rögzítette</th><th>Szállás Név</th><th>Szállás Cím</th></tr>",
                            "<tr><td>Béla</td><td>Hotel Három Hattyú</td><td>8623 Balatonföldvár, Rákóczi Ferenc út 45.</td></tr>",
                            "<tr><td>Sára</td><td>Lagúna Hotel</td><td>1097 Budapest, Albert Flórián út 3</td></tr>",
                            "<tr><td>Béla</td><td>Gold Hotel</td><td>1016 Budapest, Hegyalja út 12</td></tr>",
                            "<tr><td>Sára</td><td>Riviéra Panzió</td><td>6722 Szeged, Petőfi Sándor út 3.</td></tr>",
                            "<tr><td>Béla</td><td>Tímárház Panzió</td><td>8600 Siófok, Virág utca 1</td></tr>",
                            "<tr><td>Mari</td><td>Jáde panzió</td><td>8624 Balatonföldvár, Kiss u.2.</td></tr>",
                            "<tr><td>Béla</td><td>Fortuna panzió</td><td>1019 Budapest XIV. Cinkotai út 86.</td></tr>",
                            "<tr><td>Sára</td><td>Fortuna Panzió</td><td>5900 Orosháza, Gyopárosfürdő Tópart utca 3.</td></tr>",
                            "<tr><td>Béla</td><td>Kentaur Hotel</td><td>8600 Siófok (Széplak), Akácfa utca 1</td></tr>",
                            "<tr><td>Mari</td><td>Szieszta Apartmanház</td><td>8630 Balatonboglár, Dózsa György utca 108</td></tr>",
                            "<tr><td>Béla</td><td>Családi Ház</td><td>8630 Balatonboglár, József Attila utca 25</td></tr>",
                            "<tr><td>Sára</td><td>Fortuna Apartman</td><td>4200 Hajdúszoboszló, Wesselényi utca 56.</td></tr>",
                            "<tr><td>Béla</td><td>Nyárfás Vendégház</td><td>6723 Szeged, Nagy u. 12.</td></tr>",
                            "<tr><td>Béla</td><td>Partiszél Vendégház</td><td>8220 Balatonalmádi Neptun u. 23.</td></tr>",
                            "</table>"
                        ]
                    }
                }
            ],
            "execution_count": 12
        }
    ]
}