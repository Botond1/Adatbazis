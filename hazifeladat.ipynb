{
    "metadata": {
        "kernelspec": {
            "name": "SQL",
            "display_name": "SQL",
            "language": "sql"
        },
        "language_info": {
            "name": "sql",
            "version": ""
        }
    },
    "nbformat_minor": 2,
    "nbformat": 4,
    "cells": [
        {
            "cell_type": "code",
            "source": [
                "SELECT MIN(list_price) AS 'Mimumum', \r\n",
                "       MAX(list_price) AS 'Maximum', \r\n",
                "       AVG(list_price) AS 'Átlag'\r\n",
                "FROM order_items\r\n",
                "WHERE list_price IS NOT NULL"
            ],
            "metadata": {
                "azdata_cell_guid": "da34ef3a-67d8-4b6f-9127-f340d7933829",
                "language": "sql"
            },
            "outputs": [
                {
                    "output_type": "display_data",
                    "data": {
                        "text/html": "(1 row affected)"
                    },
                    "metadata": {}
                },
                {
                    "output_type": "display_data",
                    "data": {
                        "text/html": "Total execution time: 00:00:00.033"
                    },
                    "metadata": {}
                },
                {
                    "output_type": "execute_result",
                    "metadata": {},
                    "execution_count": 11,
                    "data": {
                        "application/vnd.dataresource+json": {
                            "schema": {
                                "fields": [
                                    {
                                        "name": "Mimumum"
                                    },
                                    {
                                        "name": "Maximum"
                                    },
                                    {
                                        "name": "Átlag"
                                    }
                                ]
                            },
                            "data": [
                                {
                                    "Mimumum": "89.99",
                                    "Maximum": "11999.99",
                                    "Átlag": "1212.707871"
                                }
                            ]
                        },
                        "text/html": [
                            "<table>",
                            "<tr><th>Mimumum</th><th>Maximum</th><th>Átlag</th></tr>",
                            "<tr><td>89.99</td><td>11999.99</td><td>1212.707871</td></tr>",
                            "</table>"
                        ]
                    }
                }
            ],
            "execution_count": 11
        },
        {
            "cell_type": "markdown",
            "source": [
                "![](data:image/png;base64,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)"
            ],
            "metadata": {
                "language": "sql",
                "azdata_cell_guid": "e8364029-370b-49c2-b786-2043fee7e088"
            },
            "attachments": {}
        },
        {
            "cell_type": "code",
            "source": [
                "SELECT STDEV(list_price) AS 'Átlag eltérés'\r\n",
                "FROM order_items\r\n",
                "WHERE list_price IS NOT NULL"
            ],
            "metadata": {
                "azdata_cell_guid": "25ef9daa-8a00-405e-9193-a8adb8cb8046",
                "language": "sql",
                "tags": []
            },
            "outputs": [
                {
                    "output_type": "display_data",
                    "data": {
                        "text/html": "(1 row affected)"
                    },
                    "metadata": {}
                },
                {
                    "output_type": "display_data",
                    "data": {
                        "text/html": "Total execution time: 00:00:00.060"
                    },
                    "metadata": {}
                },
                {
                    "output_type": "execute_result",
                    "metadata": {},
                    "execution_count": 14,
                    "data": {
                        "application/vnd.dataresource+json": {
                            "schema": {
                                "fields": [
                                    {
                                        "name": "Átlag eltérés"
                                    }
                                ]
                            },
                            "data": [
                                {
                                    "Átlag eltérés": "1352,7982572830404"
                                }
                            ]
                        },
                        "text/html": [
                            "<table>",
                            "<tr><th>Átlag eltérés</th></tr>",
                            "<tr><td>1352,7982572830404</td></tr>",
                            "</table>"
                        ]
                    }
                }
            ],
            "execution_count": 14
        },
        {
            "cell_type": "code",
            "source": [
                "SELECT VAR(list_price) AS 'Változatok'\r\n",
                "FROM order_items\r\n",
                "WHERE list_price IS NOT NULL"
            ],
            "metadata": {
                "language": "sql",
                "azdata_cell_guid": "02459acc-6f98-44bf-be72-cb16158f2724"
            },
            "outputs": [
                {
                    "output_type": "display_data",
                    "data": {
                        "text/html": "(1 row affected)"
                    },
                    "metadata": {}
                },
                {
                    "output_type": "display_data",
                    "data": {
                        "text/html": "Total execution time: 00:00:00.042"
                    },
                    "metadata": {}
                },
                {
                    "output_type": "execute_result",
                    "metadata": {},
                    "execution_count": 15,
                    "data": {
                        "application/vnd.dataresource+json": {
                            "schema": {
                                "fields": [
                                    {
                                        "name": "Változatok"
                                    }
                                ]
                            },
                            "data": [
                                {
                                    "Változatok": "1830063,1249080312"
                                }
                            ]
                        },
                        "text/html": [
                            "<table>",
                            "<tr><th>Változatok</th></tr>",
                            "<tr><td>1830063,1249080312</td></tr>",
                            "</table>"
                        ]
                    }
                }
            ],
            "execution_count": 15
        },
        {
            "cell_type": "code",
            "source": [
                "SELECT row_type,\r\n",
                "    COUNT(*) row_count\r\n",
                "FROM \r\n",
                "    (SELECT \r\n",
                "        CASE WHEN discount IS NULL THEN 'Null'\r\n",
                "            WHEN LEN(discount) = 0 THEN 'Empty'\r\n",
                "            ELSE 'Non Empty' \r\n",
                "            END AS row_type\r\n",
                "        FROM order_items) rows\r\n",
                "GROUP BY row_type"
            ],
            "metadata": {
                "azdata_cell_guid": "53df88ef-c6db-4fba-bf5f-9a7272c68dba",
                "language": "sql"
            },
            "outputs": [
                {
                    "output_type": "display_data",
                    "data": {
                        "text/html": "(1 row affected)"
                    },
                    "metadata": {}
                },
                {
                    "output_type": "display_data",
                    "data": {
                        "text/html": "Total execution time: 00:00:00.021"
                    },
                    "metadata": {}
                },
                {
                    "output_type": "execute_result",
                    "metadata": {},
                    "execution_count": 16,
                    "data": {
                        "application/vnd.dataresource+json": {
                            "schema": {
                                "fields": [
                                    {
                                        "name": "row_type"
                                    },
                                    {
                                        "name": "row_count"
                                    }
                                ]
                            },
                            "data": [
                                {
                                    "row_type": "Non Empty",
                                    "row_count": "4722"
                                }
                            ]
                        },
                        "text/html": [
                            "<table>",
                            "<tr><th>row_type</th><th>row_count</th></tr>",
                            "<tr><td>Non Empty</td><td>4722</td></tr>",
                            "</table>"
                        ]
                    }
                }
            ],
            "execution_count": 16
        },
        {
            "cell_type": "code",
            "source": [
                "SELECT row_type, \r\n",
                "    SUM(row_count) AS row_count\r\n",
                "FROM\r\n",
                "    (SELECT \r\n",
                "        CASE WHEN [value] IS NULL then 'NULL'\r\n",
                "            WHEN row_count = 1 then 'Unique'\r\n",
                "            ELSE 'Non Unique' \r\n",
                "            END AS row_type,\r\n",
                "        row_count\r\n",
                "    FROM (\r\n",
                "        SELECT product_id [value], \r\n",
                "            COUNT(*) row_count\r\n",
                "        FROM order_items\r\n",
                "        GROUP BY product_id) X) Y\r\n",
                "GROUP BY row_type"
            ],
            "metadata": {
                "language": "sql",
                "azdata_cell_guid": "3f0aed91-e643-45a3-b804-07da77814dbd"
            },
            "outputs": [
                {
                    "output_type": "display_data",
                    "data": {
                        "text/html": "(2 rows affected)"
                    },
                    "metadata": {}
                },
                {
                    "output_type": "display_data",
                    "data": {
                        "text/html": "Total execution time: 00:00:00.027"
                    },
                    "metadata": {}
                },
                {
                    "output_type": "execute_result",
                    "metadata": {},
                    "execution_count": 4,
                    "data": {
                        "application/vnd.dataresource+json": {
                            "schema": {
                                "fields": [
                                    {
                                        "name": "row_type"
                                    },
                                    {
                                        "name": "row_count"
                                    }
                                ]
                            },
                            "data": [
                                {
                                    "row_type": "Non Unique",
                                    "row_count": "4680"
                                },
                                {
                                    "row_type": "Unique",
                                    "row_count": "42"
                                }
                            ]
                        },
                        "text/html": [
                            "<table>",
                            "<tr><th>row_type</th><th>row_count</th></tr>",
                            "<tr><td>Non Unique</td><td>4680</td></tr>",
                            "<tr><td>Unique</td><td>42</td></tr>",
                            "</table>"
                        ]
                    }
                }
            ],
            "execution_count": 4
        },
        {
            "cell_type": "markdown",
            "source": [
                "![](data:image/png;base64,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)"
            ],
            "metadata": {
                "language": "sql",
                "azdata_cell_guid": "db8e3b5f-0d31-4332-a075-624059637f58"
            },
            "attachments": {}
        },
        {
            "cell_type": "code",
            "source": [
                "SELECT \r\n",
                "    product_id AS value,\r\n",
                "    COUNT(*) row_count\r\n",
                "from order_items\r\n",
                "WHERE product_id IS NOT null\r\n",
                "GROUP BY product_id\r\n",
                "ORDER BY product_id"
            ],
            "metadata": {
                "language": "sql",
                "azdata_cell_guid": "0a636fdb-6b73-4c5d-9dbd-faff0604932d"
            },
            "outputs": [
                {
                    "output_type": "display_data",
                    "data": {
                        "text/html": "(307 rows affected)"
                    },
                    "metadata": {}
                },
                {
                    "output_type": "display_data",
                    "data": {
                        "text/html": "Total execution time: 00:00:00.030"
                    },
                    "metadata": {}
                },
                {
                    "output_type": "execute_result",
                    "metadata": {},
                    "execution_count": 12,
                    "data": {
                        "application/vnd.dataresource+json": {
                            "schema": {
                                "fields": [
                                    {
                                        "name": "value"
                                    },
                                    {
                                        "name": "row_count"
                                    }
                                ]
                            },
                            "data": [
                                {
                                    "value": "2",
                                    "row_count": "77"
                                },
                                {
                                    "value": "3",
                                    "row_count": "86"
                                },
                                {
                                    "value": "4",
                                    "row_count": "97"
                                },
                                {
                                    "value": "5",
                                    "row_count": "91"
                                },
                                {
                                    "value": "6",
                                    "row_count": "110"
                                },
                                {
                                    "value": "7",
                                    "row_count": "101"
                                },
                                {
                                    "value": "8",
                                    "row_count": "85"
                                },
                                {
                                    "value": "9",
                                    "row_count": "101"
                                },
                                {
                                    "value": "10",
                                    "row_count": "97"
                                },
                                {
                                    "value": "11",
                                    "row_count": "97"
                                },
                                {
                                    "value": "12",
                                    "row_count": "104"
                                },
                                {
                                    "value": "13",
                                    "row_count": "103"
                                },
                                {
                                    "value": "14",
                                    "row_count": "86"
                                },
                                {
                                    "value": "15",
                                    "row_count": "91"
                                },
                                {
                                    "value": "16",
                                    "row_count": "95"
                                },
                                {
                                    "value": "17",
                                    "row_count": "91"
                                },
                                {
                                    "value": "18",
                                    "row_count": "89"
                                },
                                {
                                    "value": "19",
                                    "row_count": "78"
                                },
                                {
                                    "value": "20",
                                    "row_count": "84"
                                },
                                {
                                    "value": "21",
                                    "row_count": "90"
                                },
                                {
                                    "value": "22",
                                    "row_count": "94"
                                },
                                {
                                    "value": "23",
                                    "row_count": "100"
                                },
                                {
                                    "value": "24",
                                    "row_count": "89"
                                },
                                {
                                    "value": "25",
                                    "row_count": "98"
                                },
                                {
                                    "value": "26",
                                    "row_count": "90"
                                },
                                {
                                    "value": "27",
                                    "row_count": "21"
                                },
                                {
                                    "value": "28",
                                    "row_count": "26"
                                },
                                {
                                    "value": "29",
                                    "row_count": "24"
                                },
                                {
                                    "value": "30",
                                    "row_count": "22"
                                },
                                {
                                    "value": "31",
                                    "row_count": "13"
                                },
                                {
                                    "value": "32",
                                    "row_count": "22"
                                },
                                {
                                    "value": "33",
                                    "row_count": "22"
                                },
                                {
                                    "value": "34",
                                    "row_count": "11"
                                },
                                {
                                    "value": "35",
                                    "row_count": "17"
                                },
                                {
                                    "value": "36",
                                    "row_count": "29"
                                },
                                {
                                    "value": "37",
                                    "row_count": "20"
                                },
                                {
                                    "value": "38",
                                    "row_count": "18"
                                },
                                {
                                    "value": "39",
                                    "row_count": "16"
                                },
                                {
                                    "value": "40",
                                    "row_count": "21"
                                },
                                {
                                    "value": "41",
                                    "row_count": "24"
                                },
                                {
                                    "value": "42",
                                    "row_count": "24"
                                },
                                {
                                    "value": "43",
                                    "row_count": "25"
                                },
                                {
                                    "value": "44",
                                    "row_count": "16"
                                },
                                {
                                    "value": "45",
                                    "row_count": "32"
                                },
                                {
                                    "value": "46",
                                    "row_count": "19"
                                },
                                {
                                    "value": "47",
                                    "row_count": "14"
                                },
                                {
                                    "value": "48",
                                    "row_count": "28"
                                },
                                {
                                    "value": "49",
                                    "row_count": "22"
                                },
                                {
                                    "value": "50",
                                    "row_count": "20"
                                },
                                {
                                    "value": "51",
                                    "row_count": "19"
                                },
                                {
                                    "value": "52",
                                    "row_count": "26"
                                },
                                {
                                    "value": "53",
                                    "row_count": "17"
                                },
                                {
                                    "value": "54",
                                    "row_count": "17"
                                },
                                {
                                    "value": "55",
                                    "row_count": "26"
                                },
                                {
                                    "value": "56",
                                    "row_count": "28"
                                },
                                {
                                    "value": "57",
                                    "row_count": "15"
                                },
                                {
                                    "value": "58",
                                    "row_count": "26"
                                },
                                {
                                    "value": "59",
                                    "row_count": "18"
                                },
                                {
                                    "value": "60",
                                    "row_count": "24"
                                },
                                {
                                    "value": "61",
                                    "row_count": "25"
                                },
                                {
                                    "value": "62",
                                    "row_count": "25"
                                },
                                {
                                    "value": "63",
                                    "row_count": "21"
                                },
                                {
                                    "value": "64",
                                    "row_count": "20"
                                },
                                {
                                    "value": "65",
                                    "row_count": "35"
                                },
                                {
                                    "value": "66",
                                    "row_count": "24"
                                },
                                {
                                    "value": "67",
                                    "row_count": "16"
                                },
                                {
                                    "value": "68",
                                    "row_count": "19"
                                },
                                {
                                    "value": "69",
                                    "row_count": "18"
                                },
                                {
                                    "value": "70",
                                    "row_count": "22"
                                },
                                {
                                    "value": "71",
                                    "row_count": "26"
                                },
                                {
                                    "value": "72",
                                    "row_count": "22"
                                },
                                {
                                    "value": "73",
                                    "row_count": "20"
                                },
                                {
                                    "value": "74",
                                    "row_count": "19"
                                },
                                {
                                    "value": "75",
                                    "row_count": "18"
                                },
                                {
                                    "value": "76",
                                    "row_count": "18"
                                },
                                {
                                    "value": "77",
                                    "row_count": "21"
                                },
                                {
                                    "value": "78",
                                    "row_count": "27"
                                },
                                {
                                    "value": "79",
                                    "row_count": "16"
                                },
                                {
                                    "value": "80",
                                    "row_count": "14"
                                },
                                {
                                    "value": "81",
                                    "row_count": "24"
                                },
                                {
                                    "value": "82",
                                    "row_count": "23"
                                },
                                {
                                    "value": "83",
                                    "row_count": "15"
                                },
                                {
                                    "value": "84",
                                    "row_count": "16"
                                },
                                {
                                    "value": "85",
                                    "row_count": "21"
                                },
                                {
                                    "value": "86",
                                    "row_count": "15"
                                },
                                {
                                    "value": "87",
                                    "row_count": "19"
                                },
                                {
                                    "value": "88",
                                    "row_count": "23"
                                },
                                {
                                    "value": "89",
                                    "row_count": "18"
                                },
                                {
                                    "value": "90",
                                    "row_count": "18"
                                },
                                {
                                    "value": "91",
                                    "row_count": "28"
                                },
                                {
                                    "value": "92",
                                    "row_count": "26"
                                },
                                {
                                    "value": "93",
                                    "row_count": "25"
                                },
                                {
                                    "value": "94",
                                    "row_count": "19"
                                },
                                {
                                    "value": "95",
                                    "row_count": "31"
                                },
                                {
                                    "value": "96",
                                    "row_count": "20"
                                },
                                {
                                    "value": "97",
                                    "row_count": "22"
                                },
                                {
                                    "value": "98",
                                    "row_count": "12"
                                },
                                {
                                    "value": "99",
                                    "row_count": "24"
                                },
                                {
                                    "value": "100",
                                    "row_count": "28"
                                },
                                {
                                    "value": "101",
                                    "row_count": "26"
                                },
                                {
                                    "value": "102",
                                    "row_count": "25"
                                },
                                {
                                    "value": "103",
                                    "row_count": "28"
                                },
                                {
                                    "value": "104",
                                    "row_count": "20"
                                },
                                {
                                    "value": "105",
                                    "row_count": "25"
                                },
                                {
                                    "value": "106",
                                    "row_count": "27"
                                },
                                {
                                    "value": "107",
                                    "row_count": "16"
                                },
                                {
                                    "value": "108",
                                    "row_count": "21"
                                },
                                {
                                    "value": "109",
                                    "row_count": "20"
                                },
                                {
                                    "value": "110",
                                    "row_count": "16"
                                },
                                {
                                    "value": "111",
                                    "row_count": "18"
                                },
                                {
                                    "value": "112",
                                    "row_count": "3"
                                },
                                {
                                    "value": "113",
                                    "row_count": "6"
                                },
                                {
                                    "value": "114",
                                    "row_count": "2"
                                },
                                {
                                    "value": "115",
                                    "row_count": "4"
                                },
                                {
                                    "value": "116",
                                    "row_count": "2"
                                },
                                {
                                    "value": "117",
                                    "row_count": "4"
                                },
                                {
                                    "value": "118",
                                    "row_count": "2"
                                },
                                {
                                    "value": "119",
                                    "row_count": "3"
                                },
                                {
                                    "value": "120",
                                    "row_count": "2"
                                },
                                {
                                    "value": "122",
                                    "row_count": "3"
                                },
                                {
                                    "value": "123",
                                    "row_count": "6"
                                },
                                {
                                    "value": "124",
                                    "row_count": "7"
                                },
                                {
                                    "value": "126",
                                    "row_count": "5"
                                },
                                {
                                    "value": "127",
                                    "row_count": "3"
                                },
                                {
                                    "value": "128",
                                    "row_count": "5"
                                },
                                {
                                    "value": "129",
                                    "row_count": "3"
                                },
                                {
                                    "value": "130",
                                    "row_count": "4"
                                },
                                {
                                    "value": "131",
                                    "row_count": "2"
                                },
                                {
                                    "value": "132",
                                    "row_count": "2"
                                },
                                {
                                    "value": "133",
                                    "row_count": "2"
                                },
                                {
                                    "value": "134",
                                    "row_count": "2"
                                },
                                {
                                    "value": "135",
                                    "row_count": "3"
                                },
                                {
                                    "value": "136",
                                    "row_count": "3"
                                },
                                {
                                    "value": "137",
                                    "row_count": "4"
                                },
                                {
                                    "value": "138",
                                    "row_count": "3"
                                },
                                {
                                    "value": "139",
                                    "row_count": "4"
                                },
                                {
                                    "value": "140",
                                    "row_count": "2"
                                },
                                {
                                    "value": "141",
                                    "row_count": "4"
                                },
                                {
                                    "value": "142",
                                    "row_count": "5"
                                },
                                {
                                    "value": "143",
                                    "row_count": "1"
                                },
                                {
                                    "value": "144",
                                    "row_count": "2"
                                },
                                {
                                    "value": "145",
                                    "row_count": "4"
                                },
                                {
                                    "value": "146",
                                    "row_count": "2"
                                },
                                {
                                    "value": "147",
                                    "row_count": "4"
                                },
                                {
                                    "value": "148",
                                    "row_count": "3"
                                },
                                {
                                    "value": "149",
                                    "row_count": "3"
                                },
                                {
                                    "value": "150",
                                    "row_count": "3"
                                },
                                {
                                    "value": "151",
                                    "row_count": "4"
                                },
                                {
                                    "value": "152",
                                    "row_count": "2"
                                },
                                {
                                    "value": "153",
                                    "row_count": "5"
                                },
                                {
                                    "value": "155",
                                    "row_count": "3"
                                },
                                {
                                    "value": "156",
                                    "row_count": "3"
                                },
                                {
                                    "value": "157",
                                    "row_count": "1"
                                },
                                {
                                    "value": "158",
                                    "row_count": "3"
                                },
                                {
                                    "value": "159",
                                    "row_count": "5"
                                },
                                {
                                    "value": "160",
                                    "row_count": "4"
                                },
                                {
                                    "value": "161",
                                    "row_count": "2"
                                },
                                {
                                    "value": "162",
                                    "row_count": "2"
                                },
                                {
                                    "value": "163",
                                    "row_count": "4"
                                },
                                {
                                    "value": "164",
                                    "row_count": "2"
                                },
                                {
                                    "value": "165",
                                    "row_count": "2"
                                },
                                {
                                    "value": "166",
                                    "row_count": "4"
                                },
                                {
                                    "value": "167",
                                    "row_count": "1"
                                },
                                {
                                    "value": "168",
                                    "row_count": "3"
                                },
                                {
                                    "value": "169",
                                    "row_count": "2"
                                },
                                {
                                    "value": "170",
                                    "row_count": "1"
                                },
                                {
                                    "value": "171",
                                    "row_count": "4"
                                },
                                {
                                    "value": "172",
                                    "row_count": "4"
                                },
                                {
                                    "value": "173",
                                    "row_count": "3"
                                },
                                {
                                    "value": "174",
                                    "row_count": "1"
                                },
                                {
                                    "value": "175",
                                    "row_count": "2"
                                },
                                {
                                    "value": "176",
                                    "row_count": "1"
                                },
                                {
                                    "value": "177",
                                    "row_count": "1"
                                },
                                {
                                    "value": "178",
                                    "row_count": "2"
                                },
                                {
                                    "value": "179",
                                    "row_count": "2"
                                },
                                {
                                    "value": "180",
                                    "row_count": "5"
                                },
                                {
                                    "value": "181",
                                    "row_count": "3"
                                },
                                {
                                    "value": "182",
                                    "row_count": "4"
                                },
                                {
                                    "value": "183",
                                    "row_count": "1"
                                },
                                {
                                    "value": "184",
                                    "row_count": "4"
                                },
                                {
                                    "value": "185",
                                    "row_count": "4"
                                },
                                {
                                    "value": "186",
                                    "row_count": "4"
                                },
                                {
                                    "value": "187",
                                    "row_count": "2"
                                },
                                {
                                    "value": "188",
                                    "row_count": "4"
                                },
                                {
                                    "value": "189",
                                    "row_count": "1"
                                },
                                {
                                    "value": "190",
                                    "row_count": "3"
                                },
                                {
                                    "value": "191",
                                    "row_count": "3"
                                },
                                {
                                    "value": "192",
                                    "row_count": "1"
                                },
                                {
                                    "value": "193",
                                    "row_count": "3"
                                },
                                {
                                    "value": "194",
                                    "row_count": "5"
                                },
                                {
                                    "value": "196",
                                    "row_count": "3"
                                },
                                {
                                    "value": "197",
                                    "row_count": "4"
                                },
                                {
                                    "value": "198",
                                    "row_count": "5"
                                },
                                {
                                    "value": "199",
                                    "row_count": "1"
                                },
                                {
                                    "value": "200",
                                    "row_count": "1"
                                },
                                {
                                    "value": "201",
                                    "row_count": "1"
                                },
                                {
                                    "value": "202",
                                    "row_count": "3"
                                },
                                {
                                    "value": "203",
                                    "row_count": "5"
                                },
                                {
                                    "value": "204",
                                    "row_count": "5"
                                },
                                {
                                    "value": "205",
                                    "row_count": "4"
                                },
                                {
                                    "value": "206",
                                    "row_count": "2"
                                },
                                {
                                    "value": "207",
                                    "row_count": "5"
                                },
                                {
                                    "value": "208",
                                    "row_count": "2"
                                },
                                {
                                    "value": "209",
                                    "row_count": "3"
                                },
                                {
                                    "value": "210",
                                    "row_count": "3"
                                },
                                {
                                    "value": "211",
                                    "row_count": "1"
                                },
                                {
                                    "value": "212",
                                    "row_count": "1"
                                },
                                {
                                    "value": "213",
                                    "row_count": "4"
                                },
                                {
                                    "value": "214",
                                    "row_count": "4"
                                },
                                {
                                    "value": "215",
                                    "row_count": "4"
                                },
                                {
                                    "value": "216",
                                    "row_count": "4"
                                },
                                {
                                    "value": "217",
                                    "row_count": "3"
                                },
                                {
                                    "value": "218",
                                    "row_count": "1"
                                },
                                {
                                    "value": "219",
                                    "row_count": "3"
                                },
                                {
                                    "value": "220",
                                    "row_count": "4"
                                },
                                {
                                    "value": "221",
                                    "row_count": "2"
                                },
                                {
                                    "value": "222",
                                    "row_count": "1"
                                },
                                {
                                    "value": "223",
                                    "row_count": "4"
                                },
                                {
                                    "value": "224",
                                    "row_count": "3"
                                },
                                {
                                    "value": "225",
                                    "row_count": "4"
                                },
                                {
                                    "value": "226",
                                    "row_count": "4"
                                },
                                {
                                    "value": "227",
                                    "row_count": "3"
                                },
                                {
                                    "value": "228",
                                    "row_count": "2"
                                },
                                {
                                    "value": "229",
                                    "row_count": "3"
                                },
                                {
                                    "value": "230",
                                    "row_count": "6"
                                },
                                {
                                    "value": "231",
                                    "row_count": "2"
                                },
                                {
                                    "value": "232",
                                    "row_count": "2"
                                },
                                {
                                    "value": "233",
                                    "row_count": "2"
                                },
                                {
                                    "value": "234",
                                    "row_count": "4"
                                },
                                {
                                    "value": "235",
                                    "row_count": "6"
                                },
                                {
                                    "value": "236",
                                    "row_count": "3"
                                },
                                {
                                    "value": "237",
                                    "row_count": "3"
                                },
                                {
                                    "value": "238",
                                    "row_count": "3"
                                },
                                {
                                    "value": "239",
                                    "row_count": "1"
                                },
                                {
                                    "value": "240",
                                    "row_count": "2"
                                },
                                {
                                    "value": "241",
                                    "row_count": "2"
                                },
                                {
                                    "value": "242",
                                    "row_count": "5"
                                },
                                {
                                    "value": "243",
                                    "row_count": "4"
                                },
                                {
                                    "value": "244",
                                    "row_count": "2"
                                },
                                {
                                    "value": "245",
                                    "row_count": "3"
                                },
                                {
                                    "value": "246",
                                    "row_count": "2"
                                },
                                {
                                    "value": "247",
                                    "row_count": "2"
                                },
                                {
                                    "value": "248",
                                    "row_count": "5"
                                },
                                {
                                    "value": "249",
                                    "row_count": "4"
                                },
                                {
                                    "value": "250",
                                    "row_count": "1"
                                },
                                {
                                    "value": "251",
                                    "row_count": "5"
                                },
                                {
                                    "value": "252",
                                    "row_count": "7"
                                },
                                {
                                    "value": "253",
                                    "row_count": "6"
                                },
                                {
                                    "value": "254",
                                    "row_count": "4"
                                },
                                {
                                    "value": "255",
                                    "row_count": "2"
                                },
                                {
                                    "value": "256",
                                    "row_count": "1"
                                },
                                {
                                    "value": "257",
                                    "row_count": "3"
                                },
                                {
                                    "value": "258",
                                    "row_count": "1"
                                },
                                {
                                    "value": "259",
                                    "row_count": "2"
                                },
                                {
                                    "value": "260",
                                    "row_count": "4"
                                },
                                {
                                    "value": "261",
                                    "row_count": "2"
                                },
                                {
                                    "value": "262",
                                    "row_count": "1"
                                },
                                {
                                    "value": "263",
                                    "row_count": "7"
                                },
                                {
                                    "value": "264",
                                    "row_count": "3"
                                },
                                {
                                    "value": "265",
                                    "row_count": "6"
                                },
                                {
                                    "value": "266",
                                    "row_count": "1"
                                },
                                {
                                    "value": "268",
                                    "row_count": "5"
                                },
                                {
                                    "value": "269",
                                    "row_count": "4"
                                },
                                {
                                    "value": "270",
                                    "row_count": "1"
                                },
                                {
                                    "value": "271",
                                    "row_count": "5"
                                },
                                {
                                    "value": "272",
                                    "row_count": "2"
                                },
                                {
                                    "value": "273",
                                    "row_count": "1"
                                },
                                {
                                    "value": "274",
                                    "row_count": "2"
                                },
                                {
                                    "value": "275",
                                    "row_count": "3"
                                },
                                {
                                    "value": "276",
                                    "row_count": "3"
                                },
                                {
                                    "value": "277",
                                    "row_count": "2"
                                },
                                {
                                    "value": "278",
                                    "row_count": "1"
                                },
                                {
                                    "value": "279",
                                    "row_count": "1"
                                },
                                {
                                    "value": "280",
                                    "row_count": "1"
                                },
                                {
                                    "value": "281",
                                    "row_count": "3"
                                },
                                {
                                    "value": "282",
                                    "row_count": "5"
                                },
                                {
                                    "value": "283",
                                    "row_count": "4"
                                },
                                {
                                    "value": "285",
                                    "row_count": "1"
                                },
                                {
                                    "value": "286",
                                    "row_count": "3"
                                },
                                {
                                    "value": "287",
                                    "row_count": "1"
                                },
                                {
                                    "value": "288",
                                    "row_count": "1"
                                },
                                {
                                    "value": "289",
                                    "row_count": "1"
                                },
                                {
                                    "value": "290",
                                    "row_count": "1"
                                },
                                {
                                    "value": "292",
                                    "row_count": "3"
                                },
                                {
                                    "value": "293",
                                    "row_count": "4"
                                },
                                {
                                    "value": "294",
                                    "row_count": "1"
                                },
                                {
                                    "value": "295",
                                    "row_count": "6"
                                },
                                {
                                    "value": "296",
                                    "row_count": "1"
                                },
                                {
                                    "value": "297",
                                    "row_count": "5"
                                },
                                {
                                    "value": "298",
                                    "row_count": "3"
                                },
                                {
                                    "value": "299",
                                    "row_count": "1"
                                },
                                {
                                    "value": "300",
                                    "row_count": "6"
                                },
                                {
                                    "value": "301",
                                    "row_count": "4"
                                },
                                {
                                    "value": "302",
                                    "row_count": "4"
                                },
                                {
                                    "value": "303",
                                    "row_count": "1"
                                },
                                {
                                    "value": "304",
                                    "row_count": "5"
                                },
                                {
                                    "value": "305",
                                    "row_count": "1"
                                },
                                {
                                    "value": "306",
                                    "row_count": "4"
                                },
                                {
                                    "value": "307",
                                    "row_count": "2"
                                },
                                {
                                    "value": "308",
                                    "row_count": "3"
                                },
                                {
                                    "value": "309",
                                    "row_count": "1"
                                },
                                {
                                    "value": "310",
                                    "row_count": "4"
                                },
                                {
                                    "value": "311",
                                    "row_count": "2"
                                },
                                {
                                    "value": "312",
                                    "row_count": "1"
                                },
                                {
                                    "value": "313",
                                    "row_count": "3"
                                },
                                {
                                    "value": "314",
                                    "row_count": "1"
                                },
                                {
                                    "value": "315",
                                    "row_count": "1"
                                }
                            ]
                        },
                        "text/html": [
                            "<table>",
                            "<tr><th>value</th><th>row_count</th></tr>",
                            "<tr><td>2</td><td>77</td></tr>",
                            "<tr><td>3</td><td>86</td></tr>",
                            "<tr><td>4</td><td>97</td></tr>",
                            "<tr><td>5</td><td>91</td></tr>",
                            "<tr><td>6</td><td>110</td></tr>",
                            "<tr><td>7</td><td>101</td></tr>",
                            "<tr><td>8</td><td>85</td></tr>",
                            "<tr><td>9</td><td>101</td></tr>",
                            "<tr><td>10</td><td>97</td></tr>",
                            "<tr><td>11</td><td>97</td></tr>",
                            "<tr><td>12</td><td>104</td></tr>",
                            "<tr><td>13</td><td>103</td></tr>",
                            "<tr><td>14</td><td>86</td></tr>",
                            "<tr><td>15</td><td>91</td></tr>",
                            "<tr><td>16</td><td>95</td></tr>",
                            "<tr><td>17</td><td>91</td></tr>",
                            "<tr><td>18</td><td>89</td></tr>",
                            "<tr><td>19</td><td>78</td></tr>",
                            "<tr><td>20</td><td>84</td></tr>",
                            "<tr><td>21</td><td>90</td></tr>",
                            "<tr><td>22</td><td>94</td></tr>",
                            "<tr><td>23</td><td>100</td></tr>",
                            "<tr><td>24</td><td>89</td></tr>",
                            "<tr><td>25</td><td>98</td></tr>",
                            "<tr><td>26</td><td>90</td></tr>",
                            "<tr><td>27</td><td>21</td></tr>",
                            "<tr><td>28</td><td>26</td></tr>",
                            "<tr><td>29</td><td>24</td></tr>",
                            "<tr><td>30</td><td>22</td></tr>",
                            "<tr><td>31</td><td>13</td></tr>",
                            "<tr><td>32</td><td>22</td></tr>",
                            "<tr><td>33</td><td>22</td></tr>",
                            "<tr><td>34</td><td>11</td></tr>",
                            "<tr><td>35</td><td>17</td></tr>",
                            "<tr><td>36</td><td>29</td></tr>",
                            "<tr><td>37</td><td>20</td></tr>",
                            "<tr><td>38</td><td>18</td></tr>",
                            "<tr><td>39</td><td>16</td></tr>",
                            "<tr><td>40</td><td>21</td></tr>",
                            "<tr><td>41</td><td>24</td></tr>",
                            "<tr><td>42</td><td>24</td></tr>",
                            "<tr><td>43</td><td>25</td></tr>",
                            "<tr><td>44</td><td>16</td></tr>",
                            "<tr><td>45</td><td>32</td></tr>",
                            "<tr><td>46</td><td>19</td></tr>",
                            "<tr><td>47</td><td>14</td></tr>",
                            "<tr><td>48</td><td>28</td></tr>",
                            "<tr><td>49</td><td>22</td></tr>",
                            "<tr><td>50</td><td>20</td></tr>",
                            "<tr><td>51</td><td>19</td></tr>",
                            "<tr><td>52</td><td>26</td></tr>",
                            "<tr><td>53</td><td>17</td></tr>",
                            "<tr><td>54</td><td>17</td></tr>",
                            "<tr><td>55</td><td>26</td></tr>",
                            "<tr><td>56</td><td>28</td></tr>",
                            "<tr><td>57</td><td>15</td></tr>",
                            "<tr><td>58</td><td>26</td></tr>",
                            "<tr><td>59</td><td>18</td></tr>",
                            "<tr><td>60</td><td>24</td></tr>",
                            "<tr><td>61</td><td>25</td></tr>",
                            "<tr><td>62</td><td>25</td></tr>",
                            "<tr><td>63</td><td>21</td></tr>",
                            "<tr><td>64</td><td>20</td></tr>",
                            "<tr><td>65</td><td>35</td></tr>",
                            "<tr><td>66</td><td>24</td></tr>",
                            "<tr><td>67</td><td>16</td></tr>",
                            "<tr><td>68</td><td>19</td></tr>",
                            "<tr><td>69</td><td>18</td></tr>",
                            "<tr><td>70</td><td>22</td></tr>",
                            "<tr><td>71</td><td>26</td></tr>",
                            "<tr><td>72</td><td>22</td></tr>",
                            "<tr><td>73</td><td>20</td></tr>",
                            "<tr><td>74</td><td>19</td></tr>",
                            "<tr><td>75</td><td>18</td></tr>",
                            "<tr><td>76</td><td>18</td></tr>",
                            "<tr><td>77</td><td>21</td></tr>",
                            "<tr><td>78</td><td>27</td></tr>",
                            "<tr><td>79</td><td>16</td></tr>",
                            "<tr><td>80</td><td>14</td></tr>",
                            "<tr><td>81</td><td>24</td></tr>",
                            "<tr><td>82</td><td>23</td></tr>",
                            "<tr><td>83</td><td>15</td></tr>",
                            "<tr><td>84</td><td>16</td></tr>",
                            "<tr><td>85</td><td>21</td></tr>",
                            "<tr><td>86</td><td>15</td></tr>",
                            "<tr><td>87</td><td>19</td></tr>",
                            "<tr><td>88</td><td>23</td></tr>",
                            "<tr><td>89</td><td>18</td></tr>",
                            "<tr><td>90</td><td>18</td></tr>",
                            "<tr><td>91</td><td>28</td></tr>",
                            "<tr><td>92</td><td>26</td></tr>",
                            "<tr><td>93</td><td>25</td></tr>",
                            "<tr><td>94</td><td>19</td></tr>",
                            "<tr><td>95</td><td>31</td></tr>",
                            "<tr><td>96</td><td>20</td></tr>",
                            "<tr><td>97</td><td>22</td></tr>",
                            "<tr><td>98</td><td>12</td></tr>",
                            "<tr><td>99</td><td>24</td></tr>",
                            "<tr><td>100</td><td>28</td></tr>",
                            "<tr><td>101</td><td>26</td></tr>",
                            "<tr><td>102</td><td>25</td></tr>",
                            "<tr><td>103</td><td>28</td></tr>",
                            "<tr><td>104</td><td>20</td></tr>",
                            "<tr><td>105</td><td>25</td></tr>",
                            "<tr><td>106</td><td>27</td></tr>",
                            "<tr><td>107</td><td>16</td></tr>",
                            "<tr><td>108</td><td>21</td></tr>",
                            "<tr><td>109</td><td>20</td></tr>",
                            "<tr><td>110</td><td>16</td></tr>",
                            "<tr><td>111</td><td>18</td></tr>",
                            "<tr><td>112</td><td>3</td></tr>",
                            "<tr><td>113</td><td>6</td></tr>",
                            "<tr><td>114</td><td>2</td></tr>",
                            "<tr><td>115</td><td>4</td></tr>",
                            "<tr><td>116</td><td>2</td></tr>",
                            "<tr><td>117</td><td>4</td></tr>",
                            "<tr><td>118</td><td>2</td></tr>",
                            "<tr><td>119</td><td>3</td></tr>",
                            "<tr><td>120</td><td>2</td></tr>",
                            "<tr><td>122</td><td>3</td></tr>",
                            "<tr><td>123</td><td>6</td></tr>",
                            "<tr><td>124</td><td>7</td></tr>",
                            "<tr><td>126</td><td>5</td></tr>",
                            "<tr><td>127</td><td>3</td></tr>",
                            "<tr><td>128</td><td>5</td></tr>",
                            "<tr><td>129</td><td>3</td></tr>",
                            "<tr><td>130</td><td>4</td></tr>",
                            "<tr><td>131</td><td>2</td></tr>",
                            "<tr><td>132</td><td>2</td></tr>",
                            "<tr><td>133</td><td>2</td></tr>",
                            "<tr><td>134</td><td>2</td></tr>",
                            "<tr><td>135</td><td>3</td></tr>",
                            "<tr><td>136</td><td>3</td></tr>",
                            "<tr><td>137</td><td>4</td></tr>",
                            "<tr><td>138</td><td>3</td></tr>",
                            "<tr><td>139</td><td>4</td></tr>",
                            "<tr><td>140</td><td>2</td></tr>",
                            "<tr><td>141</td><td>4</td></tr>",
                            "<tr><td>142</td><td>5</td></tr>",
                            "<tr><td>143</td><td>1</td></tr>",
                            "<tr><td>144</td><td>2</td></tr>",
                            "<tr><td>145</td><td>4</td></tr>",
                            "<tr><td>146</td><td>2</td></tr>",
                            "<tr><td>147</td><td>4</td></tr>",
                            "<tr><td>148</td><td>3</td></tr>",
                            "<tr><td>149</td><td>3</td></tr>",
                            "<tr><td>150</td><td>3</td></tr>",
                            "<tr><td>151</td><td>4</td></tr>",
                            "<tr><td>152</td><td>2</td></tr>",
                            "<tr><td>153</td><td>5</td></tr>",
                            "<tr><td>155</td><td>3</td></tr>",
                            "<tr><td>156</td><td>3</td></tr>",
                            "<tr><td>157</td><td>1</td></tr>",
                            "<tr><td>158</td><td>3</td></tr>",
                            "<tr><td>159</td><td>5</td></tr>",
                            "<tr><td>160</td><td>4</td></tr>",
                            "<tr><td>161</td><td>2</td></tr>",
                            "<tr><td>162</td><td>2</td></tr>",
                            "<tr><td>163</td><td>4</td></tr>",
                            "<tr><td>164</td><td>2</td></tr>",
                            "<tr><td>165</td><td>2</td></tr>",
                            "<tr><td>166</td><td>4</td></tr>",
                            "<tr><td>167</td><td>1</td></tr>",
                            "<tr><td>168</td><td>3</td></tr>",
                            "<tr><td>169</td><td>2</td></tr>",
                            "<tr><td>170</td><td>1</td></tr>",
                            "<tr><td>171</td><td>4</td></tr>",
                            "<tr><td>172</td><td>4</td></tr>",
                            "<tr><td>173</td><td>3</td></tr>",
                            "<tr><td>174</td><td>1</td></tr>",
                            "<tr><td>175</td><td>2</td></tr>",
                            "<tr><td>176</td><td>1</td></tr>",
                            "<tr><td>177</td><td>1</td></tr>",
                            "<tr><td>178</td><td>2</td></tr>",
                            "<tr><td>179</td><td>2</td></tr>",
                            "<tr><td>180</td><td>5</td></tr>",
                            "<tr><td>181</td><td>3</td></tr>",
                            "<tr><td>182</td><td>4</td></tr>",
                            "<tr><td>183</td><td>1</td></tr>",
                            "<tr><td>184</td><td>4</td></tr>",
                            "<tr><td>185</td><td>4</td></tr>",
                            "<tr><td>186</td><td>4</td></tr>",
                            "<tr><td>187</td><td>2</td></tr>",
                            "<tr><td>188</td><td>4</td></tr>",
                            "<tr><td>189</td><td>1</td></tr>",
                            "<tr><td>190</td><td>3</td></tr>",
                            "<tr><td>191</td><td>3</td></tr>",
                            "<tr><td>192</td><td>1</td></tr>",
                            "<tr><td>193</td><td>3</td></tr>",
                            "<tr><td>194</td><td>5</td></tr>",
                            "<tr><td>196</td><td>3</td></tr>",
                            "<tr><td>197</td><td>4</td></tr>",
                            "<tr><td>198</td><td>5</td></tr>",
                            "<tr><td>199</td><td>1</td></tr>",
                            "<tr><td>200</td><td>1</td></tr>",
                            "<tr><td>201</td><td>1</td></tr>",
                            "<tr><td>202</td><td>3</td></tr>",
                            "<tr><td>203</td><td>5</td></tr>",
                            "<tr><td>204</td><td>5</td></tr>",
                            "<tr><td>205</td><td>4</td></tr>",
                            "<tr><td>206</td><td>2</td></tr>",
                            "<tr><td>207</td><td>5</td></tr>",
                            "<tr><td>208</td><td>2</td></tr>",
                            "<tr><td>209</td><td>3</td></tr>",
                            "<tr><td>210</td><td>3</td></tr>",
                            "<tr><td>211</td><td>1</td></tr>",
                            "<tr><td>212</td><td>1</td></tr>",
                            "<tr><td>213</td><td>4</td></tr>",
                            "<tr><td>214</td><td>4</td></tr>",
                            "<tr><td>215</td><td>4</td></tr>",
                            "<tr><td>216</td><td>4</td></tr>",
                            "<tr><td>217</td><td>3</td></tr>",
                            "<tr><td>218</td><td>1</td></tr>",
                            "<tr><td>219</td><td>3</td></tr>",
                            "<tr><td>220</td><td>4</td></tr>",
                            "<tr><td>221</td><td>2</td></tr>",
                            "<tr><td>222</td><td>1</td></tr>",
                            "<tr><td>223</td><td>4</td></tr>",
                            "<tr><td>224</td><td>3</td></tr>",
                            "<tr><td>225</td><td>4</td></tr>",
                            "<tr><td>226</td><td>4</td></tr>",
                            "<tr><td>227</td><td>3</td></tr>",
                            "<tr><td>228</td><td>2</td></tr>",
                            "<tr><td>229</td><td>3</td></tr>",
                            "<tr><td>230</td><td>6</td></tr>",
                            "<tr><td>231</td><td>2</td></tr>",
                            "<tr><td>232</td><td>2</td></tr>",
                            "<tr><td>233</td><td>2</td></tr>",
                            "<tr><td>234</td><td>4</td></tr>",
                            "<tr><td>235</td><td>6</td></tr>",
                            "<tr><td>236</td><td>3</td></tr>",
                            "<tr><td>237</td><td>3</td></tr>",
                            "<tr><td>238</td><td>3</td></tr>",
                            "<tr><td>239</td><td>1</td></tr>",
                            "<tr><td>240</td><td>2</td></tr>",
                            "<tr><td>241</td><td>2</td></tr>",
                            "<tr><td>242</td><td>5</td></tr>",
                            "<tr><td>243</td><td>4</td></tr>",
                            "<tr><td>244</td><td>2</td></tr>",
                            "<tr><td>245</td><td>3</td></tr>",
                            "<tr><td>246</td><td>2</td></tr>",
                            "<tr><td>247</td><td>2</td></tr>",
                            "<tr><td>248</td><td>5</td></tr>",
                            "<tr><td>249</td><td>4</td></tr>",
                            "<tr><td>250</td><td>1</td></tr>",
                            "<tr><td>251</td><td>5</td></tr>",
                            "<tr><td>252</td><td>7</td></tr>",
                            "<tr><td>253</td><td>6</td></tr>",
                            "<tr><td>254</td><td>4</td></tr>",
                            "<tr><td>255</td><td>2</td></tr>",
                            "<tr><td>256</td><td>1</td></tr>",
                            "<tr><td>257</td><td>3</td></tr>",
                            "<tr><td>258</td><td>1</td></tr>",
                            "<tr><td>259</td><td>2</td></tr>",
                            "<tr><td>260</td><td>4</td></tr>",
                            "<tr><td>261</td><td>2</td></tr>",
                            "<tr><td>262</td><td>1</td></tr>",
                            "<tr><td>263</td><td>7</td></tr>",
                            "<tr><td>264</td><td>3</td></tr>",
                            "<tr><td>265</td><td>6</td></tr>",
                            "<tr><td>266</td><td>1</td></tr>",
                            "<tr><td>268</td><td>5</td></tr>",
                            "<tr><td>269</td><td>4</td></tr>",
                            "<tr><td>270</td><td>1</td></tr>",
                            "<tr><td>271</td><td>5</td></tr>",
                            "<tr><td>272</td><td>2</td></tr>",
                            "<tr><td>273</td><td>1</td></tr>",
                            "<tr><td>274</td><td>2</td></tr>",
                            "<tr><td>275</td><td>3</td></tr>",
                            "<tr><td>276</td><td>3</td></tr>",
                            "<tr><td>277</td><td>2</td></tr>",
                            "<tr><td>278</td><td>1</td></tr>",
                            "<tr><td>279</td><td>1</td></tr>",
                            "<tr><td>280</td><td>1</td></tr>",
                            "<tr><td>281</td><td>3</td></tr>",
                            "<tr><td>282</td><td>5</td></tr>",
                            "<tr><td>283</td><td>4</td></tr>",
                            "<tr><td>285</td><td>1</td></tr>",
                            "<tr><td>286</td><td>3</td></tr>",
                            "<tr><td>287</td><td>1</td></tr>",
                            "<tr><td>288</td><td>1</td></tr>",
                            "<tr><td>289</td><td>1</td></tr>",
                            "<tr><td>290</td><td>1</td></tr>",
                            "<tr><td>292</td><td>3</td></tr>",
                            "<tr><td>293</td><td>4</td></tr>",
                            "<tr><td>294</td><td>1</td></tr>",
                            "<tr><td>295</td><td>6</td></tr>",
                            "<tr><td>296</td><td>1</td></tr>",
                            "<tr><td>297</td><td>5</td></tr>",
                            "<tr><td>298</td><td>3</td></tr>",
                            "<tr><td>299</td><td>1</td></tr>",
                            "<tr><td>300</td><td>6</td></tr>",
                            "<tr><td>301</td><td>4</td></tr>",
                            "<tr><td>302</td><td>4</td></tr>",
                            "<tr><td>303</td><td>1</td></tr>",
                            "<tr><td>304</td><td>5</td></tr>",
                            "<tr><td>305</td><td>1</td></tr>",
                            "<tr><td>306</td><td>4</td></tr>",
                            "<tr><td>307</td><td>2</td></tr>",
                            "<tr><td>308</td><td>3</td></tr>",
                            "<tr><td>309</td><td>1</td></tr>",
                            "<tr><td>310</td><td>4</td></tr>",
                            "<tr><td>311</td><td>2</td></tr>",
                            "<tr><td>312</td><td>1</td></tr>",
                            "<tr><td>313</td><td>3</td></tr>",
                            "<tr><td>314</td><td>1</td></tr>",
                            "<tr><td>315</td><td>1</td></tr>",
                            "</table>"
                        ]
                    }
                }
            ],
            "execution_count": 12
        },
        {
            "cell_type": "code",
            "source": [
                "SELECT TOP 10\r\n",
                "    product_id AS value, \r\n",
                "    COUNT(*) row_count\r\n",
                "from order_items\r\n",
                "WHERE product_id IS NOT null\r\n",
                "GROUP BY product_id\r\n",
                "ORDER BY COUNT(*) desc"
            ],
            "metadata": {
                "language": "sql",
                "azdata_cell_guid": "2691b27e-33c9-47e6-8d13-11ecda1a3fae"
            },
            "outputs": [
                {
                    "output_type": "display_data",
                    "data": {
                        "text/html": "(10 rows affected)"
                    },
                    "metadata": {}
                },
                {
                    "output_type": "display_data",
                    "data": {
                        "text/html": "Total execution time: 00:00:00.033"
                    },
                    "metadata": {}
                },
                {
                    "output_type": "execute_result",
                    "metadata": {},
                    "execution_count": 13,
                    "data": {
                        "application/vnd.dataresource+json": {
                            "schema": {
                                "fields": [
                                    {
                                        "name": "value"
                                    },
                                    {
                                        "name": "row_count"
                                    }
                                ]
                            },
                            "data": [
                                {
                                    "value": "6",
                                    "row_count": "110"
                                },
                                {
                                    "value": "12",
                                    "row_count": "104"
                                },
                                {
                                    "value": "13",
                                    "row_count": "103"
                                },
                                {
                                    "value": "9",
                                    "row_count": "101"
                                },
                                {
                                    "value": "7",
                                    "row_count": "101"
                                },
                                {
                                    "value": "23",
                                    "row_count": "100"
                                },
                                {
                                    "value": "25",
                                    "row_count": "98"
                                },
                                {
                                    "value": "10",
                                    "row_count": "97"
                                },
                                {
                                    "value": "4",
                                    "row_count": "97"
                                },
                                {
                                    "value": "11",
                                    "row_count": "97"
                                }
                            ]
                        },
                        "text/html": [
                            "<table>",
                            "<tr><th>value</th><th>row_count</th></tr>",
                            "<tr><td>6</td><td>110</td></tr>",
                            "<tr><td>12</td><td>104</td></tr>",
                            "<tr><td>13</td><td>103</td></tr>",
                            "<tr><td>9</td><td>101</td></tr>",
                            "<tr><td>7</td><td>101</td></tr>",
                            "<tr><td>23</td><td>100</td></tr>",
                            "<tr><td>25</td><td>98</td></tr>",
                            "<tr><td>10</td><td>97</td></tr>",
                            "<tr><td>4</td><td>97</td></tr>",
                            "<tr><td>11</td><td>97</td></tr>",
                            "</table>"
                        ]
                    }
                }
            ],
            "execution_count": 13
        }
    ]
}